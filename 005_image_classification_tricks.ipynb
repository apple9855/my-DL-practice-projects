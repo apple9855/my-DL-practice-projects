{
 "cells": [
  {
   "cell_type": "markdown",
   "id": "c588215e-69ef-470f-864c-b6b55f0cfbb7",
   "metadata": {},
   "source": [
    "# 005_image_classification_tricks\n",
    "- when dealing with image classifications, here are some tricks to 📚study:\n",
    "   \n",
    "  - **Normalization**（♾️常规操作，统一的尺度范围 )\n",
    "    标准化图像数据，稳定训练过程\t训练阶段\t使图像的像素值范围统一，避免训练不稳定\n",
    "\n",
    "  - 可选技术：\t\t\t\n",
    "  - **Progressive Resizing-渐进式调整大小**\n",
    "\n",
    " \n",
    "    在训练初期使用小图像，逐步增加图像分辨率（适合计算资源有限、图像尺寸很大）\t*训练阶段* -- 提高训练速度和收敛性，适应不同分辨率的图像学习\n",
    "\n",
    "  - **Test Time Augmentation (TTA)-测试时数据增强**\n",
    "   \n",
    "    在推理阶段对测试数据进行增强，提高模型稳定性\t*测试阶段* -- 对同一张图像应用多种变换，融合多个预测结果得到更准确的输出\n",
    "\n",
    "\n",
    "  - **Mixup-数据混合**\n",
    "\n",
    "    通过将两张图像及标签混合增强样本多样性，避免过拟合（适合小数据集）\t*训练阶段* -- 将两张图像及标签加权平均，生成新的训练样本，提高模型泛化能力\n",
    " \n",
    "    - **Label Smoothing** 互补方法 `loss_func = LabelSmoothingCrossEntropy()`\n",
    "\n",
    "\n",
    "- using a subset of ImageNet called **Imagenette** (selected 10 different categories from ImageNet for quick training)\n",
    "\n",
    "\n",
    "- ⚠️A Hint😅: my device is MacOS M3MAX instead of GPU, however, the example exhibited in fastbook running here is quite slow (around 8 mins per epoch). I had to make some changes to validate these tricks! If you are also mac device user, just read the **MPS Headlines** below (running 45 seconds per epoch!).\n",
    "\n",
    "- *for references:*\n",
    "\n",
    "  - *content resource: **fastbook** #07_sizing_and_tta*\n",
    "  - *ImageNet:: 1.3 million images of various sizes around 500 pixels across, in 1,000 categories, which took a few days to train*\n",
    "  - *MNIST:: 50,000 28×28-pixel grayscale handwritten digits*\n",
    "  - *CIFAR10:: 60,000 32×32-pixel color images in 10 classes*\n"
   ]
  },
  {
   "cell_type": "code",
   "execution_count": 1,
   "id": "4b98ed11-535e-4779-afab-757f1987e910",
   "metadata": {},
   "outputs": [],
   "source": [
    "from fastai.vision.all import *"
   ]
  },
  {
   "cell_type": "code",
   "execution_count": 2,
   "id": "8d525506-d20a-4062-a0d1-4a4ef09bd359",
   "metadata": {},
   "outputs": [],
   "source": [
    "path = untar_data(URLs.IMAGENETTE)"
   ]
  },
  {
   "cell_type": "markdown",
   "id": "1ec913c8-9212-4883-ad1e-58693d39357d",
   "metadata": {},
   "source": [
    "## Create a DLS and baseline model"
   ]
  },
  {
   "cell_type": "code",
   "execution_count": 20,
   "id": "dc2ebec7-6b50-423c-b37b-96d6cc557da2",
   "metadata": {},
   "outputs": [],
   "source": [
    "dblock = DataBlock(blocks=(ImageBlock(), CategoryBlock),\n",
    "                  get_items=get_image_files,\n",
    "                  get_y=parent_label,\n",
    "                  item_tfms=Resize(460),\n",
    "                  batch_tfms=RandomResizedCrop(260, min_scale=0.75))"
   ]
  },
  {
   "cell_type": "code",
   "execution_count": 21,
   "id": "b3b7f7b3-e229-4c4e-8203-0e72f5200b71",
   "metadata": {
    "scrolled": true
   },
   "outputs": [],
   "source": [
    "dls = dblock.dataloaders(path, bs=24)"
   ]
  },
  {
   "cell_type": "markdown",
   "id": "b49eaa4b-aefc-4575-a954-7e7572153401",
   "metadata": {},
   "source": [
    "- ResNet（Residual Network）是一种深度神经网络架构，它使用残差连接（skip connections），帮助缓解训练中梯度消失的问题，并使得网络能够训练更深的层次。\n",
    "- XResNet 是 ResNet 的一种扩展，它改进了网络结构，通常能够在多个计算机视觉任务上取得更好的结果。xresnet50 表示一个由 50 层组成的 XResNet 网络。50 指的是模型的层数。"
   ]
  },
  {
   "cell_type": "code",
   "execution_count": 22,
   "id": "23c597ec-9fa9-464d-bf8c-ede136b85a16",
   "metadata": {
    "scrolled": true
   },
   "outputs": [
    {
     "data": {
      "text/html": [
       "\n",
       "<style>\n",
       "    /* Turns off some styling */\n",
       "    progress {\n",
       "        /* gets rid of default border in Firefox and Opera. */\n",
       "        border: none;\n",
       "        /* Needs to be in here for Safari polyfill so background images work as expected. */\n",
       "        background-size: auto;\n",
       "    }\n",
       "    progress:not([value]), progress:not([value])::-webkit-progress-bar {\n",
       "        background: repeating-linear-gradient(45deg, #7e7e7e, #7e7e7e 10px, #5c5c5c 10px, #5c5c5c 20px);\n",
       "    }\n",
       "    .progress-bar-interrupted, .progress-bar-interrupted::-webkit-progress-bar {\n",
       "        background: #F44336;\n",
       "    }\n",
       "</style>\n"
      ],
      "text/plain": [
       "<IPython.core.display.HTML object>"
      ]
     },
     "metadata": {},
     "output_type": "display_data"
    },
    {
     "data": {
      "text/html": [
       "<table border=\"1\" class=\"dataframe\">\n",
       "  <thead>\n",
       "    <tr style=\"text-align: left;\">\n",
       "      <th>epoch</th>\n",
       "      <th>train_loss</th>\n",
       "      <th>valid_loss</th>\n",
       "      <th>accuracy</th>\n",
       "      <th>time</th>\n",
       "    </tr>\n",
       "  </thead>\n",
       "  <tbody>\n",
       "    <tr>\n",
       "      <td>0</td>\n",
       "      <td>1.648788</td>\n",
       "      <td>2.303311</td>\n",
       "      <td>0.285661</td>\n",
       "      <td>08:36</td>\n",
       "    </tr>\n",
       "    <tr>\n",
       "      <td>1</td>\n",
       "      <td>1.223694</td>\n",
       "      <td>1.552749</td>\n",
       "      <td>0.507842</td>\n",
       "      <td>08:27</td>\n",
       "    </tr>\n",
       "    <tr>\n",
       "      <td>2</td>\n",
       "      <td>0.980092</td>\n",
       "      <td>0.964101</td>\n",
       "      <td>0.712845</td>\n",
       "      <td>08:28</td>\n",
       "    </tr>\n",
       "    <tr>\n",
       "      <td>3</td>\n",
       "      <td>0.761844</td>\n",
       "      <td>0.700170</td>\n",
       "      <td>0.792009</td>\n",
       "      <td>08:29</td>\n",
       "    </tr>\n",
       "    <tr>\n",
       "      <td>4</td>\n",
       "      <td>0.591804</td>\n",
       "      <td>0.610395</td>\n",
       "      <td>0.822255</td>\n",
       "      <td>08:27</td>\n",
       "    </tr>\n",
       "  </tbody>\n",
       "</table>"
      ],
      "text/plain": [
       "<IPython.core.display.HTML object>"
      ]
     },
     "metadata": {},
     "output_type": "display_data"
    }
   ],
   "source": [
    "model = xresnet50(n_out=dls.c) #n_out输出类别数, dls.c数据集的类别数, here is 10\n",
    "learn = Learner(dls, model, loss_func=CrossEntropyLossFlat(), metrics=accuracy)\n",
    "learn.fit_one_cycle(5, 3e-3) #very slow on macOS"
   ]
  },
  {
   "cell_type": "markdown",
   "id": "0eb03e6f-df78-48ea-9664-ab121be9bc42",
   "metadata": {},
   "source": [
    "### MPS - Baseline model\n",
    "From above training, my device is MacOS m3max (device: mps), the training time is really slow (8'30''per epoch)...Fastbook example used rtx3090 GPU only spent 0'30'' per epoch...\n",
    "\n",
    "In order to test the following tricks, I decide to make some changes:\n",
    "- item_tfms to smaller size (460 -> 128)\n",
    "- batch_tfms to smaller size (260 -> 98) \n",
    "- model changes to resnet18 and use the `vision_learner` (includes Normalization already)"
   ]
  },
  {
   "cell_type": "code",
   "execution_count": 3,
   "id": "f9ba68ca-d209-4d7f-b0d8-53609c2f3c51",
   "metadata": {
    "scrolled": true
   },
   "outputs": [],
   "source": [
    "dblock = DataBlock(blocks=(ImageBlock(), CategoryBlock),\n",
    "                  get_items=get_image_files,\n",
    "                  get_y=parent_label,\n",
    "                  item_tfms=Resize(128),\n",
    "                  batch_tfms=RandomResizedCrop(98, min_scale=0.75))\n",
    "\n",
    "dls = dblock.dataloaders(path, bs=32)"
   ]
  },
  {
   "cell_type": "code",
   "execution_count": 4,
   "id": "89323087-3b21-4211-a014-c1d206f59d19",
   "metadata": {},
   "outputs": [],
   "source": [
    "model = resnet18(num_classes=dls.c)\n",
    "learn = vision_learner(dls, resnet18, metrics=accuracy)"
   ]
  },
  {
   "cell_type": "code",
   "execution_count": 5,
   "id": "6ce15be3-5291-4708-a1ec-cb2ca7bbf8ba",
   "metadata": {},
   "outputs": [
    {
     "data": {
      "text/html": [
       "\n",
       "<style>\n",
       "    /* Turns off some styling */\n",
       "    progress {\n",
       "        /* gets rid of default border in Firefox and Opera. */\n",
       "        border: none;\n",
       "        /* Needs to be in here for Safari polyfill so background images work as expected. */\n",
       "        background-size: auto;\n",
       "    }\n",
       "    progress:not([value]), progress:not([value])::-webkit-progress-bar {\n",
       "        background: repeating-linear-gradient(45deg, #7e7e7e, #7e7e7e 10px, #5c5c5c 10px, #5c5c5c 20px);\n",
       "    }\n",
       "    .progress-bar-interrupted, .progress-bar-interrupted::-webkit-progress-bar {\n",
       "        background: #F44336;\n",
       "    }\n",
       "</style>\n"
      ],
      "text/plain": [
       "<IPython.core.display.HTML object>"
      ]
     },
     "metadata": {},
     "output_type": "display_data"
    },
    {
     "data": {
      "text/html": [],
      "text/plain": [
       "<IPython.core.display.HTML object>"
      ]
     },
     "metadata": {},
     "output_type": "display_data"
    },
    {
     "data": {
      "text/plain": [
       "SuggestedLRs(valley=0.001737800776027143)"
      ]
     },
     "execution_count": 5,
     "metadata": {},
     "output_type": "execute_result"
    },
    {
     "data": {
      "image/png": "[encoded data removed]",
      "text/plain": [
       "<Figure size 640x480 with 1 Axes>"
      ]
     },
     "metadata": {},
     "output_type": "display_data"
    }
   ],
   "source": [
    "learn.lr_find()"
   ]
  },
  {
   "cell_type": "code",
   "execution_count": 6,
   "id": "9808c821-4595-4ca9-9d62-bf6a0e9b2191",
   "metadata": {},
   "outputs": [
    {
     "data": {
      "text/html": [
       "\n",
       "<style>\n",
       "    /* Turns off some styling */\n",
       "    progress {\n",
       "        /* gets rid of default border in Firefox and Opera. */\n",
       "        border: none;\n",
       "        /* Needs to be in here for Safari polyfill so background images work as expected. */\n",
       "        background-size: auto;\n",
       "    }\n",
       "    progress:not([value]), progress:not([value])::-webkit-progress-bar {\n",
       "        background: repeating-linear-gradient(45deg, #7e7e7e, #7e7e7e 10px, #5c5c5c 10px, #5c5c5c 20px);\n",
       "    }\n",
       "    .progress-bar-interrupted, .progress-bar-interrupted::-webkit-progress-bar {\n",
       "        background: #F44336;\n",
       "    }\n",
       "</style>\n"
      ],
      "text/plain": [
       "<IPython.core.display.HTML object>"
      ]
     },
     "metadata": {},
     "output_type": "display_data"
    },
    {
     "data": {
      "text/html": [
       "<table border=\"1\" class=\"dataframe\">\n",
       "  <thead>\n",
       "    <tr style=\"text-align: left;\">\n",
       "      <th>epoch</th>\n",
       "      <th>train_loss</th>\n",
       "      <th>valid_loss</th>\n",
       "      <th>accuracy</th>\n",
       "      <th>time</th>\n",
       "    </tr>\n",
       "  </thead>\n",
       "  <tbody>\n",
       "    <tr>\n",
       "      <td>0</td>\n",
       "      <td>0.495304</td>\n",
       "      <td>0.324447</td>\n",
       "      <td>0.907767</td>\n",
       "      <td>00:46</td>\n",
       "    </tr>\n",
       "    <tr>\n",
       "      <td>1</td>\n",
       "      <td>0.443975</td>\n",
       "      <td>0.289220</td>\n",
       "      <td>0.905527</td>\n",
       "      <td>00:46</td>\n",
       "    </tr>\n",
       "    <tr>\n",
       "      <td>2</td>\n",
       "      <td>0.354204</td>\n",
       "      <td>0.247439</td>\n",
       "      <td>0.921210</td>\n",
       "      <td>00:46</td>\n",
       "    </tr>\n",
       "    <tr>\n",
       "      <td>3</td>\n",
       "      <td>0.253806</td>\n",
       "      <td>0.233607</td>\n",
       "      <td>0.919343</td>\n",
       "      <td>00:47</td>\n",
       "    </tr>\n",
       "  </tbody>\n",
       "</table>"
      ],
      "text/plain": [
       "<IPython.core.display.HTML object>"
      ]
     },
     "metadata": {},
     "output_type": "display_data"
    }
   ],
   "source": [
    "learn.fit_one_cycle(4, 3e-3)"
   ]
  },
  {
   "cell_type": "markdown",
   "id": "44f47eda-4a80-4fbe-9b24-6d69b3d18af6",
   "metadata": {},
   "source": [
    "After some changes, the computing speed is much faster than original learner! 0'46''per epoch now with higher accuracy (around 0.92)! Now here is my baseline 😌"
   ]
  },
  {
   "cell_type": "markdown",
   "id": "ccf64ed9-588f-4df4-a08c-27fcadf27e27",
   "metadata": {
    "jp-MarkdownHeadingCollapsed": true
   },
   "source": [
    "## Normalization\n",
    "\n",
    "- goal: transfer the data mean=0, std=1 to accelerate training and its stability. -> becomes especially important when using pretrained models\n",
    "- Imagenette 是一个较小的数据集，它是从 ImageNet 中选出的，因此 ImageNet 的均值和标准差 可以用于对 Imagenette 数据集进行标准化。\n",
    "- 使用预训练模型时，通常会使用 ImageNet 的统计数据（均值和标准差）来标准化图像，以确保输入数据的分布与预训练模型相符。\n",
    "  如：`Normalize.from_stats(*imagenet_stats)`\n",
    "- 通常在每次批次（batch）上进行，不会显著影响性能或耗时，尤其是在使用现代框架时。\n",
    "- Normalization usually is automatically added in `vision_learner`; if not using vision_learner, should be included in `DataBlock()`."
   ]
  },
  {
   "cell_type": "code",
   "execution_count": 23,
   "id": "fda2e813-d12d-4eae-bf30-5c168afe1312",
   "metadata": {},
   "outputs": [
    {
     "data": {
      "text/plain": [
       "(TensorImage([0.4427, 0.4235, 0.4038], device='mps:0'),\n",
       " TensorImage([0.2722, 0.2672, 0.2951], device='mps:0'))"
      ]
     },
     "execution_count": 23,
     "metadata": {},
     "output_type": "execute_result"
    }
   ],
   "source": [
    "x,y = dls.one_batch()\n",
    "x.mean(dim=[0,2,3]), x.std(dim=[0,2,3]) #except the channel axis 1"
   ]
  },
  {
   "cell_type": "code",
   "execution_count": 36,
   "id": "e7d26638-3eb4-4c8e-a0a4-7d95b05e9102",
   "metadata": {},
   "outputs": [],
   "source": [
    "def get_dls(bs, size):\n",
    "    dblock = DataBlock(blocks=(ImageBlock(), CategoryBlock),\n",
    "                  get_items=get_image_files,\n",
    "                  get_y=parent_label,\n",
    "                  item_tfms=Resize(460),\n",
    "                  batch_tfms=[RandomResizedCrop(size, min_scale=0.75),\n",
    "                             Normalize.from_stats(*imagenet_stats)])\n",
    "    return dblock.dataloaders(path, bs=bs)"
   ]
  },
  {
   "cell_type": "markdown",
   "id": "9da79422-e1b4-4c73-9062-e0e9f43d5145",
   "metadata": {},
   "source": [
    "`*imagenet_stats`相当于`imagenet_stats = ([0.485, 0.456, 0.406], [0.229, 0.224, 0.225])` --由整个imagenet数据得出。\n",
    "- 如果遇到新数据集：\n",
    "\n",
    "计算整个数据集的均值和标准差：\n",
    "`mean, std = dls.train.x.mean(dim=[0,2,3]), dls.train.x.std(dim=[0,2,3])`"
   ]
  },
  {
   "cell_type": "code",
   "execution_count": 37,
   "id": "7a9f587b-6532-4a18-8b15-a53e56f5ab47",
   "metadata": {
    "scrolled": true
   },
   "outputs": [
    {
     "data": {
      "text/plain": [
       "(TensorImage([-0.1099, -0.0711,  0.0485], device='mps:0'),\n",
       " TensorImage([1.2566, 1.2127, 1.3356], device='mps:0'))"
      ]
     },
     "execution_count": 37,
     "metadata": {},
     "output_type": "execute_result"
    }
   ],
   "source": [
    "dls = get_dls(64, 224)\n",
    "x,y = dls.one_batch()\n",
    "x.mean(dim=[0,2,3]), x.std(dim=[0,2,3])"
   ]
  },
  {
   "cell_type": "code",
   "execution_count": null,
   "id": "bfa5ce73-15ab-48e3-a489-c1a0c32f8c82",
   "metadata": {},
   "outputs": [
    {
     "data": {
      "text/html": [
       "<table border=\"1\" class=\"dataframe\">\n",
       "  <thead>\n",
       "    <tr style=\"text-align: left;\">\n",
       "      <th>epoch</th>\n",
       "      <th>train_loss</th>\n",
       "      <th>valid_loss</th>\n",
       "      <th>accuracy</th>\n",
       "      <th>time</th>\n",
       "    </tr>\n",
       "  </thead>\n",
       "  <tbody>\n",
       "    <tr>\n",
       "      <td>0</td>\n",
       "      <td>1.632865</td>\n",
       "      <td>2.250024</td>\n",
       "      <td>0.391337</td>\n",
       "      <td>01:02</td>\n",
       "    </tr>\n",
       "    <tr>\n",
       "      <td>1</td>\n",
       "      <td>1.294041</td>\n",
       "      <td>1.579932</td>\n",
       "      <td>0.517177</td>\n",
       "      <td>01:02</td>\n",
       "    </tr>\n",
       "    <tr>\n",
       "      <td>2</td>\n",
       "      <td>0.960535</td>\n",
       "      <td>1.069164</td>\n",
       "      <td>0.657207</td>\n",
       "      <td>01:04</td>\n",
       "    </tr>\n",
       "    <tr>\n",
       "      <td>3</td>\n",
       "      <td>0.730220</td>\n",
       "      <td>0.767433</td>\n",
       "      <td>0.771845</td>\n",
       "      <td>01:05</td>\n",
       "    </tr>\n",
       "    <tr>\n",
       "      <td>4</td>\n",
       "      <td>0.577889</td>\n",
       "      <td>0.550673</td>\n",
       "      <td>0.824496</td>\n",
       "      <td>01:06</td>\n",
       "    </tr>\n",
       "  </tbody>\n",
       "</table>"
      ],
      "text/plain": [
       "<IPython.core.display.HTML object>"
      ]
     },
     "metadata": {},
     "output_type": "display_data"
    }
   ],
   "source": [
    "model = xresnet50(n_out=dls.c)\n",
    "learn = Learner(dls, model, loss_func=CrossEntropyLossFlat(), metrics=accuracy)\n",
    "learn.fit_one_cycle(5, 3e-3)"
   ]
  },
  {
   "cell_type": "markdown",
   "id": "c7ff461d-83c9-43dc-bb5f-e3a48130c403",
   "metadata": {},
   "source": [
    "## Progressive Resizing\n",
    "what it is: start training using small images, and end training using large images. Spending most of the epochs training with small images, helps training complete much faster. Completing training using large images makes the final accuracy much higher."
   ]
  },
  {
   "cell_type": "code",
   "execution_count": 44,
   "id": "68a4c6b1-7f2d-4a22-a16d-00b0f524f95d",
   "metadata": {},
   "outputs": [
    {
     "data": {
      "text/html": [
       "\n",
       "<style>\n",
       "    /* Turns off some styling */\n",
       "    progress {\n",
       "        /* gets rid of default border in Firefox and Opera. */\n",
       "        border: none;\n",
       "        /* Needs to be in here for Safari polyfill so background images work as expected. */\n",
       "        background-size: auto;\n",
       "    }\n",
       "    progress:not([value]), progress:not([value])::-webkit-progress-bar {\n",
       "        background: repeating-linear-gradient(45deg, #7e7e7e, #7e7e7e 10px, #5c5c5c 10px, #5c5c5c 20px);\n",
       "    }\n",
       "    .progress-bar-interrupted, .progress-bar-interrupted::-webkit-progress-bar {\n",
       "        background: #F44336;\n",
       "    }\n",
       "</style>\n"
      ],
      "text/plain": [
       "<IPython.core.display.HTML object>"
      ]
     },
     "metadata": {},
     "output_type": "display_data"
    },
    {
     "data": {
      "text/html": [
       "<table border=\"1\" class=\"dataframe\">\n",
       "  <thead>\n",
       "    <tr style=\"text-align: left;\">\n",
       "      <th>epoch</th>\n",
       "      <th>train_loss</th>\n",
       "      <th>valid_loss</th>\n",
       "      <th>accuracy</th>\n",
       "      <th>time</th>\n",
       "    </tr>\n",
       "  </thead>\n",
       "  <tbody>\n",
       "    <tr>\n",
       "      <td>0</td>\n",
       "      <td>1.586073</td>\n",
       "      <td>1.775445</td>\n",
       "      <td>0.415982</td>\n",
       "      <td>05:12</td>\n",
       "    </tr>\n",
       "    <tr>\n",
       "      <td>1</td>\n",
       "      <td>1.202580</td>\n",
       "      <td>1.480215</td>\n",
       "      <td>0.586632</td>\n",
       "      <td>05:44</td>\n",
       "    </tr>\n",
       "    <tr>\n",
       "      <td>2</td>\n",
       "      <td>0.902410</td>\n",
       "      <td>0.794755</td>\n",
       "      <td>0.744959</td>\n",
       "      <td>05:13</td>\n",
       "    </tr>\n",
       "    <tr>\n",
       "      <td>3</td>\n",
       "      <td>0.689305</td>\n",
       "      <td>0.650899</td>\n",
       "      <td>0.804705</td>\n",
       "      <td>05:25</td>\n",
       "    </tr>\n",
       "  </tbody>\n",
       "</table>"
      ],
      "text/plain": [
       "<IPython.core.display.HTML object>"
      ]
     },
     "metadata": {},
     "output_type": "display_data"
    }
   ],
   "source": [
    "dls = get_dls(64,128) # 第一次训练：较小的图像尺寸和较大的批次大小\n",
    "learn = Learner(dls, xresnet34(n_out=dls.c), loss_func=CrossEntropyLossFlat(), metrics=accuracy) #resnet50 too slow in mps\n",
    "learn.fit_one_cycle(4, 3e-3)"
   ]
  },
  {
   "cell_type": "code",
   "execution_count": 45,
   "id": "10718ab4-6c49-4b12-91d9-b5eb0b60968c",
   "metadata": {},
   "outputs": [
    {
     "data": {
      "text/html": [
       "\n",
       "<style>\n",
       "    /* Turns off some styling */\n",
       "    progress {\n",
       "        /* gets rid of default border in Firefox and Opera. */\n",
       "        border: none;\n",
       "        /* Needs to be in here for Safari polyfill so background images work as expected. */\n",
       "        background-size: auto;\n",
       "    }\n",
       "    progress:not([value]), progress:not([value])::-webkit-progress-bar {\n",
       "        background: repeating-linear-gradient(45deg, #7e7e7e, #7e7e7e 10px, #5c5c5c 10px, #5c5c5c 20px);\n",
       "    }\n",
       "    .progress-bar-interrupted, .progress-bar-interrupted::-webkit-progress-bar {\n",
       "        background: #F44336;\n",
       "    }\n",
       "</style>\n"
      ],
      "text/plain": [
       "<IPython.core.display.HTML object>"
      ]
     },
     "metadata": {},
     "output_type": "display_data"
    },
    {
     "data": {
      "text/html": [
       "<table border=\"1\" class=\"dataframe\">\n",
       "  <thead>\n",
       "    <tr style=\"text-align: left;\">\n",
       "      <th>epoch</th>\n",
       "      <th>train_loss</th>\n",
       "      <th>valid_loss</th>\n",
       "      <th>accuracy</th>\n",
       "      <th>time</th>\n",
       "    </tr>\n",
       "  </thead>\n",
       "  <tbody>\n",
       "    <tr>\n",
       "      <td>0</td>\n",
       "      <td>0.798924</td>\n",
       "      <td>0.751305</td>\n",
       "      <td>0.773712</td>\n",
       "      <td>04:58</td>\n",
       "    </tr>\n",
       "  </tbody>\n",
       "</table>"
      ],
      "text/plain": [
       "<IPython.core.display.HTML object>"
      ]
     },
     "metadata": {},
     "output_type": "display_data"
    },
    {
     "data": {
      "text/html": [
       "\n",
       "<style>\n",
       "    /* Turns off some styling */\n",
       "    progress {\n",
       "        /* gets rid of default border in Firefox and Opera. */\n",
       "        border: none;\n",
       "        /* Needs to be in here for Safari polyfill so background images work as expected. */\n",
       "        background-size: auto;\n",
       "    }\n",
       "    progress:not([value]), progress:not([value])::-webkit-progress-bar {\n",
       "        background: repeating-linear-gradient(45deg, #7e7e7e, #7e7e7e 10px, #5c5c5c 10px, #5c5c5c 20px);\n",
       "    }\n",
       "    .progress-bar-interrupted, .progress-bar-interrupted::-webkit-progress-bar {\n",
       "        background: #F44336;\n",
       "    }\n",
       "</style>\n"
      ],
      "text/plain": [
       "<IPython.core.display.HTML object>"
      ]
     },
     "metadata": {},
     "output_type": "display_data"
    },
    {
     "data": {
      "text/html": [
       "<table border=\"1\" class=\"dataframe\">\n",
       "  <thead>\n",
       "    <tr style=\"text-align: left;\">\n",
       "      <th>epoch</th>\n",
       "      <th>train_loss</th>\n",
       "      <th>valid_loss</th>\n",
       "      <th>accuracy</th>\n",
       "      <th>time</th>\n",
       "    </tr>\n",
       "  </thead>\n",
       "  <tbody>\n",
       "    <tr>\n",
       "      <td>0</td>\n",
       "      <td>0.690535</td>\n",
       "      <td>0.712559</td>\n",
       "      <td>0.775952</td>\n",
       "      <td>05:07</td>\n",
       "    </tr>\n",
       "    <tr>\n",
       "      <td>1</td>\n",
       "      <td>0.683097</td>\n",
       "      <td>0.699285</td>\n",
       "      <td>0.788648</td>\n",
       "      <td>04:57</td>\n",
       "    </tr>\n",
       "    <tr>\n",
       "      <td>2</td>\n",
       "      <td>0.597943</td>\n",
       "      <td>0.609970</td>\n",
       "      <td>0.812173</td>\n",
       "      <td>04:47</td>\n",
       "    </tr>\n",
       "    <tr>\n",
       "      <td>3</td>\n",
       "      <td>0.499342</td>\n",
       "      <td>0.495658</td>\n",
       "      <td>0.847274</td>\n",
       "      <td>04:42</td>\n",
       "    </tr>\n",
       "    <tr>\n",
       "      <td>4</td>\n",
       "      <td>0.448878</td>\n",
       "      <td>0.467433</td>\n",
       "      <td>0.855489</td>\n",
       "      <td>04:43</td>\n",
       "    </tr>\n",
       "  </tbody>\n",
       "</table>"
      ],
      "text/plain": [
       "<IPython.core.display.HTML object>"
      ]
     },
     "metadata": {},
     "output_type": "display_data"
    }
   ],
   "source": [
    "learn.dls = get_dls(32, 224) # 第二次训练：较大的图像尺寸和较小的批次大小\n",
    "learn.fine_tune(5, 1e-3) #更小的lr"
   ]
  },
  {
   "cell_type": "markdown",
   "id": "e8ff6ed8-bff0-4a5e-9973-3a77cfc31473",
   "metadata": {},
   "source": [
    "### MPS: Add Progressive Resizing"
   ]
  },
  {
   "cell_type": "code",
   "execution_count": 8,
   "id": "a6e6700c-e53e-4331-9d63-2919bdcc6de0",
   "metadata": {},
   "outputs": [],
   "source": [
    "#re-define get_dls() function:\n",
    "def get_dls(bs, size):\n",
    "    dblock = DataBlock(blocks=(ImageBlock(),CategoryBlock()),\n",
    "                      get_items=get_image_files,\n",
    "                      get_y=parent_label,\n",
    "                      item_tfms=Resize(128),\n",
    "                      batch_tfms=RandomResizedCrop(size, min_scale=0.75))\n",
    "    return dblock.dataloaders(path, bs=bs)"
   ]
  },
  {
   "cell_type": "code",
   "execution_count": 9,
   "id": "9933dbb9-3ccf-48de-b260-c1bf66f3d78e",
   "metadata": {},
   "outputs": [
    {
     "data": {
      "text/html": [
       "\n",
       "<style>\n",
       "    /* Turns off some styling */\n",
       "    progress {\n",
       "        /* gets rid of default border in Firefox and Opera. */\n",
       "        border: none;\n",
       "        /* Needs to be in here for Safari polyfill so background images work as expected. */\n",
       "        background-size: auto;\n",
       "    }\n",
       "    progress:not([value]), progress:not([value])::-webkit-progress-bar {\n",
       "        background: repeating-linear-gradient(45deg, #7e7e7e, #7e7e7e 10px, #5c5c5c 10px, #5c5c5c 20px);\n",
       "    }\n",
       "    .progress-bar-interrupted, .progress-bar-interrupted::-webkit-progress-bar {\n",
       "        background: #F44336;\n",
       "    }\n",
       "</style>\n"
      ],
      "text/plain": [
       "<IPython.core.display.HTML object>"
      ]
     },
     "metadata": {},
     "output_type": "display_data"
    },
    {
     "data": {
      "text/html": [
       "<table border=\"1\" class=\"dataframe\">\n",
       "  <thead>\n",
       "    <tr style=\"text-align: left;\">\n",
       "      <th>epoch</th>\n",
       "      <th>train_loss</th>\n",
       "      <th>valid_loss</th>\n",
       "      <th>accuracy</th>\n",
       "      <th>time</th>\n",
       "    </tr>\n",
       "  </thead>\n",
       "  <tbody>\n",
       "    <tr>\n",
       "      <td>0</td>\n",
       "      <td>0.397299</td>\n",
       "      <td>0.291441</td>\n",
       "      <td>0.917102</td>\n",
       "      <td>00:45</td>\n",
       "    </tr>\n",
       "    <tr>\n",
       "      <td>1</td>\n",
       "      <td>0.356374</td>\n",
       "      <td>0.263499</td>\n",
       "      <td>0.914862</td>\n",
       "      <td>00:43</td>\n",
       "    </tr>\n",
       "    <tr>\n",
       "      <td>2</td>\n",
       "      <td>0.280798</td>\n",
       "      <td>0.240041</td>\n",
       "      <td>0.925691</td>\n",
       "      <td>00:44</td>\n",
       "    </tr>\n",
       "    <tr>\n",
       "      <td>3</td>\n",
       "      <td>0.213126</td>\n",
       "      <td>0.229397</td>\n",
       "      <td>0.926811</td>\n",
       "      <td>00:44</td>\n",
       "    </tr>\n",
       "  </tbody>\n",
       "</table>"
      ],
      "text/plain": [
       "<IPython.core.display.HTML object>"
      ]
     },
     "metadata": {},
     "output_type": "display_data"
    }
   ],
   "source": [
    "#1st training with smaller size \n",
    "dls = get_dls(48, 48)\n",
    "learner = vision_learner(dls, resnet18, metrics=accuracy)\n",
    "learner.fit_one_cycle(4, 3e-3)"
   ]
  },
  {
   "cell_type": "markdown",
   "id": "e9252d43-d703-4630-bb4a-6430b4326f97",
   "metadata": {},
   "source": [
    "- baseline -> now : batch=32 -> 48, image size=98 -> 48\n",
    "- accuracy **>0.925**, a little bit improve 🙂"
   ]
  },
  {
   "cell_type": "code",
   "execution_count": 12,
   "id": "c3b60efb-a003-44e3-bc0f-bc5fb628fe34",
   "metadata": {},
   "outputs": [
    {
     "data": {
      "text/html": [
       "\n",
       "<style>\n",
       "    /* Turns off some styling */\n",
       "    progress {\n",
       "        /* gets rid of default border in Firefox and Opera. */\n",
       "        border: none;\n",
       "        /* Needs to be in here for Safari polyfill so background images work as expected. */\n",
       "        background-size: auto;\n",
       "    }\n",
       "    progress:not([value]), progress:not([value])::-webkit-progress-bar {\n",
       "        background: repeating-linear-gradient(45deg, #7e7e7e, #7e7e7e 10px, #5c5c5c 10px, #5c5c5c 20px);\n",
       "    }\n",
       "    .progress-bar-interrupted, .progress-bar-interrupted::-webkit-progress-bar {\n",
       "        background: #F44336;\n",
       "    }\n",
       "</style>\n"
      ],
      "text/plain": [
       "<IPython.core.display.HTML object>"
      ]
     },
     "metadata": {},
     "output_type": "display_data"
    },
    {
     "data": {
      "text/html": [
       "<table border=\"1\" class=\"dataframe\">\n",
       "  <thead>\n",
       "    <tr style=\"text-align: left;\">\n",
       "      <th>epoch</th>\n",
       "      <th>train_loss</th>\n",
       "      <th>valid_loss</th>\n",
       "      <th>accuracy</th>\n",
       "      <th>time</th>\n",
       "    </tr>\n",
       "  </thead>\n",
       "  <tbody>\n",
       "    <tr>\n",
       "      <td>0</td>\n",
       "      <td>0.285308</td>\n",
       "      <td>0.138546</td>\n",
       "      <td>0.955937</td>\n",
       "      <td>00:46</td>\n",
       "    </tr>\n",
       "  </tbody>\n",
       "</table>"
      ],
      "text/plain": [
       "<IPython.core.display.HTML object>"
      ]
     },
     "metadata": {},
     "output_type": "display_data"
    },
    {
     "data": {
      "text/html": [
       "\n",
       "<style>\n",
       "    /* Turns off some styling */\n",
       "    progress {\n",
       "        /* gets rid of default border in Firefox and Opera. */\n",
       "        border: none;\n",
       "        /* Needs to be in here for Safari polyfill so background images work as expected. */\n",
       "        background-size: auto;\n",
       "    }\n",
       "    progress:not([value]), progress:not([value])::-webkit-progress-bar {\n",
       "        background: repeating-linear-gradient(45deg, #7e7e7e, #7e7e7e 10px, #5c5c5c 10px, #5c5c5c 20px);\n",
       "    }\n",
       "    .progress-bar-interrupted, .progress-bar-interrupted::-webkit-progress-bar {\n",
       "        background: #F44336;\n",
       "    }\n",
       "</style>\n"
      ],
      "text/plain": [
       "<IPython.core.display.HTML object>"
      ]
     },
     "metadata": {},
     "output_type": "display_data"
    },
    {
     "data": {
      "text/html": [
       "<table border=\"1\" class=\"dataframe\">\n",
       "  <thead>\n",
       "    <tr style=\"text-align: left;\">\n",
       "      <th>epoch</th>\n",
       "      <th>train_loss</th>\n",
       "      <th>valid_loss</th>\n",
       "      <th>accuracy</th>\n",
       "      <th>time</th>\n",
       "    </tr>\n",
       "  </thead>\n",
       "  <tbody>\n",
       "    <tr>\n",
       "      <td>0</td>\n",
       "      <td>0.257064</td>\n",
       "      <td>0.142240</td>\n",
       "      <td>0.955564</td>\n",
       "      <td>00:52</td>\n",
       "    </tr>\n",
       "    <tr>\n",
       "      <td>1</td>\n",
       "      <td>0.234063</td>\n",
       "      <td>0.131057</td>\n",
       "      <td>0.957057</td>\n",
       "      <td>00:52</td>\n",
       "    </tr>\n",
       "    <tr>\n",
       "      <td>2</td>\n",
       "      <td>0.116793</td>\n",
       "      <td>0.119836</td>\n",
       "      <td>0.959298</td>\n",
       "      <td>00:52</td>\n",
       "    </tr>\n",
       "  </tbody>\n",
       "</table>"
      ],
      "text/plain": [
       "<IPython.core.display.HTML object>"
      ]
     },
     "metadata": {},
     "output_type": "display_data"
    }
   ],
   "source": [
    "#2nd fine_tune\n",
    "learner.dls = get_dls(32,98)\n",
    "learner.fine_tune(3, 1e-3)"
   ]
  },
  {
   "cell_type": "markdown",
   "id": "649d1581-f36e-43b9-95f0-20eb338c898b",
   "metadata": {},
   "source": [
    "From the fine-tuned result, I feel that the Progressive Resizing trick is quite useful!\n",
    "\n",
    "- training -> fine_tune : batch=48 -> 32, image size=48 -> 98\n",
    "- accuracy **>0.955**, much more improvements!! 👍 (baseline acc is 0.92)"
   ]
  },
  {
   "cell_type": "markdown",
   "id": "ba7d022f-6932-4f47-a280-60e74a2906e2",
   "metadata": {},
   "source": [
    "## Test Time Augmentation (TTA)\n",
    "**During inference or validation**, creating *multiple versions* of each image, using data augmentation, and then taking the average or maximum of the predictions for each augmented version of the image.\n",
    "\n",
    "- 计算开销：TTA 会显著增加推理的计算开销，因为它需要对每个图像进行多次推理。因此，在使用时需要权衡计算时间和准确度提升之间的关系。\n",
    "- 适用场景：TTA 最常用于 分类任务，尤其是当你希望提高测试阶段的模型稳定性和准确性时。在实际应用中，TTA 在 Kaggle 比赛 和 验证集推理 中经常被用来提升模型效果。\n"
   ]
  },
  {
   "cell_type": "code",
   "execution_count": null,
   "id": "823dbc35-1369-4a5b-bdfb-e451926fa164",
   "metadata": {},
   "outputs": [],
   "source": [
    "preds, targets = learn.tta()"
   ]
  },
  {
   "cell_type": "code",
   "execution_count": 47,
   "id": "375388c0-53ef-479b-837a-80e37ba51fa6",
   "metadata": {},
   "outputs": [
    {
     "data": {
      "text/plain": [
       "0.855862557888031"
      ]
     },
     "execution_count": 47,
     "metadata": {},
     "output_type": "execute_result"
    }
   ],
   "source": [
    "accuracy(preds, targets).item() # >0.855489 tta稍高于last epoch training"
   ]
  },
  {
   "cell_type": "markdown",
   "id": "2520a652-e73c-4aa7-9c06-1330deab38d4",
   "metadata": {},
   "source": [
    "### MPS: Add TTA"
   ]
  },
  {
   "cell_type": "code",
   "execution_count": 13,
   "id": "73d32917-828b-48f1-9484-06a28acc1554",
   "metadata": {},
   "outputs": [
    {
     "data": {
      "text/html": [
       "\n",
       "<style>\n",
       "    /* Turns off some styling */\n",
       "    progress {\n",
       "        /* gets rid of default border in Firefox and Opera. */\n",
       "        border: none;\n",
       "        /* Needs to be in here for Safari polyfill so background images work as expected. */\n",
       "        background-size: auto;\n",
       "    }\n",
       "    progress:not([value]), progress:not([value])::-webkit-progress-bar {\n",
       "        background: repeating-linear-gradient(45deg, #7e7e7e, #7e7e7e 10px, #5c5c5c 10px, #5c5c5c 20px);\n",
       "    }\n",
       "    .progress-bar-interrupted, .progress-bar-interrupted::-webkit-progress-bar {\n",
       "        background: #F44336;\n",
       "    }\n",
       "</style>\n"
      ],
      "text/plain": [
       "<IPython.core.display.HTML object>"
      ]
     },
     "metadata": {},
     "output_type": "display_data"
    },
    {
     "data": {
      "text/html": [
       "\n",
       "    <div>\n",
       "      <progress value='0' class='' max='3' style='width:300px; height:20px; vertical-align: middle;'></progress>\n",
       "      \n",
       "    </div>\n",
       "    \n"
      ],
      "text/plain": [
       "<IPython.core.display.HTML object>"
      ]
     },
     "metadata": {},
     "output_type": "display_data"
    },
    {
     "data": {
      "text/html": [
       "\n",
       "<style>\n",
       "    /* Turns off some styling */\n",
       "    progress {\n",
       "        /* gets rid of default border in Firefox and Opera. */\n",
       "        border: none;\n",
       "        /* Needs to be in here for Safari polyfill so background images work as expected. */\n",
       "        background-size: auto;\n",
       "    }\n",
       "    progress:not([value]), progress:not([value])::-webkit-progress-bar {\n",
       "        background: repeating-linear-gradient(45deg, #7e7e7e, #7e7e7e 10px, #5c5c5c 10px, #5c5c5c 20px);\n",
       "    }\n",
       "    .progress-bar-interrupted, .progress-bar-interrupted::-webkit-progress-bar {\n",
       "        background: #F44336;\n",
       "    }\n",
       "</style>\n"
      ],
      "text/plain": [
       "<IPython.core.display.HTML object>"
      ]
     },
     "metadata": {},
     "output_type": "display_data"
    },
    {
     "data": {
      "text/html": [],
      "text/plain": [
       "<IPython.core.display.HTML object>"
      ]
     },
     "metadata": {},
     "output_type": "display_data"
    },
    {
     "data": {
      "text/plain": [
       "0.968259871006012"
      ]
     },
     "execution_count": 13,
     "metadata": {},
     "output_type": "execute_result"
    }
   ],
   "source": [
    "pred_mps, targ_mps = learner.tta()\n",
    "accuracy(pred_mps, targ_mps).item()"
   ]
  },
  {
   "cell_type": "markdown",
   "id": "23f11c84-8c5a-43af-a9bc-233ae6a2fff0",
   "metadata": {},
   "source": [
    "😁 **accuracy=0.968**, even more improvement!! (baseline acc is 0.92; add Progressive resizing acc is 0.955)"
   ]
  },
  {
   "cell_type": "markdown",
   "id": "d7fda738-3b3f-457f-8a15-b793e11c6b54",
   "metadata": {},
   "source": [
    "## MixUp\n",
    "\n",
    "- 通过`线性插值`方式将两张图像及其标签进行混合，从而生成新的样本。这种技术特别适用于`多类别分类任务`，有助于*防止过拟合*和*提高模型的泛化能力*。\n",
    "\n",
    "  - MixUp 随机选取两张图像及其对应的标签 (x1, y1) 和 (x2, y2); λ 是从 Beta 分布 中采样得到的随机值（λ 的值在 [0, 1] 之间)\n",
    "\n",
    "    `x = λ * x1 + (1 - λ) * x2 , y = λ * y1 + (1 - λ) * y2`\n",
    "- as a **callback** `learn = Learner(dls, model, loss_func=CrossEntropyLossFlat(), metrics=accuracy, cbs=MixUp())`\n",
    "\n",
    "  \n",
    "- MixUp 在模型已经学习了基本特征后才有效，所以需要更多的训练周期（eg. epochs>80 时use MixUp()有明显提升)\n",
    "- 不仅限于vision，有人试过using `Mixup on activations` inside their models-> allows Mixup to be used for NLP and other data types too! 即`Activation MixUp` --通过对模型中间层的激活值(eg. a1,a2)进行混合，来增强模型的表示能力。\n",
    "  - 计算softmax或sigmoid never equals to 1s or 0s, but Activation MixUp will push models closer more to 1s or 0s with more epochs training\n"
   ]
  },
  {
   "cell_type": "code",
   "execution_count": 48,
   "id": "04f7fa47-6488-40af-bd90-00ee643e0f61",
   "metadata": {
    "scrolled": true
   },
   "outputs": [
    {
     "data": {
      "text/html": [
       "\n",
       "<style>\n",
       "    /* Turns off some styling */\n",
       "    progress {\n",
       "        /* gets rid of default border in Firefox and Opera. */\n",
       "        border: none;\n",
       "        /* Needs to be in here for Safari polyfill so background images work as expected. */\n",
       "        background-size: auto;\n",
       "    }\n",
       "    progress:not([value]), progress:not([value])::-webkit-progress-bar {\n",
       "        background: repeating-linear-gradient(45deg, #7e7e7e, #7e7e7e 10px, #5c5c5c 10px, #5c5c5c 20px);\n",
       "    }\n",
       "    .progress-bar-interrupted, .progress-bar-interrupted::-webkit-progress-bar {\n",
       "        background: #F44336;\n",
       "    }\n",
       "</style>\n"
      ],
      "text/plain": [
       "<IPython.core.display.HTML object>"
      ]
     },
     "metadata": {},
     "output_type": "display_data"
    },
    {
     "data": {
      "text/html": [
       "<table border=\"1\" class=\"dataframe\">\n",
       "  <thead>\n",
       "    <tr style=\"text-align: left;\">\n",
       "      <th>epoch</th>\n",
       "      <th>train_loss</th>\n",
       "      <th>valid_loss</th>\n",
       "      <th>accuracy</th>\n",
       "      <th>time</th>\n",
       "    </tr>\n",
       "  </thead>\n",
       "  <tbody>\n",
       "    <tr>\n",
       "      <td>0</td>\n",
       "      <td>1.870821</td>\n",
       "      <td>1.526629</td>\n",
       "      <td>0.493279</td>\n",
       "      <td>05:30</td>\n",
       "    </tr>\n",
       "    <tr>\n",
       "      <td>1</td>\n",
       "      <td>1.591731</td>\n",
       "      <td>1.533515</td>\n",
       "      <td>0.525392</td>\n",
       "      <td>06:05</td>\n",
       "    </tr>\n",
       "    <tr>\n",
       "      <td>2</td>\n",
       "      <td>1.385304</td>\n",
       "      <td>1.014480</td>\n",
       "      <td>0.684839</td>\n",
       "      <td>05:36</td>\n",
       "    </tr>\n",
       "    <tr>\n",
       "      <td>3</td>\n",
       "      <td>1.228271</td>\n",
       "      <td>0.785033</td>\n",
       "      <td>0.772218</td>\n",
       "      <td>05:32</td>\n",
       "    </tr>\n",
       "  </tbody>\n",
       "</table>"
      ],
      "text/plain": [
       "<IPython.core.display.HTML object>"
      ]
     },
     "metadata": {},
     "output_type": "display_data"
    }
   ],
   "source": [
    "learn = Learner(dls, xresnet34(n_out=dls.c), loss_func=CrossEntropyLossFlat(), metrics=accuracy, cbs=MixUp())\n",
    "learn.fit_one_cycle(4, 3e-3)"
   ]
  },
  {
   "cell_type": "markdown",
   "id": "f3ccae17-7318-49bf-823c-f684e1c44cf2",
   "metadata": {},
   "source": [
    "accuracy低于baseline, epochs太少, mixup果然没有效果。"
   ]
  },
  {
   "cell_type": "markdown",
   "id": "616296ca-5f3b-49db-9796-7bcb2360943a",
   "metadata": {},
   "source": [
    "### Label smoothing\n",
    "- MixUp也可能导致标签不确定性，此时需要补充技巧：**Label smoothing** --会将标签的 1 变成略小于 1 的值，并将 0 变成略大于 0 的值\n",
    "`y = [0, 0, 1, 0] -> y_{smooth} = [0.1, 0.1, 0.8, 0.1]`\n",
    "\n",
    "- as loss function:  `learn = Learner(dls, model, loss_func=LabelSmoothingCrossEntropy(), metrics=accuracy)`"
   ]
  },
  {
   "cell_type": "code",
   "execution_count": null,
   "id": "6f0af989-d2d0-48fa-a307-4d2a17855449",
   "metadata": {
    "scrolled": true
   },
   "outputs": [],
   "source": [
    "learn = Learner(dls, xresnet34(n_out=dls.c), loss_func=LabelSmoothingCrossEntropy(), metrics=accuracy)\n",
    "learn.fit_one_cycle(4, 3e-3)"
   ]
  },
  {
   "cell_type": "markdown",
   "id": "13f408f5-41ee-4c3b-ad5f-8c303aa232cd",
   "metadata": {},
   "source": [
    "### MPS: Add mixup() and Label_smoothing"
   ]
  },
  {
   "cell_type": "code",
   "execution_count": 19,
   "id": "e3ca9a71-d8d7-453f-be45-d3c7b6f9e767",
   "metadata": {},
   "outputs": [
    {
     "data": {
      "text/html": [
       "\n",
       "<style>\n",
       "    /* Turns off some styling */\n",
       "    progress {\n",
       "        /* gets rid of default border in Firefox and Opera. */\n",
       "        border: none;\n",
       "        /* Needs to be in here for Safari polyfill so background images work as expected. */\n",
       "        background-size: auto;\n",
       "    }\n",
       "    progress:not([value]), progress:not([value])::-webkit-progress-bar {\n",
       "        background: repeating-linear-gradient(45deg, #7e7e7e, #7e7e7e 10px, #5c5c5c 10px, #5c5c5c 20px);\n",
       "    }\n",
       "    .progress-bar-interrupted, .progress-bar-interrupted::-webkit-progress-bar {\n",
       "        background: #F44336;\n",
       "    }\n",
       "</style>\n"
      ],
      "text/plain": [
       "<IPython.core.display.HTML object>"
      ]
     },
     "metadata": {},
     "output_type": "display_data"
    },
    {
     "data": {
      "text/html": [
       "<table border=\"1\" class=\"dataframe\">\n",
       "  <thead>\n",
       "    <tr style=\"text-align: left;\">\n",
       "      <th>epoch</th>\n",
       "      <th>train_loss</th>\n",
       "      <th>valid_loss</th>\n",
       "      <th>accuracy</th>\n",
       "      <th>time</th>\n",
       "    </tr>\n",
       "  </thead>\n",
       "  <tbody>\n",
       "    <tr>\n",
       "      <td>0</td>\n",
       "      <td>1.148357</td>\n",
       "      <td>0.251010</td>\n",
       "      <td>0.926811</td>\n",
       "      <td>00:45</td>\n",
       "    </tr>\n",
       "    <tr>\n",
       "      <td>1</td>\n",
       "      <td>0.943257</td>\n",
       "      <td>0.258138</td>\n",
       "      <td>0.929425</td>\n",
       "      <td>00:45</td>\n",
       "    </tr>\n",
       "    <tr>\n",
       "      <td>2</td>\n",
       "      <td>0.863209</td>\n",
       "      <td>0.258656</td>\n",
       "      <td>0.936520</td>\n",
       "      <td>00:44</td>\n",
       "    </tr>\n",
       "    <tr>\n",
       "      <td>3</td>\n",
       "      <td>0.814270</td>\n",
       "      <td>0.248662</td>\n",
       "      <td>0.942121</td>\n",
       "      <td>00:44</td>\n",
       "    </tr>\n",
       "  </tbody>\n",
       "</table>"
      ],
      "text/plain": [
       "<IPython.core.display.HTML object>"
      ]
     },
     "metadata": {},
     "output_type": "display_data"
    }
   ],
   "source": [
    "#just add mixup()\n",
    "from fastai.callback.mixup import *\n",
    "dls = get_dls(48, 98)\n",
    "learner = vision_learner(dls, resnet18, metrics=accuracy, cbs=MixUp(0.3))\n",
    "learner.fit_one_cycle(4, 3e-3)"
   ]
  },
  {
   "cell_type": "markdown",
   "id": "a0fd7535-8954-472d-8e35-41c50d1268ca",
   "metadata": {},
   "source": [
    "Add Mixup in callback (around 0.93) is just a little bit improve than without Mixup (0.92)🤔 I think the number of epochs is not enough."
   ]
  },
  {
   "cell_type": "code",
   "execution_count": 20,
   "id": "81398047-e342-4b99-885d-8a3c2915010c",
   "metadata": {
    "scrolled": true
   },
   "outputs": [
    {
     "data": {
      "text/plain": [
       "\u001b[0;31mInit signature:\u001b[0m\n",
       "\u001b[0mLabelSmoothingCrossEntropy\u001b[0m\u001b[0;34m(\u001b[0m\u001b[0;34m\u001b[0m\n",
       "\u001b[0;34m\u001b[0m    \u001b[0meps\u001b[0m\u001b[0;34m:\u001b[0m \u001b[0;34m'float'\u001b[0m \u001b[0;34m=\u001b[0m \u001b[0;36m0.1\u001b[0m\u001b[0;34m,\u001b[0m\u001b[0;34m\u001b[0m\n",
       "\u001b[0;34m\u001b[0m    \u001b[0mweight\u001b[0m\u001b[0;34m:\u001b[0m \u001b[0;34m'Tensor'\u001b[0m \u001b[0;34m=\u001b[0m \u001b[0;32mNone\u001b[0m\u001b[0;34m,\u001b[0m\u001b[0;34m\u001b[0m\n",
       "\u001b[0;34m\u001b[0m    \u001b[0mreduction\u001b[0m\u001b[0;34m:\u001b[0m \u001b[0;34m'str'\u001b[0m \u001b[0;34m=\u001b[0m \u001b[0;34m'mean'\u001b[0m\u001b[0;34m,\u001b[0m\u001b[0;34m\u001b[0m\n",
       "\u001b[0;34m\u001b[0m\u001b[0;34m)\u001b[0m\u001b[0;34m\u001b[0m\u001b[0;34m\u001b[0m\u001b[0m\n",
       "\u001b[0;31mDocstring:\u001b[0m      Same as `nn.Module`, but no need for subclasses to call `super().__init__`\n",
       "\u001b[0;31mSource:\u001b[0m        \n",
       "\u001b[0;32mclass\u001b[0m \u001b[0mLabelSmoothingCrossEntropy\u001b[0m\u001b[0;34m(\u001b[0m\u001b[0mModule\u001b[0m\u001b[0;34m)\u001b[0m\u001b[0;34m:\u001b[0m\u001b[0;34m\u001b[0m\n",
       "\u001b[0;34m\u001b[0m    \u001b[0my_int\u001b[0m \u001b[0;34m=\u001b[0m \u001b[0;32mTrue\u001b[0m \u001b[0;31m# y interpolation\u001b[0m\u001b[0;34m\u001b[0m\n",
       "\u001b[0;34m\u001b[0m    \u001b[0;32mdef\u001b[0m \u001b[0m__init__\u001b[0m\u001b[0;34m(\u001b[0m\u001b[0mself\u001b[0m\u001b[0;34m,\u001b[0m \u001b[0;34m\u001b[0m\n",
       "\u001b[0;34m\u001b[0m        \u001b[0meps\u001b[0m\u001b[0;34m:\u001b[0m\u001b[0mfloat\u001b[0m\u001b[0;34m=\u001b[0m\u001b[0;36m0.1\u001b[0m\u001b[0;34m,\u001b[0m \u001b[0;31m# The weight for the interpolation formula\u001b[0m\u001b[0;34m\u001b[0m\n",
       "\u001b[0;34m\u001b[0m        \u001b[0mweight\u001b[0m\u001b[0;34m:\u001b[0m\u001b[0mTensor\u001b[0m\u001b[0;34m=\u001b[0m\u001b[0;32mNone\u001b[0m\u001b[0;34m,\u001b[0m \u001b[0;31m# Manual rescaling weight given to each class passed to `F.nll_loss`\u001b[0m\u001b[0;34m\u001b[0m\n",
       "\u001b[0;34m\u001b[0m        \u001b[0mreduction\u001b[0m\u001b[0;34m:\u001b[0m\u001b[0mstr\u001b[0m\u001b[0;34m=\u001b[0m\u001b[0;34m'mean'\u001b[0m \u001b[0;31m# PyTorch reduction to apply to the output\u001b[0m\u001b[0;34m\u001b[0m\n",
       "\u001b[0;34m\u001b[0m    \u001b[0;34m)\u001b[0m\u001b[0;34m:\u001b[0m \u001b[0;34m\u001b[0m\n",
       "\u001b[0;34m\u001b[0m        \u001b[0mstore_attr\u001b[0m\u001b[0;34m(\u001b[0m\u001b[0;34m)\u001b[0m\u001b[0;34m\u001b[0m\n",
       "\u001b[0;34m\u001b[0m\u001b[0;34m\u001b[0m\n",
       "\u001b[0;34m\u001b[0m    \u001b[0;32mdef\u001b[0m \u001b[0mforward\u001b[0m\u001b[0;34m(\u001b[0m\u001b[0mself\u001b[0m\u001b[0;34m,\u001b[0m \u001b[0moutput\u001b[0m\u001b[0;34m:\u001b[0m\u001b[0mTensor\u001b[0m\u001b[0;34m,\u001b[0m \u001b[0mtarget\u001b[0m\u001b[0;34m:\u001b[0m\u001b[0mTensor\u001b[0m\u001b[0;34m)\u001b[0m \u001b[0;34m->\u001b[0m \u001b[0mTensor\u001b[0m\u001b[0;34m:\u001b[0m\u001b[0;34m\u001b[0m\n",
       "\u001b[0;34m\u001b[0m        \u001b[0;34m\"Apply `F.log_softmax` on output then blend the loss/num_classes(`c`) with the `F.nll_loss`\"\u001b[0m\u001b[0;34m\u001b[0m\n",
       "\u001b[0;34m\u001b[0m        \u001b[0mc\u001b[0m \u001b[0;34m=\u001b[0m \u001b[0moutput\u001b[0m\u001b[0;34m.\u001b[0m\u001b[0msize\u001b[0m\u001b[0;34m(\u001b[0m\u001b[0;34m)\u001b[0m\u001b[0;34m[\u001b[0m\u001b[0;36m1\u001b[0m\u001b[0;34m]\u001b[0m\u001b[0;34m\u001b[0m\n",
       "\u001b[0;34m\u001b[0m        \u001b[0mlog_preds\u001b[0m \u001b[0;34m=\u001b[0m \u001b[0mF\u001b[0m\u001b[0;34m.\u001b[0m\u001b[0mlog_softmax\u001b[0m\u001b[0;34m(\u001b[0m\u001b[0moutput\u001b[0m\u001b[0;34m,\u001b[0m \u001b[0mdim\u001b[0m\u001b[0;34m=\u001b[0m\u001b[0;36m1\u001b[0m\u001b[0;34m)\u001b[0m\u001b[0;34m\u001b[0m\n",
       "\u001b[0;34m\u001b[0m        \u001b[0;32mif\u001b[0m \u001b[0mself\u001b[0m\u001b[0;34m.\u001b[0m\u001b[0mreduction\u001b[0m\u001b[0;34m==\u001b[0m\u001b[0;34m'sum'\u001b[0m\u001b[0;34m:\u001b[0m \u001b[0mloss\u001b[0m \u001b[0;34m=\u001b[0m \u001b[0;34m-\u001b[0m\u001b[0mlog_preds\u001b[0m\u001b[0;34m.\u001b[0m\u001b[0msum\u001b[0m\u001b[0;34m(\u001b[0m\u001b[0;34m)\u001b[0m\u001b[0;34m\u001b[0m\n",
       "\u001b[0;34m\u001b[0m        \u001b[0;32melse\u001b[0m\u001b[0;34m:\u001b[0m\u001b[0;34m\u001b[0m\n",
       "\u001b[0;34m\u001b[0m            \u001b[0mloss\u001b[0m \u001b[0;34m=\u001b[0m \u001b[0;34m-\u001b[0m\u001b[0mlog_preds\u001b[0m\u001b[0;34m.\u001b[0m\u001b[0msum\u001b[0m\u001b[0;34m(\u001b[0m\u001b[0mdim\u001b[0m\u001b[0;34m=\u001b[0m\u001b[0;36m1\u001b[0m\u001b[0;34m)\u001b[0m \u001b[0;31m#We divide by that size at the return line so sum and not mean\u001b[0m\u001b[0;34m\u001b[0m\n",
       "\u001b[0;34m\u001b[0m            \u001b[0;32mif\u001b[0m \u001b[0mself\u001b[0m\u001b[0;34m.\u001b[0m\u001b[0mreduction\u001b[0m\u001b[0;34m==\u001b[0m\u001b[0;34m'mean'\u001b[0m\u001b[0;34m:\u001b[0m  \u001b[0mloss\u001b[0m \u001b[0;34m=\u001b[0m \u001b[0mloss\u001b[0m\u001b[0;34m.\u001b[0m\u001b[0mmean\u001b[0m\u001b[0;34m(\u001b[0m\u001b[0;34m)\u001b[0m\u001b[0;34m\u001b[0m\n",
       "\u001b[0;34m\u001b[0m        \u001b[0;32mreturn\u001b[0m \u001b[0mloss\u001b[0m\u001b[0;34m*\u001b[0m\u001b[0mself\u001b[0m\u001b[0;34m.\u001b[0m\u001b[0meps\u001b[0m\u001b[0;34m/\u001b[0m\u001b[0mc\u001b[0m \u001b[0;34m+\u001b[0m \u001b[0;34m(\u001b[0m\u001b[0;36m1\u001b[0m\u001b[0;34m-\u001b[0m\u001b[0mself\u001b[0m\u001b[0;34m.\u001b[0m\u001b[0meps\u001b[0m\u001b[0;34m)\u001b[0m \u001b[0;34m*\u001b[0m \u001b[0mF\u001b[0m\u001b[0;34m.\u001b[0m\u001b[0mnll_loss\u001b[0m\u001b[0;34m(\u001b[0m\u001b[0mlog_preds\u001b[0m\u001b[0;34m,\u001b[0m \u001b[0mtarget\u001b[0m\u001b[0;34m.\u001b[0m\u001b[0mlong\u001b[0m\u001b[0;34m(\u001b[0m\u001b[0;34m)\u001b[0m\u001b[0;34m,\u001b[0m \u001b[0mweight\u001b[0m\u001b[0;34m=\u001b[0m\u001b[0mself\u001b[0m\u001b[0;34m.\u001b[0m\u001b[0mweight\u001b[0m\u001b[0;34m,\u001b[0m \u001b[0mreduction\u001b[0m\u001b[0;34m=\u001b[0m\u001b[0mself\u001b[0m\u001b[0;34m.\u001b[0m\u001b[0mreduction\u001b[0m\u001b[0;34m)\u001b[0m\u001b[0;34m\u001b[0m\n",
       "\u001b[0;34m\u001b[0m\u001b[0;34m\u001b[0m\n",
       "\u001b[0;34m\u001b[0m    \u001b[0;32mdef\u001b[0m \u001b[0mactivation\u001b[0m\u001b[0;34m(\u001b[0m\u001b[0mself\u001b[0m\u001b[0;34m,\u001b[0m \u001b[0mout\u001b[0m\u001b[0;34m:\u001b[0m\u001b[0mTensor\u001b[0m\u001b[0;34m)\u001b[0m \u001b[0;34m->\u001b[0m \u001b[0mTensor\u001b[0m\u001b[0;34m:\u001b[0m \u001b[0;34m\u001b[0m\n",
       "\u001b[0;34m\u001b[0m        \u001b[0;34m\"`F.log_softmax`'s fused activation function applied to model output\"\u001b[0m\u001b[0;34m\u001b[0m\n",
       "\u001b[0;34m\u001b[0m        \u001b[0;32mreturn\u001b[0m \u001b[0mF\u001b[0m\u001b[0;34m.\u001b[0m\u001b[0msoftmax\u001b[0m\u001b[0;34m(\u001b[0m\u001b[0mout\u001b[0m\u001b[0;34m,\u001b[0m \u001b[0mdim\u001b[0m\u001b[0;34m=\u001b[0m\u001b[0;34m-\u001b[0m\u001b[0;36m1\u001b[0m\u001b[0;34m)\u001b[0m\u001b[0;34m\u001b[0m\n",
       "\u001b[0;34m\u001b[0m    \u001b[0;34m\u001b[0m\n",
       "\u001b[0;34m\u001b[0m    \u001b[0;32mdef\u001b[0m \u001b[0mdecodes\u001b[0m\u001b[0;34m(\u001b[0m\u001b[0mself\u001b[0m\u001b[0;34m,\u001b[0m \u001b[0mout\u001b[0m\u001b[0;34m:\u001b[0m\u001b[0mTensor\u001b[0m\u001b[0;34m)\u001b[0m \u001b[0;34m->\u001b[0m \u001b[0mTensor\u001b[0m\u001b[0;34m:\u001b[0m\u001b[0;34m\u001b[0m\n",
       "\u001b[0;34m\u001b[0m        \u001b[0;34m\"Converts model output to target format\"\u001b[0m\u001b[0;34m\u001b[0m\n",
       "\u001b[0;34m\u001b[0m        \u001b[0;32mreturn\u001b[0m \u001b[0mout\u001b[0m\u001b[0;34m.\u001b[0m\u001b[0margmax\u001b[0m\u001b[0;34m(\u001b[0m\u001b[0mdim\u001b[0m\u001b[0;34m=\u001b[0m\u001b[0;34m-\u001b[0m\u001b[0;36m1\u001b[0m\u001b[0;34m)\u001b[0m\u001b[0;34m\u001b[0m\u001b[0;34m\u001b[0m\u001b[0m\n",
       "\u001b[0;31mFile:\u001b[0m           ~/miniconda3/envs/fastai/lib/python3.11/site-packages/fastai/losses.py\n",
       "\u001b[0;31mType:\u001b[0m           PrePostInitMeta\n",
       "\u001b[0;31mSubclasses:\u001b[0m     "
      ]
     },
     "metadata": {},
     "output_type": "display_data"
    }
   ],
   "source": [
    "LabelSmoothingCrossEntropy??"
   ]
  },
  {
   "cell_type": "code",
   "execution_count": 21,
   "id": "7bcaf491-2e15-4ff9-86d9-02bcccb42e58",
   "metadata": {},
   "outputs": [
    {
     "data": {
      "text/html": [
       "\n",
       "<style>\n",
       "    /* Turns off some styling */\n",
       "    progress {\n",
       "        /* gets rid of default border in Firefox and Opera. */\n",
       "        border: none;\n",
       "        /* Needs to be in here for Safari polyfill so background images work as expected. */\n",
       "        background-size: auto;\n",
       "    }\n",
       "    progress:not([value]), progress:not([value])::-webkit-progress-bar {\n",
       "        background: repeating-linear-gradient(45deg, #7e7e7e, #7e7e7e 10px, #5c5c5c 10px, #5c5c5c 20px);\n",
       "    }\n",
       "    .progress-bar-interrupted, .progress-bar-interrupted::-webkit-progress-bar {\n",
       "        background: #F44336;\n",
       "    }\n",
       "</style>\n"
      ],
      "text/plain": [
       "<IPython.core.display.HTML object>"
      ]
     },
     "metadata": {},
     "output_type": "display_data"
    },
    {
     "data": {
      "text/html": [
       "<table border=\"1\" class=\"dataframe\">\n",
       "  <thead>\n",
       "    <tr style=\"text-align: left;\">\n",
       "      <th>epoch</th>\n",
       "      <th>train_loss</th>\n",
       "      <th>valid_loss</th>\n",
       "      <th>accuracy</th>\n",
       "      <th>time</th>\n",
       "    </tr>\n",
       "  </thead>\n",
       "  <tbody>\n",
       "    <tr>\n",
       "      <td>0</td>\n",
       "      <td>2.274459</td>\n",
       "      <td>2.204993</td>\n",
       "      <td>0.925691</td>\n",
       "      <td>00:44</td>\n",
       "    </tr>\n",
       "    <tr>\n",
       "      <td>1</td>\n",
       "      <td>2.237962</td>\n",
       "      <td>2.207193</td>\n",
       "      <td>0.918969</td>\n",
       "      <td>00:44</td>\n",
       "    </tr>\n",
       "    <tr>\n",
       "      <td>2</td>\n",
       "      <td>2.230731</td>\n",
       "      <td>2.199317</td>\n",
       "      <td>0.926811</td>\n",
       "      <td>00:44</td>\n",
       "    </tr>\n",
       "    <tr>\n",
       "      <td>3</td>\n",
       "      <td>2.226471</td>\n",
       "      <td>2.196797</td>\n",
       "      <td>0.929798</td>\n",
       "      <td>00:44</td>\n",
       "    </tr>\n",
       "  </tbody>\n",
       "</table>"
      ],
      "text/plain": [
       "<IPython.core.display.HTML object>"
      ]
     },
     "metadata": {},
     "output_type": "display_data"
    }
   ],
   "source": [
    "#add mixup + labelsmoothing (eps 0.8 - interpolation weight)\n",
    "learner.loss_func = LabelSmoothingCrossEntropy(eps=0.8)\n",
    "learner.fit_one_cycle(4, 3e-3)"
   ]
  },
  {
   "cell_type": "code",
   "execution_count": 22,
   "id": "35ad02cb-1926-4e2e-b9f9-dbc0ad18d0a7",
   "metadata": {},
   "outputs": [
    {
     "data": {
      "text/html": [
       "\n",
       "<style>\n",
       "    /* Turns off some styling */\n",
       "    progress {\n",
       "        /* gets rid of default border in Firefox and Opera. */\n",
       "        border: none;\n",
       "        /* Needs to be in here for Safari polyfill so background images work as expected. */\n",
       "        background-size: auto;\n",
       "    }\n",
       "    progress:not([value]), progress:not([value])::-webkit-progress-bar {\n",
       "        background: repeating-linear-gradient(45deg, #7e7e7e, #7e7e7e 10px, #5c5c5c 10px, #5c5c5c 20px);\n",
       "    }\n",
       "    .progress-bar-interrupted, .progress-bar-interrupted::-webkit-progress-bar {\n",
       "        background: #F44336;\n",
       "    }\n",
       "</style>\n"
      ],
      "text/plain": [
       "<IPython.core.display.HTML object>"
      ]
     },
     "metadata": {},
     "output_type": "display_data"
    },
    {
     "data": {
      "text/html": [
       "<table border=\"1\" class=\"dataframe\">\n",
       "  <thead>\n",
       "    <tr style=\"text-align: left;\">\n",
       "      <th>epoch</th>\n",
       "      <th>train_loss</th>\n",
       "      <th>valid_loss</th>\n",
       "      <th>accuracy</th>\n",
       "      <th>time</th>\n",
       "    </tr>\n",
       "  </thead>\n",
       "  <tbody>\n",
       "    <tr>\n",
       "      <td>0</td>\n",
       "      <td>1.201308</td>\n",
       "      <td>0.750140</td>\n",
       "      <td>0.917102</td>\n",
       "      <td>00:44</td>\n",
       "    </tr>\n",
       "    <tr>\n",
       "      <td>1</td>\n",
       "      <td>1.161672</td>\n",
       "      <td>0.743647</td>\n",
       "      <td>0.918223</td>\n",
       "      <td>00:43</td>\n",
       "    </tr>\n",
       "    <tr>\n",
       "      <td>2</td>\n",
       "      <td>1.140195</td>\n",
       "      <td>0.714435</td>\n",
       "      <td>0.930919</td>\n",
       "      <td>00:44</td>\n",
       "    </tr>\n",
       "    <tr>\n",
       "      <td>3</td>\n",
       "      <td>1.111564</td>\n",
       "      <td>0.704118</td>\n",
       "      <td>0.933159</td>\n",
       "      <td>00:44</td>\n",
       "    </tr>\n",
       "  </tbody>\n",
       "</table>"
      ],
      "text/plain": [
       "<IPython.core.display.HTML object>"
      ]
     },
     "metadata": {},
     "output_type": "display_data"
    }
   ],
   "source": [
    "dls = get_dls(32, 98)\n",
    "learner.loss_func = LabelSmoothingCrossEntropy(eps=0.1)\n",
    "learner.fit_one_cycle(4, 3e-3)"
   ]
  },
  {
   "cell_type": "markdown",
   "id": "07a4df93-0e35-48ff-8a35-ca07958b1f3b",
   "metadata": {},
   "source": [
    "**eps=0.1 is better**， but add mixup + labelsmoothing is not improving."
   ]
  },
  {
   "cell_type": "code",
   "execution_count": 23,
   "id": "66fd8e0c-8860-4ba5-b62d-f5ceec878c82",
   "metadata": {},
   "outputs": [
    {
     "data": {
      "text/html": [
       "\n",
       "<style>\n",
       "    /* Turns off some styling */\n",
       "    progress {\n",
       "        /* gets rid of default border in Firefox and Opera. */\n",
       "        border: none;\n",
       "        /* Needs to be in here for Safari polyfill so background images work as expected. */\n",
       "        background-size: auto;\n",
       "    }\n",
       "    progress:not([value]), progress:not([value])::-webkit-progress-bar {\n",
       "        background: repeating-linear-gradient(45deg, #7e7e7e, #7e7e7e 10px, #5c5c5c 10px, #5c5c5c 20px);\n",
       "    }\n",
       "    .progress-bar-interrupted, .progress-bar-interrupted::-webkit-progress-bar {\n",
       "        background: #F44336;\n",
       "    }\n",
       "</style>\n"
      ],
      "text/plain": [
       "<IPython.core.display.HTML object>"
      ]
     },
     "metadata": {},
     "output_type": "display_data"
    },
    {
     "data": {
      "text/html": [
       "<table border=\"1\" class=\"dataframe\">\n",
       "  <thead>\n",
       "    <tr style=\"text-align: left;\">\n",
       "      <th>epoch</th>\n",
       "      <th>train_loss</th>\n",
       "      <th>valid_loss</th>\n",
       "      <th>accuracy</th>\n",
       "      <th>time</th>\n",
       "    </tr>\n",
       "  </thead>\n",
       "  <tbody>\n",
       "    <tr>\n",
       "      <td>0</td>\n",
       "      <td>1.001590</td>\n",
       "      <td>0.840392</td>\n",
       "      <td>0.902913</td>\n",
       "      <td>00:45</td>\n",
       "    </tr>\n",
       "    <tr>\n",
       "      <td>1</td>\n",
       "      <td>0.893168</td>\n",
       "      <td>0.763254</td>\n",
       "      <td>0.911128</td>\n",
       "      <td>00:46</td>\n",
       "    </tr>\n",
       "    <tr>\n",
       "      <td>2</td>\n",
       "      <td>0.785958</td>\n",
       "      <td>0.722831</td>\n",
       "      <td>0.926811</td>\n",
       "      <td>00:47</td>\n",
       "    </tr>\n",
       "    <tr>\n",
       "      <td>3</td>\n",
       "      <td>0.740733</td>\n",
       "      <td>0.711386</td>\n",
       "      <td>0.932039</td>\n",
       "      <td>00:47</td>\n",
       "    </tr>\n",
       "  </tbody>\n",
       "</table>"
      ],
      "text/plain": [
       "<IPython.core.display.HTML object>"
      ]
     },
     "metadata": {},
     "output_type": "display_data"
    }
   ],
   "source": [
    "#just add labelsmoothing\n",
    "learner = vision_learner(dls, resnet18, metrics=accuracy, \n",
    "                         loss_func=LabelSmoothingCrossEntropy(eps=0.1))\n",
    "learner.fit_one_cycle(4, 3e-3)"
   ]
  },
  {
   "cell_type": "markdown",
   "id": "cebdf358-a9f6-42a1-bf29-2efcbc314566",
   "metadata": {},
   "source": [
    "baseline 0.92 -> labelsmoothing 0.93 not much improve🤔"
   ]
  },
  {
   "cell_type": "markdown",
   "id": "ad35d951-2a5b-4a07-9058-430edd4e7743",
   "metadata": {},
   "source": [
    "## Conclusion\n",
    "From this simple dataset (imagenette), using MPS device (instead of GPU) for training:\n",
    "\n",
    "- vision_learner is quite useful💡 for image tasks than without normalization.\n",
    "- progressive resizing trick is quite effective in improvement ✅\n",
    "- tta truely boost performance as told ✅\n",
    "- mixup and label smoothing tricks improve not much -> might need more epochs to train🙌🏻\n"
   ]
  },
  {
   "cell_type": "code",
   "execution_count": null,
   "id": "42d530da-5cbc-4a69-82b7-961e28565f93",
   "metadata": {},
   "outputs": [],
   "source": []
  }
 ],
 "metadata": {
  "kernelspec": {
   "display_name": "fastai",
   "language": "python",
   "name": "fastai"
  },
  "language_info": {
   "codemirror_mode": {
    "name": "ipython",
    "version": 3
   },
   "file_extension": ".py",
   "mimetype": "text/x-python",
   "name": "python",
   "nbconvert_exporter": "python",
   "pygments_lexer": "ipython3",
   "version": "3.11.10"
  }
 },
 "nbformat": 4,
 "nbformat_minor": 5
}
