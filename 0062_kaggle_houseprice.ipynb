{
 "cells": [
  {
   "cell_type": "markdown",
   "id": "278c8cd8-3330-44dd-afd8-1b06472061b4",
   "metadata": {},
   "source": [
    "# 0062_Kaggle - Houseprice - ensemble models submission"
   ]
  },
  {
   "cell_type": "markdown",
   "id": "23a19c7a-ec2b-400c-9976-ccf0ead75a79",
   "metadata": {},
   "source": [
    "Base on my previous notebook `#0061_practice_houseprice`, this notebook is for the submission of 'Houseprice' prediction with **advanced feature engineering and ensenble models (NN, xgboost, catboost)**. The best score of submission is *0.12735*."
   ]
  },
  {
   "cell_type": "code",
   "execution_count": 1,
   "id": "f6d4f859-708c-41d0-aa08-0c71c116788d",
   "metadata": {},
   "outputs": [],
   "source": [
    "from fastai.tabular.all import *\n",
    "from sklearn.ensemble import RandomForestRegressor\n",
    "from sklearn.tree import DecisionTreeRegressor\n",
    "from dtreeviz.trees import *\n",
    "pd.options.display.max_rows = 20\n",
    "pd.options.display.max_columns = 8\n",
    "import warnings\n",
    "warnings.filterwarnings('ignore')"
   ]
  },
  {
   "cell_type": "code",
   "execution_count": 2,
   "id": "e480f8de-5e8a-4318-ad03-8b0b8ca7e991",
   "metadata": {},
   "outputs": [
    {
     "data": {
      "text/plain": [
       "(#4) [Path('test.csv'),Path('data_description.txt'),Path('train.csv'),Path('sample_submission.csv')]"
      ]
     },
     "execution_count": 2,
     "metadata": {},
     "output_type": "execute_result"
    }
   ],
   "source": [
    "path = Path(\"/Users/applewang/Desktop/Study_Materials_2023_2025/fastai_course/my-practice/house-prices-advanced-regression-techniques\")\n",
    "Path.BASE_PATH = path\n",
    "path.ls()"
   ]
  },
  {
   "cell_type": "code",
   "execution_count": 3,
   "id": "26536872-5d30-4b52-a45d-4c3ade3c89fa",
   "metadata": {},
   "outputs": [
    {
     "data": {
      "text/html": [
       "<div>\n",
       "<style scoped>\n",
       "    .dataframe tbody tr th:only-of-type {\n",
       "        vertical-align: middle;\n",
       "    }\n",
       "\n",
       "    .dataframe tbody tr th {\n",
       "        vertical-align: top;\n",
       "    }\n",
       "\n",
       "    .dataframe thead th {\n",
       "        text-align: right;\n",
       "    }\n",
       "</style>\n",
       "<table border=\"1\" class=\"dataframe\">\n",
       "  <thead>\n",
       "    <tr style=\"text-align: right;\">\n",
       "      <th></th>\n",
       "      <th>Id</th>\n",
       "      <th>MSSubClass</th>\n",
       "      <th>MSZoning</th>\n",
       "      <th>LotFrontage</th>\n",
       "      <th>...</th>\n",
       "      <th>YrSold</th>\n",
       "      <th>SaleType</th>\n",
       "      <th>SaleCondition</th>\n",
       "      <th>SalePrice</th>\n",
       "    </tr>\n",
       "  </thead>\n",
       "  <tbody>\n",
       "    <tr>\n",
       "      <th>0</th>\n",
       "      <td>1</td>\n",
       "      <td>60</td>\n",
       "      <td>RL</td>\n",
       "      <td>65.0</td>\n",
       "      <td>...</td>\n",
       "      <td>2008</td>\n",
       "      <td>WD</td>\n",
       "      <td>Normal</td>\n",
       "      <td>208500</td>\n",
       "    </tr>\n",
       "    <tr>\n",
       "      <th>1</th>\n",
       "      <td>2</td>\n",
       "      <td>20</td>\n",
       "      <td>RL</td>\n",
       "      <td>80.0</td>\n",
       "      <td>...</td>\n",
       "      <td>2007</td>\n",
       "      <td>WD</td>\n",
       "      <td>Normal</td>\n",
       "      <td>181500</td>\n",
       "    </tr>\n",
       "    <tr>\n",
       "      <th>2</th>\n",
       "      <td>3</td>\n",
       "      <td>60</td>\n",
       "      <td>RL</td>\n",
       "      <td>68.0</td>\n",
       "      <td>...</td>\n",
       "      <td>2008</td>\n",
       "      <td>WD</td>\n",
       "      <td>Normal</td>\n",
       "      <td>223500</td>\n",
       "    </tr>\n",
       "  </tbody>\n",
       "</table>\n",
       "<p>3 rows × 81 columns</p>\n",
       "</div>"
      ],
      "text/plain": [
       "   Id  MSSubClass MSZoning  LotFrontage  ...  YrSold SaleType SaleCondition  \\\n",
       "0   1          60       RL         65.0  ...    2008       WD        Normal   \n",
       "1   2          20       RL         80.0  ...    2007       WD        Normal   \n",
       "2   3          60       RL         68.0  ...    2008       WD        Normal   \n",
       "\n",
       "  SalePrice  \n",
       "0    208500  \n",
       "1    181500  \n",
       "2    223500  \n",
       "\n",
       "[3 rows x 81 columns]"
      ]
     },
     "execution_count": 3,
     "metadata": {},
     "output_type": "execute_result"
    }
   ],
   "source": [
    "train_df = pd.read_csv(path/'train.csv', low_memory=False)\n",
    "train_df.head(3)"
   ]
  },
  {
   "cell_type": "markdown",
   "id": "7a5ba6fe-d102-4873-ac5c-de0258afa023",
   "metadata": {},
   "source": [
    "## process data"
   ]
  },
  {
   "cell_type": "code",
   "execution_count": 4,
   "id": "721e8301-f0a5-4b8c-a306-c9c7568466d2",
   "metadata": {},
   "outputs": [],
   "source": [
    "def add_features(df, is_train=True):\n",
    "    \"\"\"增强版特征工程，区分训练集和测试集\"\"\"\n",
    "    df = df.copy()\n",
    "    \n",
    "    # 面积相关特征\n",
    "    df['TotalSF'] = df['TotalBsmtSF'] + df['1stFlrSF'] + df['2ndFlrSF']\n",
    "    df['TotalBathrooms'] = df['FullBath'] + 0.5*df['HalfBath'] + df['BsmtFullBath'] + 0.5*df['BsmtHalfBath']\n",
    "    df['TotalPorchSF'] = df['OpenPorchSF'] + df['EnclosedPorch'] + df['3SsnPorch'] + df['ScreenPorch']\n",
    "    df['HasPool'] = (df['PoolArea'] > 0).astype(int)\n",
    "    df['Has2ndFlr'] = (df['2ndFlrSF'] > 0).astype(int)\n",
    "    df['HasGarage'] = (df['GarageArea'] > 0).astype(int)\n",
    "    df['HasBsmt'] = (df['TotalBsmtSF'] > 0).astype(int)\n",
    "    df['HasFireplace'] = (df['Fireplaces'] > 0).astype(int)\n",
    "    \n",
    "    # 新增面积特征\n",
    "    df['TotalArea'] = df['TotalSF'] + df['GarageArea'] + df['TotalPorchSF']\n",
    "    df['LivingArea'] = df['GrLivArea'] + df['TotalBsmtSF']\n",
    "    \n",
    "    # 质量相关特征\n",
    "    qual_map = {'Ex': 5, 'Gd': 4, 'TA': 3, 'Fa': 2, 'Po': 1, 'NA': 0}\n",
    "    df['ExterQual_num'] = df['ExterQual'].map(qual_map)\n",
    "    df['ExterCond_num'] = df['ExterCond'].map(qual_map)\n",
    "    df['BsmtQual_num'] = df['BsmtQual'].map(qual_map)\n",
    "    df['BsmtCond_num'] = df['BsmtCond'].map(qual_map)\n",
    "    df['HeatingQC_num'] = df['HeatingQC'].map(qual_map)\n",
    "    df['KitchenQual_num'] = df['KitchenQual'].map(qual_map)\n",
    "    df['FireplaceQu_num'] = df['FireplaceQu'].map(qual_map)\n",
    "    df['GarageQual_num'] = df['GarageQual'].map(qual_map)\n",
    "    df['GarageCond_num'] = df['GarageCond'].map(qual_map)\n",
    "    \n",
    "    # 综合质量分数\n",
    "    df['OverallGrade'] = df['OverallQual'] * df['OverallCond']\n",
    "    df['ExterGrade'] = df['ExterQual_num'] * df['ExterCond_num']\n",
    "    df['GarageGrade'] = df['GarageQual_num'] * df['GarageCond_num']\n",
    "    df['TotalQual'] = df['OverallQual'] + df['ExterQual_num'] + df['BsmtQual_num'] + df['KitchenQual_num']\n",
    "    \n",
    "    # 年份相关特征\n",
    "    df['Age'] = df['YrSold'] - df['YearBuilt']\n",
    "    df['IsNew'] = (df['Age'] <= 2).astype(int)\n",
    "    df['YearsSinceRemodel'] = df['YrSold'] - df['YearRemodAdd']\n",
    "    df['RecentRemodel'] = (df['YearsSinceRemodel'] <= 2).astype(int)\n",
    "    df['AgeRemod'] = df['YrSold'] - df['YearRemodAdd']\n",
    "    df['IsNewRemod'] = (df['AgeRemod'] <= 2).astype(int)\n",
    "    \n",
    "    # 处理 GarageYrBlt\n",
    "    df['GarageYrBlt'] = df['GarageYrBlt'].fillna(df['YearBuilt'])\n",
    "    df['GarageAge'] = df['YrSold'] - df['GarageYrBlt']\n",
    "    \n",
    "    # 分类特征编码\n",
    "    df['MSSubClass'] = df['MSSubClass'].astype(str)\n",
    "    df['YrSold'] = df['YrSold'].astype(str)\n",
    "    df['MoSold'] = df['MoSold'].astype(str)\n",
    "    \n",
    "    # 处理缺失值\n",
    "    df['LotFrontage'] = df.groupby(['Neighborhood', 'LotArea'])['LotFrontage'].transform(\n",
    "        lambda x: x.fillna(x.median()) if not x.isnull().all() else x.fillna(0)\n",
    "    )\n",
    "    # 处理可能遗漏的缺失值\n",
    "    features = list(df.columns)\n",
    "    for i in features:\n",
    "        if df[i].isnull().sum() >0:\n",
    "            if df[i].dtype == 'object': df[i] = df[i].fillna('None') #features may have such conditions instead of missing records\n",
    "            else: df[i] = df[i].fillna(df[i].median())\n",
    "    \n",
    "    # 创建比率特征\n",
    "    df['LivLotRatio'] = df['GrLivArea'] / df['LotArea']\n",
    "    df['Density'] = df['GrLivArea'] / (df['LotArea'] + 1)\n",
    "    df['PricePerTotalSF'] = df['TotalSF'] / (df['LotArea'] + 1)\n",
    "    df['PricePerLivArea'] = df['LivingArea'] / (df['LotArea'] + 1)\n",
    "    \n",
    "    # 邻居特征\n",
    "    df['NeighborhoodBin'] = pd.qcut(df.groupby('Neighborhood')['LotArea'].transform('median'), 5, labels=False)\n",
    "    \n",
    "    if is_train:\n",
    "        # 对数变换目标变量\n",
    "        df['SalePrice'] = np.log1p(df['SalePrice'])\n",
    "        \n",
    "        # 价格相关特征（仅用于训练集）\n",
    "        df['Price_per_SF'] = df['SalePrice'] / df['TotalSF']\n",
    "        df['Price_per_Room'] = df['SalePrice'] / df['TotRmsAbvGrd']\n",
    "        df['Price_per_Bath'] = df['SalePrice'] / df['TotalBathrooms']\n",
    "    \n",
    "    return df\n"
   ]
  },
  {
   "cell_type": "code",
   "execution_count": 5,
   "id": "be82d3b9-d481-4697-a718-c3c6884844e9",
   "metadata": {},
   "outputs": [],
   "source": [
    "df = add_features(train_df, is_train=True)"
   ]
  },
  {
   "cell_type": "code",
   "execution_count": 6,
   "id": "fe6dc2cb-8f20-4fdf-b4c2-4268c7c4625d",
   "metadata": {},
   "outputs": [
    {
     "data": {
      "text/plain": [
       "0"
      ]
     },
     "execution_count": 6,
     "metadata": {},
     "output_type": "execute_result"
    }
   ],
   "source": [
    "df.isnull().sum().sum()"
   ]
  },
  {
   "cell_type": "markdown",
   "id": "59639288-37bd-475a-9509-f8aab7a8a551",
   "metadata": {},
   "source": [
    "### detect anomoly"
   ]
  },
  {
   "cell_type": "code",
   "execution_count": 7,
   "id": "22afd1ad-e392-4be0-b389-609299a0762f",
   "metadata": {},
   "outputs": [],
   "source": [
    "def handle_outliers(df, columns):\n",
    "    for col in columns:\n",
    "        Q1 = df[col].quantile(0.25)\n",
    "        Q3 = df[col].quantile(0.75)\n",
    "        IQR = Q3 - Q1\n",
    "        df[col] = df[col].clip(Q1 - 1.5*IQR, Q3 + 1.5*IQR)\n",
    "    return df"
   ]
  },
  {
   "cell_type": "code",
   "execution_count": 8,
   "id": "6e60dbfb-4fba-46f4-8e81-61a0e1249db8",
   "metadata": {},
   "outputs": [],
   "source": [
    "numeric_cols = df.select_dtypes(include=['float64', 'int64']).columns\n",
    "df = handle_outliers(df, numeric_cols)"
   ]
  },
  {
   "cell_type": "code",
   "execution_count": 9,
   "id": "86b7285c-a9a9-4ff9-b69d-4cb8b14b795b",
   "metadata": {},
   "outputs": [
    {
     "data": {
      "text/plain": [
       "(1460, 119)"
      ]
     },
     "execution_count": 9,
     "metadata": {},
     "output_type": "execute_result"
    }
   ],
   "source": [
    "df.shape"
   ]
  },
  {
   "cell_type": "markdown",
   "id": "46d27684-bbe5-4354-bad6-6e5bf437e360",
   "metadata": {},
   "source": [
    "## Dataloaders"
   ]
  },
  {
   "cell_type": "code",
   "execution_count": 10,
   "id": "2c4ac265-44e6-4149-a65e-d46e6e384630",
   "metadata": {},
   "outputs": [],
   "source": [
    "splits = RandomSplitter(valid_pct=0.2, seed=20)(range_of(df))\n",
    "cont_names = [\n",
    "        'Age', 'TotalSF', 'TotalBathrooms', 'TotalPorchSF',\n",
    "        'OverallGrade', 'YearsSinceRemodel', 'ExterQual_num',\n",
    "        'KitchenQual_num', 'GrLivArea', 'LotArea',\n",
    "        'GarageAge', 'LivLotRatio', 'Density',\n",
    "        'BsmtQual_num', 'FireplaceQu_num', 'GarageQual_num']\n",
    "    \n",
    "cat_names = [\n",
    "        'MSSubClass', 'MSZoning', 'Street', 'LotShape',\n",
    "        'LandContour', 'Utilities', 'LotConfig', 'LandSlope',\n",
    "        'Neighborhood', 'Condition1', 'Condition2', 'BldgType',\n",
    "        'HouseStyle', 'RoofStyle', 'RoofMatl', 'Exterior1st',\n",
    "        'Exterior2nd', 'Foundation', 'Heating', 'CentralAir',\n",
    "        'Electrical', 'Functional', 'GarageType', 'PavedDrive',\n",
    "        'SaleType', 'SaleCondition', 'YrSold', 'MoSold']    "
   ]
  },
  {
   "cell_type": "code",
   "execution_count": 11,
   "id": "5e728da7-8a0d-4e01-801b-d27fbc3d8b87",
   "metadata": {},
   "outputs": [
    {
     "data": {
      "text/plain": [
       "44"
      ]
     },
     "execution_count": 11,
     "metadata": {},
     "output_type": "execute_result"
    }
   ],
   "source": [
    "len(cat_names)+len(cont_names)"
   ]
  },
  {
   "cell_type": "code",
   "execution_count": 12,
   "id": "fb978979-ede5-46af-ac1e-ebec3955289a",
   "metadata": {},
   "outputs": [],
   "source": [
    "train_tab = TabularPandas(df,\n",
    "                      procs=[FillMissing, Categorify,Normalize],\n",
    "                      cat_names=cat_names,\n",
    "                      cont_names=cont_names,\n",
    "                      y_names='SalePrice',\n",
    "                      splits=splits)\n",
    "\n",
    "trn_dls = train_tab.dataloaders(bs=32)"
   ]
  },
  {
   "cell_type": "code",
   "execution_count": 13,
   "id": "06972dcf-92f7-4d5e-9d58-1632a21fd6d3",
   "metadata": {},
   "outputs": [],
   "source": [
    "def r_mse(pred,y): return round(math.sqrt(((pred-y)**2).mean()), 6)\n",
    "def m_rmse(m, xs, y): return r_mse(m.predict(xs), y)"
   ]
  },
  {
   "cell_type": "markdown",
   "id": "5bc9e567-3f4c-44d6-8be1-0c29011e1893",
   "metadata": {},
   "source": [
    "# NN Model "
   ]
  },
  {
   "cell_type": "code",
   "execution_count": 14,
   "id": "0ce6113c-f20f-43ea-9248-052337d057a1",
   "metadata": {},
   "outputs": [],
   "source": [
    "model_nn = tabular_learner(trn_dls, \n",
    "                              layers=[200,40], \n",
    "                              metrics=[rmse],\n",
    "                              loss_func=MSELossFlat())"
   ]
  },
  {
   "cell_type": "code",
   "execution_count": 15,
   "id": "d618b605-dffe-4900-903a-0d4b809bfb2e",
   "metadata": {},
   "outputs": [
    {
     "data": {
      "text/html": [
       "\n",
       "<style>\n",
       "    /* Turns off some styling */\n",
       "    progress {\n",
       "        /* gets rid of default border in Firefox and Opera. */\n",
       "        border: none;\n",
       "        /* Needs to be in here for Safari polyfill so background images work as expected. */\n",
       "        background-size: auto;\n",
       "    }\n",
       "    progress:not([value]), progress:not([value])::-webkit-progress-bar {\n",
       "        background: repeating-linear-gradient(45deg, #7e7e7e, #7e7e7e 10px, #5c5c5c 10px, #5c5c5c 20px);\n",
       "    }\n",
       "    .progress-bar-interrupted, .progress-bar-interrupted::-webkit-progress-bar {\n",
       "        background: #F44336;\n",
       "    }\n",
       "</style>\n"
      ],
      "text/plain": [
       "<IPython.core.display.HTML object>"
      ]
     },
     "metadata": {},
     "output_type": "display_data"
    },
    {
     "data": {
      "text/html": [],
      "text/plain": [
       "<IPython.core.display.HTML object>"
      ]
     },
     "metadata": {},
     "output_type": "display_data"
    },
    {
     "data": {
      "text/plain": [
       "SuggestedLRs(valley=0.015848932787775993)"
      ]
     },
     "execution_count": 15,
     "metadata": {},
     "output_type": "execute_result"
    },
    {
     "data": {
      "image/png": "[encoded data removed]",
      "text/plain": [
       "<Figure size 640x480 with 1 Axes>"
      ]
     },
     "metadata": {},
     "output_type": "display_data"
    }
   ],
   "source": [
    "model_nn.lr_find()"
   ]
  },
  {
   "cell_type": "code",
   "execution_count": 16,
   "id": "1d22c33b-824e-4344-bfed-ca8c9dbf94a0",
   "metadata": {
    "scrolled": true
   },
   "outputs": [
    {
     "data": {
      "text/html": [
       "\n",
       "<style>\n",
       "    /* Turns off some styling */\n",
       "    progress {\n",
       "        /* gets rid of default border in Firefox and Opera. */\n",
       "        border: none;\n",
       "        /* Needs to be in here for Safari polyfill so background images work as expected. */\n",
       "        background-size: auto;\n",
       "    }\n",
       "    progress:not([value]), progress:not([value])::-webkit-progress-bar {\n",
       "        background: repeating-linear-gradient(45deg, #7e7e7e, #7e7e7e 10px, #5c5c5c 10px, #5c5c5c 20px);\n",
       "    }\n",
       "    .progress-bar-interrupted, .progress-bar-interrupted::-webkit-progress-bar {\n",
       "        background: #F44336;\n",
       "    }\n",
       "</style>\n"
      ],
      "text/plain": [
       "<IPython.core.display.HTML object>"
      ]
     },
     "metadata": {},
     "output_type": "display_data"
    },
    {
     "data": {
      "text/html": [
       "<table border=\"1\" class=\"dataframe\">\n",
       "  <thead>\n",
       "    <tr style=\"text-align: left;\">\n",
       "      <th>epoch</th>\n",
       "      <th>train_loss</th>\n",
       "      <th>valid_loss</th>\n",
       "      <th>_rmse</th>\n",
       "      <th>time</th>\n",
       "    </tr>\n",
       "  </thead>\n",
       "  <tbody>\n",
       "    <tr>\n",
       "      <td>0</td>\n",
       "      <td>143.100204</td>\n",
       "      <td>142.267487</td>\n",
       "      <td>11.927594</td>\n",
       "      <td>00:00</td>\n",
       "    </tr>\n",
       "    <tr>\n",
       "      <td>1</td>\n",
       "      <td>134.222839</td>\n",
       "      <td>111.816139</td>\n",
       "      <td>10.574316</td>\n",
       "      <td>00:00</td>\n",
       "    </tr>\n",
       "    <tr>\n",
       "      <td>2</td>\n",
       "      <td>93.420731</td>\n",
       "      <td>14.481365</td>\n",
       "      <td>3.805439</td>\n",
       "      <td>00:00</td>\n",
       "    </tr>\n",
       "    <tr>\n",
       "      <td>3</td>\n",
       "      <td>43.660297</td>\n",
       "      <td>0.207120</td>\n",
       "      <td>0.455105</td>\n",
       "      <td>00:00</td>\n",
       "    </tr>\n",
       "    <tr>\n",
       "      <td>4</td>\n",
       "      <td>20.605371</td>\n",
       "      <td>0.236838</td>\n",
       "      <td>0.486660</td>\n",
       "      <td>00:00</td>\n",
       "    </tr>\n",
       "    <tr>\n",
       "      <td>5</td>\n",
       "      <td>9.884183</td>\n",
       "      <td>0.210848</td>\n",
       "      <td>0.459182</td>\n",
       "      <td>00:00</td>\n",
       "    </tr>\n",
       "    <tr>\n",
       "      <td>6</td>\n",
       "      <td>4.781115</td>\n",
       "      <td>0.080072</td>\n",
       "      <td>0.282970</td>\n",
       "      <td>00:00</td>\n",
       "    </tr>\n",
       "    <tr>\n",
       "      <td>7</td>\n",
       "      <td>2.325555</td>\n",
       "      <td>0.029362</td>\n",
       "      <td>0.171354</td>\n",
       "      <td>00:00</td>\n",
       "    </tr>\n",
       "    <tr>\n",
       "      <td>8</td>\n",
       "      <td>1.139868</td>\n",
       "      <td>0.038136</td>\n",
       "      <td>0.195286</td>\n",
       "      <td>00:00</td>\n",
       "    </tr>\n",
       "    <tr>\n",
       "      <td>9</td>\n",
       "      <td>0.572378</td>\n",
       "      <td>0.090853</td>\n",
       "      <td>0.301419</td>\n",
       "      <td>00:00</td>\n",
       "    </tr>\n",
       "    <tr>\n",
       "      <td>10</td>\n",
       "      <td>0.300561</td>\n",
       "      <td>0.027704</td>\n",
       "      <td>0.166445</td>\n",
       "      <td>00:00</td>\n",
       "    </tr>\n",
       "    <tr>\n",
       "      <td>11</td>\n",
       "      <td>0.162162</td>\n",
       "      <td>0.029036</td>\n",
       "      <td>0.170399</td>\n",
       "      <td>00:00</td>\n",
       "    </tr>\n",
       "    <tr>\n",
       "      <td>12</td>\n",
       "      <td>0.102827</td>\n",
       "      <td>0.034052</td>\n",
       "      <td>0.184532</td>\n",
       "      <td>00:00</td>\n",
       "    </tr>\n",
       "    <tr>\n",
       "      <td>13</td>\n",
       "      <td>0.070442</td>\n",
       "      <td>0.045015</td>\n",
       "      <td>0.212168</td>\n",
       "      <td>00:00</td>\n",
       "    </tr>\n",
       "    <tr>\n",
       "      <td>14</td>\n",
       "      <td>0.048398</td>\n",
       "      <td>0.066810</td>\n",
       "      <td>0.258476</td>\n",
       "      <td>00:00</td>\n",
       "    </tr>\n",
       "    <tr>\n",
       "      <td>15</td>\n",
       "      <td>0.040166</td>\n",
       "      <td>0.036439</td>\n",
       "      <td>0.190889</td>\n",
       "      <td>00:00</td>\n",
       "    </tr>\n",
       "    <tr>\n",
       "      <td>16</td>\n",
       "      <td>0.037749</td>\n",
       "      <td>0.034850</td>\n",
       "      <td>0.186681</td>\n",
       "      <td>00:00</td>\n",
       "    </tr>\n",
       "    <tr>\n",
       "      <td>17</td>\n",
       "      <td>0.034614</td>\n",
       "      <td>0.026108</td>\n",
       "      <td>0.161580</td>\n",
       "      <td>00:00</td>\n",
       "    </tr>\n",
       "    <tr>\n",
       "      <td>18</td>\n",
       "      <td>0.031697</td>\n",
       "      <td>0.016101</td>\n",
       "      <td>0.126892</td>\n",
       "      <td>00:00</td>\n",
       "    </tr>\n",
       "    <tr>\n",
       "      <td>19</td>\n",
       "      <td>0.029015</td>\n",
       "      <td>0.017107</td>\n",
       "      <td>0.130796</td>\n",
       "      <td>00:00</td>\n",
       "    </tr>\n",
       "    <tr>\n",
       "      <td>20</td>\n",
       "      <td>0.027201</td>\n",
       "      <td>0.027306</td>\n",
       "      <td>0.165245</td>\n",
       "      <td>00:00</td>\n",
       "    </tr>\n",
       "    <tr>\n",
       "      <td>21</td>\n",
       "      <td>0.028548</td>\n",
       "      <td>0.040119</td>\n",
       "      <td>0.200296</td>\n",
       "      <td>00:00</td>\n",
       "    </tr>\n",
       "    <tr>\n",
       "      <td>22</td>\n",
       "      <td>0.027642</td>\n",
       "      <td>0.022026</td>\n",
       "      <td>0.148411</td>\n",
       "      <td>00:00</td>\n",
       "    </tr>\n",
       "    <tr>\n",
       "      <td>23</td>\n",
       "      <td>0.026098</td>\n",
       "      <td>0.018023</td>\n",
       "      <td>0.134251</td>\n",
       "      <td>00:00</td>\n",
       "    </tr>\n",
       "    <tr>\n",
       "      <td>24</td>\n",
       "      <td>0.022448</td>\n",
       "      <td>0.014875</td>\n",
       "      <td>0.121963</td>\n",
       "      <td>00:00</td>\n",
       "    </tr>\n",
       "    <tr>\n",
       "      <td>25</td>\n",
       "      <td>0.022951</td>\n",
       "      <td>0.027479</td>\n",
       "      <td>0.165769</td>\n",
       "      <td>00:00</td>\n",
       "    </tr>\n",
       "    <tr>\n",
       "      <td>26</td>\n",
       "      <td>0.021678</td>\n",
       "      <td>0.018640</td>\n",
       "      <td>0.136529</td>\n",
       "      <td>00:00</td>\n",
       "    </tr>\n",
       "    <tr>\n",
       "      <td>27</td>\n",
       "      <td>0.019144</td>\n",
       "      <td>0.015062</td>\n",
       "      <td>0.122729</td>\n",
       "      <td>00:00</td>\n",
       "    </tr>\n",
       "    <tr>\n",
       "      <td>28</td>\n",
       "      <td>0.018392</td>\n",
       "      <td>0.014056</td>\n",
       "      <td>0.118559</td>\n",
       "      <td>00:00</td>\n",
       "    </tr>\n",
       "    <tr>\n",
       "      <td>29</td>\n",
       "      <td>0.017813</td>\n",
       "      <td>0.014118</td>\n",
       "      <td>0.118819</td>\n",
       "      <td>00:00</td>\n",
       "    </tr>\n",
       "  </tbody>\n",
       "</table>"
      ],
      "text/plain": [
       "<IPython.core.display.HTML object>"
      ]
     },
     "metadata": {},
     "output_type": "display_data"
    }
   ],
   "source": [
    "model_nn.fit_one_cycle(30, 0.02)"
   ]
  },
  {
   "cell_type": "code",
   "execution_count": 17,
   "id": "8b84fd2c-f81e-45c0-86c0-67b3065d923b",
   "metadata": {},
   "outputs": [
    {
     "data": {
      "text/html": [
       "\n",
       "<style>\n",
       "    /* Turns off some styling */\n",
       "    progress {\n",
       "        /* gets rid of default border in Firefox and Opera. */\n",
       "        border: none;\n",
       "        /* Needs to be in here for Safari polyfill so background images work as expected. */\n",
       "        background-size: auto;\n",
       "    }\n",
       "    progress:not([value]), progress:not([value])::-webkit-progress-bar {\n",
       "        background: repeating-linear-gradient(45deg, #7e7e7e, #7e7e7e 10px, #5c5c5c 10px, #5c5c5c 20px);\n",
       "    }\n",
       "    .progress-bar-interrupted, .progress-bar-interrupted::-webkit-progress-bar {\n",
       "        background: #F44336;\n",
       "    }\n",
       "</style>\n"
      ],
      "text/plain": [
       "<IPython.core.display.HTML object>"
      ]
     },
     "metadata": {},
     "output_type": "display_data"
    },
    {
     "data": {
      "text/html": [],
      "text/plain": [
       "<IPython.core.display.HTML object>"
      ]
     },
     "metadata": {},
     "output_type": "display_data"
    },
    {
     "data": {
      "text/plain": [
       "0.118819"
      ]
     },
     "execution_count": 17,
     "metadata": {},
     "output_type": "execute_result"
    }
   ],
   "source": [
    "nn_preds, nn_targs = model_nn.get_preds()\n",
    "r_mse(nn_preds, nn_targs)"
   ]
  },
  {
   "cell_type": "markdown",
   "id": "529079f6-b22b-4ec2-9d6e-5896ee68ea91",
   "metadata": {},
   "source": [
    "### Ensemble models"
   ]
  },
  {
   "cell_type": "code",
   "execution_count": 18,
   "id": "87346033-e897-473e-a6d0-a802ad9fb542",
   "metadata": {},
   "outputs": [],
   "source": [
    "train_xs = trn_dls.train.xs\n",
    "train_y = trn_dls.train.y\n",
    "valid_xs = trn_dls.valid.xs\n",
    "valid_y = trn_dls.valid.y"
   ]
  },
  {
   "cell_type": "code",
   "execution_count": 19,
   "id": "fb572ced-adec-4dc2-9619-1773b41ff037",
   "metadata": {},
   "outputs": [],
   "source": [
    "from xgboost import XGBRegressor\n",
    "from catboost import CatBoostRegressor"
   ]
  },
  {
   "cell_type": "markdown",
   "id": "dd798b92-2fea-4d73-8f09-74d07bfbff28",
   "metadata": {},
   "source": [
    "### xgboost"
   ]
  },
  {
   "cell_type": "code",
   "execution_count": 20,
   "id": "52d6ef56-4fe4-4bc7-99e8-282706a01816",
   "metadata": {},
   "outputs": [
    {
     "name": "stdout",
     "output_type": "stream",
     "text": [
      "[0]\tvalidation_0-rmse:0.39333\n",
      "[100]\tvalidation_0-rmse:0.20463\n",
      "[200]\tvalidation_0-rmse:0.14555\n",
      "[300]\tvalidation_0-rmse:0.12910\n",
      "[400]\tvalidation_0-rmse:0.12421\n",
      "[500]\tvalidation_0-rmse:0.12262\n",
      "[600]\tvalidation_0-rmse:0.12218\n",
      "[700]\tvalidation_0-rmse:0.12203\n",
      "[800]\tvalidation_0-rmse:0.12187\n",
      "[900]\tvalidation_0-rmse:0.12178\n",
      "[1000]\tvalidation_0-rmse:0.12169\n",
      "[1100]\tvalidation_0-rmse:0.12166\n",
      "[1200]\tvalidation_0-rmse:0.12162\n",
      "[1300]\tvalidation_0-rmse:0.12155\n",
      "[1400]\tvalidation_0-rmse:0.12152\n",
      "[1500]\tvalidation_0-rmse:0.12151\n",
      "[1600]\tvalidation_0-rmse:0.12146\n",
      "[1700]\tvalidation_0-rmse:0.12144\n",
      "[1800]\tvalidation_0-rmse:0.12142\n",
      "[1900]\tvalidation_0-rmse:0.12141\n",
      "[2000]\tvalidation_0-rmse:0.12140\n",
      "[2100]\tvalidation_0-rmse:0.12140\n",
      "[2200]\tvalidation_0-rmse:0.12138\n",
      "[2300]\tvalidation_0-rmse:0.12132\n",
      "[2400]\tvalidation_0-rmse:0.12133\n",
      "[2406]\tvalidation_0-rmse:0.12133\n"
     ]
    },
    {
     "data": {
      "text/html": [
       "<style>#sk-container-id-1 {\n",
       "  /* Definition of color scheme common for light and dark mode */\n",
       "  --sklearn-color-text: black;\n",
       "  --sklearn-color-line: gray;\n",
       "  /* Definition of color scheme for unfitted estimators */\n",
       "  --sklearn-color-unfitted-level-0: #fff5e6;\n",
       "  --sklearn-color-unfitted-level-1: #f6e4d2;\n",
       "  --sklearn-color-unfitted-level-2: #ffe0b3;\n",
       "  --sklearn-color-unfitted-level-3: chocolate;\n",
       "  /* Definition of color scheme for fitted estimators */\n",
       "  --sklearn-color-fitted-level-0: #f0f8ff;\n",
       "  --sklearn-color-fitted-level-1: #d4ebff;\n",
       "  --sklearn-color-fitted-level-2: #b3dbfd;\n",
       "  --sklearn-color-fitted-level-3: cornflowerblue;\n",
       "\n",
       "  /* Specific color for light theme */\n",
       "  --sklearn-color-text-on-default-background: var(--sg-text-color, var(--theme-code-foreground, var(--jp-content-font-color1, black)));\n",
       "  --sklearn-color-background: var(--sg-background-color, var(--theme-background, var(--jp-layout-color0, white)));\n",
       "  --sklearn-color-border-box: var(--sg-text-color, var(--theme-code-foreground, var(--jp-content-font-color1, black)));\n",
       "  --sklearn-color-icon: #696969;\n",
       "\n",
       "  @media (prefers-color-scheme: dark) {\n",
       "    /* Redefinition of color scheme for dark theme */\n",
       "    --sklearn-color-text-on-default-background: var(--sg-text-color, var(--theme-code-foreground, var(--jp-content-font-color1, white)));\n",
       "    --sklearn-color-background: var(--sg-background-color, var(--theme-background, var(--jp-layout-color0, #111)));\n",
       "    --sklearn-color-border-box: var(--sg-text-color, var(--theme-code-foreground, var(--jp-content-font-color1, white)));\n",
       "    --sklearn-color-icon: #878787;\n",
       "  }\n",
       "}\n",
       "\n",
       "#sk-container-id-1 {\n",
       "  color: var(--sklearn-color-text);\n",
       "}\n",
       "\n",
       "#sk-container-id-1 pre {\n",
       "  padding: 0;\n",
       "}\n",
       "\n",
       "#sk-container-id-1 input.sk-hidden--visually {\n",
       "  border: 0;\n",
       "  clip: rect(1px 1px 1px 1px);\n",
       "  clip: rect(1px, 1px, 1px, 1px);\n",
       "  height: 1px;\n",
       "  margin: -1px;\n",
       "  overflow: hidden;\n",
       "  padding: 0;\n",
       "  position: absolute;\n",
       "  width: 1px;\n",
       "}\n",
       "\n",
       "#sk-container-id-1 div.sk-dashed-wrapped {\n",
       "  border: 1px dashed var(--sklearn-color-line);\n",
       "  margin: 0 0.4em 0.5em 0.4em;\n",
       "  box-sizing: border-box;\n",
       "  padding-bottom: 0.4em;\n",
       "  background-color: var(--sklearn-color-background);\n",
       "}\n",
       "\n",
       "#sk-container-id-1 div.sk-container {\n",
       "  /* jupyter's `normalize.less` sets `[hidden] { display: none; }`\n",
       "     but bootstrap.min.css set `[hidden] { display: none !important; }`\n",
       "     so we also need the `!important` here to be able to override the\n",
       "     default hidden behavior on the sphinx rendered scikit-learn.org.\n",
       "     See: https://github.com/scikit-learn/scikit-learn/issues/21755 */\n",
       "  display: inline-block !important;\n",
       "  position: relative;\n",
       "}\n",
       "\n",
       "#sk-container-id-1 div.sk-text-repr-fallback {\n",
       "  display: none;\n",
       "}\n",
       "\n",
       "div.sk-parallel-item,\n",
       "div.sk-serial,\n",
       "div.sk-item {\n",
       "  /* draw centered vertical line to link estimators */\n",
       "  background-image: linear-gradient(var(--sklearn-color-text-on-default-background), var(--sklearn-color-text-on-default-background));\n",
       "  background-size: 2px 100%;\n",
       "  background-repeat: no-repeat;\n",
       "  background-position: center center;\n",
       "}\n",
       "\n",
       "/* Parallel-specific style estimator block */\n",
       "\n",
       "#sk-container-id-1 div.sk-parallel-item::after {\n",
       "  content: \"\";\n",
       "  width: 100%;\n",
       "  border-bottom: 2px solid var(--sklearn-color-text-on-default-background);\n",
       "  flex-grow: 1;\n",
       "}\n",
       "\n",
       "#sk-container-id-1 div.sk-parallel {\n",
       "  display: flex;\n",
       "  align-items: stretch;\n",
       "  justify-content: center;\n",
       "  background-color: var(--sklearn-color-background);\n",
       "  position: relative;\n",
       "}\n",
       "\n",
       "#sk-container-id-1 div.sk-parallel-item {\n",
       "  display: flex;\n",
       "  flex-direction: column;\n",
       "}\n",
       "\n",
       "#sk-container-id-1 div.sk-parallel-item:first-child::after {\n",
       "  align-self: flex-end;\n",
       "  width: 50%;\n",
       "}\n",
       "\n",
       "#sk-container-id-1 div.sk-parallel-item:last-child::after {\n",
       "  align-self: flex-start;\n",
       "  width: 50%;\n",
       "}\n",
       "\n",
       "#sk-container-id-1 div.sk-parallel-item:only-child::after {\n",
       "  width: 0;\n",
       "}\n",
       "\n",
       "/* Serial-specific style estimator block */\n",
       "\n",
       "#sk-container-id-1 div.sk-serial {\n",
       "  display: flex;\n",
       "  flex-direction: column;\n",
       "  align-items: center;\n",
       "  background-color: var(--sklearn-color-background);\n",
       "  padding-right: 1em;\n",
       "  padding-left: 1em;\n",
       "}\n",
       "\n",
       "\n",
       "/* Toggleable style: style used for estimator/Pipeline/ColumnTransformer box that is\n",
       "clickable and can be expanded/collapsed.\n",
       "- Pipeline and ColumnTransformer use this feature and define the default style\n",
       "- Estimators will overwrite some part of the style using the `sk-estimator` class\n",
       "*/\n",
       "\n",
       "/* Pipeline and ColumnTransformer style (default) */\n",
       "\n",
       "#sk-container-id-1 div.sk-toggleable {\n",
       "  /* Default theme specific background. It is overwritten whether we have a\n",
       "  specific estimator or a Pipeline/ColumnTransformer */\n",
       "  background-color: var(--sklearn-color-background);\n",
       "}\n",
       "\n",
       "/* Toggleable label */\n",
       "#sk-container-id-1 label.sk-toggleable__label {\n",
       "  cursor: pointer;\n",
       "  display: block;\n",
       "  width: 100%;\n",
       "  margin-bottom: 0;\n",
       "  padding: 0.5em;\n",
       "  box-sizing: border-box;\n",
       "  text-align: center;\n",
       "}\n",
       "\n",
       "#sk-container-id-1 label.sk-toggleable__label-arrow:before {\n",
       "  /* Arrow on the left of the label */\n",
       "  content: \"▸\";\n",
       "  float: left;\n",
       "  margin-right: 0.25em;\n",
       "  color: var(--sklearn-color-icon);\n",
       "}\n",
       "\n",
       "#sk-container-id-1 label.sk-toggleable__label-arrow:hover:before {\n",
       "  color: var(--sklearn-color-text);\n",
       "}\n",
       "\n",
       "/* Toggleable content - dropdown */\n",
       "\n",
       "#sk-container-id-1 div.sk-toggleable__content {\n",
       "  max-height: 0;\n",
       "  max-width: 0;\n",
       "  overflow: hidden;\n",
       "  text-align: left;\n",
       "  /* unfitted */\n",
       "  background-color: var(--sklearn-color-unfitted-level-0);\n",
       "}\n",
       "\n",
       "#sk-container-id-1 div.sk-toggleable__content.fitted {\n",
       "  /* fitted */\n",
       "  background-color: var(--sklearn-color-fitted-level-0);\n",
       "}\n",
       "\n",
       "#sk-container-id-1 div.sk-toggleable__content pre {\n",
       "  margin: 0.2em;\n",
       "  border-radius: 0.25em;\n",
       "  color: var(--sklearn-color-text);\n",
       "  /* unfitted */\n",
       "  background-color: var(--sklearn-color-unfitted-level-0);\n",
       "}\n",
       "\n",
       "#sk-container-id-1 div.sk-toggleable__content.fitted pre {\n",
       "  /* unfitted */\n",
       "  background-color: var(--sklearn-color-fitted-level-0);\n",
       "}\n",
       "\n",
       "#sk-container-id-1 input.sk-toggleable__control:checked~div.sk-toggleable__content {\n",
       "  /* Expand drop-down */\n",
       "  max-height: 200px;\n",
       "  max-width: 100%;\n",
       "  overflow: auto;\n",
       "}\n",
       "\n",
       "#sk-container-id-1 input.sk-toggleable__control:checked~label.sk-toggleable__label-arrow:before {\n",
       "  content: \"▾\";\n",
       "}\n",
       "\n",
       "/* Pipeline/ColumnTransformer-specific style */\n",
       "\n",
       "#sk-container-id-1 div.sk-label input.sk-toggleable__control:checked~label.sk-toggleable__label {\n",
       "  color: var(--sklearn-color-text);\n",
       "  background-color: var(--sklearn-color-unfitted-level-2);\n",
       "}\n",
       "\n",
       "#sk-container-id-1 div.sk-label.fitted input.sk-toggleable__control:checked~label.sk-toggleable__label {\n",
       "  background-color: var(--sklearn-color-fitted-level-2);\n",
       "}\n",
       "\n",
       "/* Estimator-specific style */\n",
       "\n",
       "/* Colorize estimator box */\n",
       "#sk-container-id-1 div.sk-estimator input.sk-toggleable__control:checked~label.sk-toggleable__label {\n",
       "  /* unfitted */\n",
       "  background-color: var(--sklearn-color-unfitted-level-2);\n",
       "}\n",
       "\n",
       "#sk-container-id-1 div.sk-estimator.fitted input.sk-toggleable__control:checked~label.sk-toggleable__label {\n",
       "  /* fitted */\n",
       "  background-color: var(--sklearn-color-fitted-level-2);\n",
       "}\n",
       "\n",
       "#sk-container-id-1 div.sk-label label.sk-toggleable__label,\n",
       "#sk-container-id-1 div.sk-label label {\n",
       "  /* The background is the default theme color */\n",
       "  color: var(--sklearn-color-text-on-default-background);\n",
       "}\n",
       "\n",
       "/* On hover, darken the color of the background */\n",
       "#sk-container-id-1 div.sk-label:hover label.sk-toggleable__label {\n",
       "  color: var(--sklearn-color-text);\n",
       "  background-color: var(--sklearn-color-unfitted-level-2);\n",
       "}\n",
       "\n",
       "/* Label box, darken color on hover, fitted */\n",
       "#sk-container-id-1 div.sk-label.fitted:hover label.sk-toggleable__label.fitted {\n",
       "  color: var(--sklearn-color-text);\n",
       "  background-color: var(--sklearn-color-fitted-level-2);\n",
       "}\n",
       "\n",
       "/* Estimator label */\n",
       "\n",
       "#sk-container-id-1 div.sk-label label {\n",
       "  font-family: monospace;\n",
       "  font-weight: bold;\n",
       "  display: inline-block;\n",
       "  line-height: 1.2em;\n",
       "}\n",
       "\n",
       "#sk-container-id-1 div.sk-label-container {\n",
       "  text-align: center;\n",
       "}\n",
       "\n",
       "/* Estimator-specific */\n",
       "#sk-container-id-1 div.sk-estimator {\n",
       "  font-family: monospace;\n",
       "  border: 1px dotted var(--sklearn-color-border-box);\n",
       "  border-radius: 0.25em;\n",
       "  box-sizing: border-box;\n",
       "  margin-bottom: 0.5em;\n",
       "  /* unfitted */\n",
       "  background-color: var(--sklearn-color-unfitted-level-0);\n",
       "}\n",
       "\n",
       "#sk-container-id-1 div.sk-estimator.fitted {\n",
       "  /* fitted */\n",
       "  background-color: var(--sklearn-color-fitted-level-0);\n",
       "}\n",
       "\n",
       "/* on hover */\n",
       "#sk-container-id-1 div.sk-estimator:hover {\n",
       "  /* unfitted */\n",
       "  background-color: var(--sklearn-color-unfitted-level-2);\n",
       "}\n",
       "\n",
       "#sk-container-id-1 div.sk-estimator.fitted:hover {\n",
       "  /* fitted */\n",
       "  background-color: var(--sklearn-color-fitted-level-2);\n",
       "}\n",
       "\n",
       "/* Specification for estimator info (e.g. \"i\" and \"?\") */\n",
       "\n",
       "/* Common style for \"i\" and \"?\" */\n",
       "\n",
       ".sk-estimator-doc-link,\n",
       "a:link.sk-estimator-doc-link,\n",
       "a:visited.sk-estimator-doc-link {\n",
       "  float: right;\n",
       "  font-size: smaller;\n",
       "  line-height: 1em;\n",
       "  font-family: monospace;\n",
       "  background-color: var(--sklearn-color-background);\n",
       "  border-radius: 1em;\n",
       "  height: 1em;\n",
       "  width: 1em;\n",
       "  text-decoration: none !important;\n",
       "  margin-left: 1ex;\n",
       "  /* unfitted */\n",
       "  border: var(--sklearn-color-unfitted-level-1) 1pt solid;\n",
       "  color: var(--sklearn-color-unfitted-level-1);\n",
       "}\n",
       "\n",
       ".sk-estimator-doc-link.fitted,\n",
       "a:link.sk-estimator-doc-link.fitted,\n",
       "a:visited.sk-estimator-doc-link.fitted {\n",
       "  /* fitted */\n",
       "  border: var(--sklearn-color-fitted-level-1) 1pt solid;\n",
       "  color: var(--sklearn-color-fitted-level-1);\n",
       "}\n",
       "\n",
       "/* On hover */\n",
       "div.sk-estimator:hover .sk-estimator-doc-link:hover,\n",
       ".sk-estimator-doc-link:hover,\n",
       "div.sk-label-container:hover .sk-estimator-doc-link:hover,\n",
       ".sk-estimator-doc-link:hover {\n",
       "  /* unfitted */\n",
       "  background-color: var(--sklearn-color-unfitted-level-3);\n",
       "  color: var(--sklearn-color-background);\n",
       "  text-decoration: none;\n",
       "}\n",
       "\n",
       "div.sk-estimator.fitted:hover .sk-estimator-doc-link.fitted:hover,\n",
       ".sk-estimator-doc-link.fitted:hover,\n",
       "div.sk-label-container:hover .sk-estimator-doc-link.fitted:hover,\n",
       ".sk-estimator-doc-link.fitted:hover {\n",
       "  /* fitted */\n",
       "  background-color: var(--sklearn-color-fitted-level-3);\n",
       "  color: var(--sklearn-color-background);\n",
       "  text-decoration: none;\n",
       "}\n",
       "\n",
       "/* Span, style for the box shown on hovering the info icon */\n",
       ".sk-estimator-doc-link span {\n",
       "  display: none;\n",
       "  z-index: 9999;\n",
       "  position: relative;\n",
       "  font-weight: normal;\n",
       "  right: .2ex;\n",
       "  padding: .5ex;\n",
       "  margin: .5ex;\n",
       "  width: min-content;\n",
       "  min-width: 20ex;\n",
       "  max-width: 50ex;\n",
       "  color: var(--sklearn-color-text);\n",
       "  box-shadow: 2pt 2pt 4pt #999;\n",
       "  /* unfitted */\n",
       "  background: var(--sklearn-color-unfitted-level-0);\n",
       "  border: .5pt solid var(--sklearn-color-unfitted-level-3);\n",
       "}\n",
       "\n",
       ".sk-estimator-doc-link.fitted span {\n",
       "  /* fitted */\n",
       "  background: var(--sklearn-color-fitted-level-0);\n",
       "  border: var(--sklearn-color-fitted-level-3);\n",
       "}\n",
       "\n",
       ".sk-estimator-doc-link:hover span {\n",
       "  display: block;\n",
       "}\n",
       "\n",
       "/* \"?\"-specific style due to the `<a>` HTML tag */\n",
       "\n",
       "#sk-container-id-1 a.estimator_doc_link {\n",
       "  float: right;\n",
       "  font-size: 1rem;\n",
       "  line-height: 1em;\n",
       "  font-family: monospace;\n",
       "  background-color: var(--sklearn-color-background);\n",
       "  border-radius: 1rem;\n",
       "  height: 1rem;\n",
       "  width: 1rem;\n",
       "  text-decoration: none;\n",
       "  /* unfitted */\n",
       "  color: var(--sklearn-color-unfitted-level-1);\n",
       "  border: var(--sklearn-color-unfitted-level-1) 1pt solid;\n",
       "}\n",
       "\n",
       "#sk-container-id-1 a.estimator_doc_link.fitted {\n",
       "  /* fitted */\n",
       "  border: var(--sklearn-color-fitted-level-1) 1pt solid;\n",
       "  color: var(--sklearn-color-fitted-level-1);\n",
       "}\n",
       "\n",
       "/* On hover */\n",
       "#sk-container-id-1 a.estimator_doc_link:hover {\n",
       "  /* unfitted */\n",
       "  background-color: var(--sklearn-color-unfitted-level-3);\n",
       "  color: var(--sklearn-color-background);\n",
       "  text-decoration: none;\n",
       "}\n",
       "\n",
       "#sk-container-id-1 a.estimator_doc_link.fitted:hover {\n",
       "  /* fitted */\n",
       "  background-color: var(--sklearn-color-fitted-level-3);\n",
       "}\n",
       "</style><div id=\"sk-container-id-1\" class=\"sk-top-container\"><div class=\"sk-text-repr-fallback\"><pre>XGBRegressor(base_score=None, booster=None, callbacks=None,\n",
       "             colsample_bylevel=None, colsample_bynode=None,\n",
       "             colsample_bytree=0.8, device=None, early_stopping_rounds=100,\n",
       "             enable_categorical=False, eval_metric=&#x27;rmse&#x27;, feature_types=None,\n",
       "             feature_weights=None, gamma=0.1, grow_policy=None,\n",
       "             importance_type=None, interaction_constraints=None,\n",
       "             learning_rate=0.01, max_bin=None, max_cat_threshold=None,\n",
       "             max_cat_to_onehot=None, max_delta_step=None, max_depth=5,\n",
       "             max_leaves=None, min_child_weight=1, missing=nan,\n",
       "             monotone_constraints=None, multi_strategy=None, n_estimators=3000,\n",
       "             n_jobs=None, num_parallel_tree=None, ...)</pre><b>In a Jupyter environment, please rerun this cell to show the HTML representation or trust the notebook. <br />On GitHub, the HTML representation is unable to render, please try loading this page with nbviewer.org.</b></div><div class=\"sk-container\" hidden><div class=\"sk-item\"><div class=\"sk-estimator fitted sk-toggleable\"><input class=\"sk-toggleable__control sk-hidden--visually\" id=\"sk-estimator-id-1\" type=\"checkbox\" checked><label for=\"sk-estimator-id-1\" class=\"sk-toggleable__label fitted sk-toggleable__label-arrow fitted\">&nbsp;&nbsp;XGBRegressor<a class=\"sk-estimator-doc-link fitted\" rel=\"noreferrer\" target=\"_blank\" href=\"https://xgboost.readthedocs.io/en/release_3.0.0/python/python_api.html#xgboost.XGBRegressor\">?<span>Documentation for XGBRegressor</span></a><span class=\"sk-estimator-doc-link fitted\">i<span>Fitted</span></span></label><div class=\"sk-toggleable__content fitted\"><pre>XGBRegressor(base_score=None, booster=None, callbacks=None,\n",
       "             colsample_bylevel=None, colsample_bynode=None,\n",
       "             colsample_bytree=0.8, device=None, early_stopping_rounds=100,\n",
       "             enable_categorical=False, eval_metric=&#x27;rmse&#x27;, feature_types=None,\n",
       "             feature_weights=None, gamma=0.1, grow_policy=None,\n",
       "             importance_type=None, interaction_constraints=None,\n",
       "             learning_rate=0.01, max_bin=None, max_cat_threshold=None,\n",
       "             max_cat_to_onehot=None, max_delta_step=None, max_depth=5,\n",
       "             max_leaves=None, min_child_weight=1, missing=nan,\n",
       "             monotone_constraints=None, multi_strategy=None, n_estimators=3000,\n",
       "             n_jobs=None, num_parallel_tree=None, ...)</pre></div> </div></div></div></div>"
      ],
      "text/plain": [
       "XGBRegressor(base_score=None, booster=None, callbacks=None,\n",
       "             colsample_bylevel=None, colsample_bynode=None,\n",
       "             colsample_bytree=0.8, device=None, early_stopping_rounds=100,\n",
       "             enable_categorical=False, eval_metric='rmse', feature_types=None,\n",
       "             feature_weights=None, gamma=0.1, grow_policy=None,\n",
       "             importance_type=None, interaction_constraints=None,\n",
       "             learning_rate=0.01, max_bin=None, max_cat_threshold=None,\n",
       "             max_cat_to_onehot=None, max_delta_step=None, max_depth=5,\n",
       "             max_leaves=None, min_child_weight=1, missing=nan,\n",
       "             monotone_constraints=None, multi_strategy=None, n_estimators=3000,\n",
       "             n_jobs=None, num_parallel_tree=None, ...)"
      ]
     },
     "execution_count": 20,
     "metadata": {},
     "output_type": "execute_result"
    }
   ],
   "source": [
    "xgb_params = {\n",
    "    'objective': 'reg:squarederror',\n",
    "    'eval_metric': 'rmse',\n",
    "    'max_depth': 5,\n",
    "    'learning_rate': 0.01,\n",
    "    'subsample': 0.8,\n",
    "    'colsample_bytree': 0.8,\n",
    "    'min_child_weight': 1,\n",
    "    'gamma': 0.1,\n",
    "    'reg_alpha': 0.1,\n",
    "    'reg_lambda': 1,\n",
    "    'n_estimators': 3000,\n",
    "    'early_stopping_rounds': 100\n",
    "}\n",
    "model_xgb = XGBRegressor(**xgb_params)\n",
    "model_xgb.fit(\n",
    "            train_xs, train_y,\n",
    "            eval_set=[(valid_xs, valid_y)],\n",
    "            verbose=100\n",
    "        )"
   ]
  },
  {
   "cell_type": "code",
   "execution_count": 21,
   "id": "a4029abe-6c25-41e8-b114-bb0f1d319605",
   "metadata": {},
   "outputs": [
    {
     "data": {
      "text/plain": [
       "(0.087773, 0.121323)"
      ]
     },
     "execution_count": 21,
     "metadata": {},
     "output_type": "execute_result"
    }
   ],
   "source": [
    "m_rmse(model_xgb, train_xs,train_y), m_rmse(model_xgb, valid_xs, valid_y)"
   ]
  },
  {
   "cell_type": "code",
   "execution_count": 22,
   "id": "1d14999e-9526-4a67-9a7d-d8a91c1f654d",
   "metadata": {},
   "outputs": [
    {
     "data": {
      "text/plain": [
       "<catboost.core.CatBoostRegressor at 0x351cd31d0>"
      ]
     },
     "execution_count": 22,
     "metadata": {},
     "output_type": "execute_result"
    }
   ],
   "source": [
    "cat_params = {\n",
    "    'objective': 'RMSE',\n",
    "    'iterations': 3000,\n",
    "    'learning_rate': 0.01,\n",
    "    'depth': 6,\n",
    "    'l2_leaf_reg': 3,\n",
    "    'random_strength': 0.1,\n",
    "    'min_data_in_leaf': 5,\n",
    "    'bagging_temperature': 1,\n",
    "    'early_stopping_rounds': 100\n",
    "}\n",
    "model_cat = CatBoostRegressor(**cat_params)\n",
    "model_cat.fit(\n",
    "            train_xs, train_y,\n",
    "            eval_set=[(valid_xs, valid_y)],\n",
    "            verbose=False\n",
    "        )"
   ]
  },
  {
   "cell_type": "code",
   "execution_count": 23,
   "id": "a311aff7-218f-4237-b3f6-a333432ac684",
   "metadata": {},
   "outputs": [
    {
     "data": {
      "text/plain": [
       "(0.063522, 0.115959)"
      ]
     },
     "execution_count": 23,
     "metadata": {},
     "output_type": "execute_result"
    }
   ],
   "source": [
    "m_rmse(model_cat, train_xs,train_y), m_rmse(model_cat, valid_xs, valid_y)"
   ]
  },
  {
   "cell_type": "markdown",
   "id": "078a8047-8ed7-49f3-96fa-3d53a1cb2dd3",
   "metadata": {},
   "source": [
    "# Testset predictions"
   ]
  },
  {
   "cell_type": "code",
   "execution_count": null,
   "id": "5ff82416-9693-4ce1-ad8a-5cd473eeced7",
   "metadata": {},
   "outputs": [],
   "source": [
    "test_df = pd.read_csv(path/'test.csv', low_memory=False)\n",
    "tdf = add_features(test_df, is_train=False)\n",
    "\n",
    "numeric_cols = tdf.select_dtypes(include=['float64', 'int64']).columns\n",
    "tdf = handle_outliers(tdf, numeric_cols)"
   ]
  },
  {
   "cell_type": "code",
   "execution_count": null,
   "id": "a16e5902-6d5e-4d4b-b8e1-bceb7ccccc30",
   "metadata": {},
   "outputs": [],
   "source": [
    "test_dls = TabularPandas(tdf, \n",
    "                         procs=[FillMissing, Categorify, Normalize],\n",
    "                        cat_names=cat_names,\n",
    "                         cont_names=cont_names,\n",
    "                         y_names=None,\n",
    "                         splits=None).dataloaders(bs=32)\n",
    "\n",
    "test_xs = test_dls.train.xs"
   ]
  },
  {
   "cell_type": "code",
   "execution_count": null,
   "id": "8c0e9a0e-69d4-4216-af9d-01432ef3f4c6",
   "metadata": {},
   "outputs": [],
   "source": [
    "p_xgb = model_xgb.predict(test_xs)\n",
    "p_cat = model_cat.predict(test_xs)"
   ]
  },
  {
   "cell_type": "code",
   "execution_count": 35,
   "id": "7a1061cb-85d5-4b65-a8d5-20d72060caeb",
   "metadata": {},
   "outputs": [
    {
     "data": {
      "text/html": [
       "\n",
       "<style>\n",
       "    /* Turns off some styling */\n",
       "    progress {\n",
       "        /* gets rid of default border in Firefox and Opera. */\n",
       "        border: none;\n",
       "        /* Needs to be in here for Safari polyfill so background images work as expected. */\n",
       "        background-size: auto;\n",
       "    }\n",
       "    progress:not([value]), progress:not([value])::-webkit-progress-bar {\n",
       "        background: repeating-linear-gradient(45deg, #7e7e7e, #7e7e7e 10px, #5c5c5c 10px, #5c5c5c 20px);\n",
       "    }\n",
       "    .progress-bar-interrupted, .progress-bar-interrupted::-webkit-progress-bar {\n",
       "        background: #F44336;\n",
       "    }\n",
       "</style>\n"
      ],
      "text/plain": [
       "<IPython.core.display.HTML object>"
      ]
     },
     "metadata": {},
     "output_type": "display_data"
    },
    {
     "data": {
      "text/html": [],
      "text/plain": [
       "<IPython.core.display.HTML object>"
      ]
     },
     "metadata": {},
     "output_type": "display_data"
    }
   ],
   "source": [
    "tdl = model_nn.dls.test_dl(tdf)\n",
    "p,_ = model_nn.get_preds(dl=tdl)\n",
    "p_nn = to_np(p.squeeze())"
   ]
  },
  {
   "cell_type": "code",
   "execution_count": 36,
   "id": "97ed010d-4680-49e0-a5e4-d87fb562aafe",
   "metadata": {},
   "outputs": [
    {
     "data": {
      "text/plain": [
       "array([123982.31574475, 168361.0795035 , 168696.87776403, ...,\n",
       "       144477.21692157, 126590.81201903, 196616.33844972])"
      ]
     },
     "execution_count": 36,
     "metadata": {},
     "output_type": "execute_result"
    }
   ],
   "source": [
    "preds_log = (0.3*p_xgb + 0.3*p_cat + 0.4*p_nn)\n",
    "preds_final = np.expm1(preds_log)\n",
    "preds_final"
   ]
  },
  {
   "cell_type": "markdown",
   "id": "a0a40243-ea15-455b-8e5d-a6dcf95dd77a",
   "metadata": {},
   "source": [
    "### Kaggle Submission"
   ]
  },
  {
   "cell_type": "code",
   "execution_count": null,
   "id": "a5558f40-6780-4aea-8c03-36ec6c44df98",
   "metadata": {},
   "outputs": [],
   "source": [
    "preds_df = pd.DataFrame(preds_final, columns=['SalePrice'])\n",
    "\n",
    "preds_df['Id'] = test_df['Id']\n",
    "\n",
    "submission = preds_df[['Id', 'SalePrice']]\n",
    "submission.head(3)"
   ]
  },
  {
   "cell_type": "markdown",
   "id": "a0074d25-c68b-494e-b01b-000ed24b6d7a",
   "metadata": {},
   "source": [
    "### Kaggle results"
   ]
  },
  {
   "cell_type": "markdown",
   "id": "b2707a53-fbdd-45dc-a8c6-f378eaa73829",
   "metadata": {},
   "source": [
    "kaggle score 0.12740 排名#873 : 0.5xgb+0.5cat"
   ]
  },
  {
   "cell_type": "code",
   "execution_count": 53,
   "id": "6e2991d9-57dd-42f1-bd85-ea6a63eb26ae",
   "metadata": {},
   "outputs": [],
   "source": [
    "submission.to_csv('houseprice_env.csv', index=False) "
   ]
  },
  {
   "cell_type": "markdown",
   "id": "494d410a-7ff4-4763-9231-ca30e2bafe18",
   "metadata": {},
   "source": [
    "kaggle score  0.14752 : 0.4xgb+0.3cat+0.3nn"
   ]
  },
  {
   "cell_type": "code",
   "execution_count": 109,
   "id": "044df0a0-e8ed-442c-8485-98eca4132dc9",
   "metadata": {},
   "outputs": [],
   "source": [
    "submission.to_csv('houseprice_nn_env.csv', index=False) "
   ]
  },
  {
   "cell_type": "markdown",
   "id": "8696bdc7-0a3c-4e28-8275-59b98d0ce7b6",
   "metadata": {},
   "source": [
    "kaggle score 0.12735 排名#865 : 0.7xgb+0.3cat (so far best⭐️)"
   ]
  },
  {
   "cell_type": "code",
   "execution_count": 131,
   "id": "173d1b07-19f4-4aec-b7dc-21dfaa023c16",
   "metadata": {},
   "outputs": [],
   "source": [
    "submission.to_csv('houseprice_env2.csv', index=False) "
   ]
  },
  {
   "cell_type": "markdown",
   "id": "6b1bbb80-eec8-4625-b1f7-bd9f76c77c71",
   "metadata": {},
   "source": [
    "kaggle score: 0.15234. No improvement"
   ]
  },
  {
   "cell_type": "code",
   "execution_count": 40,
   "id": "abcd08b3-8980-4264-9db1-5983e7af9439",
   "metadata": {},
   "outputs": [],
   "source": [
    "submission.to_csv('houseprice_nn_env2.csv', index=False) "
   ]
  },
  {
   "cell_type": "code",
   "execution_count": 52,
   "id": "1188aeda-3867-4c43-bff0-71263efddb27",
   "metadata": {},
   "outputs": [
    {
     "name": "stdout",
     "output_type": "stream",
     "text": [
      "Kernel version 1 successfully pushed.  Please check progress at https://www.kaggle.com/code/apple9855wang/house-price-predictions-practice-2\n"
     ]
    }
   ],
   "source": [
    "from fastkaggle import *\n",
    "\n",
    "push_notebook('apple9855wang', 'House-Price-Predictions-practice-2',\n",
    "             title='House-Price-Predictions-practice-2',\n",
    "             file='0062_kaggle_houseprice.ipynb',\n",
    "             competition='house-prices-advanced-regression-techniques'\n",
    "             )"
   ]
  },
  {
   "cell_type": "code",
   "execution_count": null,
   "id": "dd3be3d5-16e6-42da-9211-a34129a6f61f",
   "metadata": {},
   "outputs": [],
   "source": []
  }
 ],
 "metadata": {
  "kernelspec": {
   "display_name": "fastai",
   "language": "python",
   "name": "fastai"
  },
  "language_info": {
   "codemirror_mode": {
    "name": "ipython",
    "version": 3
   },
   "file_extension": ".py",
   "mimetype": "text/x-python",
   "name": "python",
   "nbconvert_exporter": "python",
   "pygments_lexer": "ipython3",
   "version": "3.11.10"
  }
 },
 "nbformat": 4,
 "nbformat_minor": 5
}
