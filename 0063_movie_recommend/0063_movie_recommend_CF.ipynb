{
 "cells": [
  {
   "cell_type": "markdown",
   "id": "bc81787c-d9c8-4881-9152-64cc8244267f",
   "metadata": {},
   "source": [
    "# 0063_movielens_recommand_cf"
   ]
  },
  {
   "cell_type": "markdown",
   "id": "88522b52-0673-40e3-b939-bec8db6296f8",
   "metadata": {},
   "source": [
    "This notebook is a practice of the movielens(100K) dataset, using fastai and **collabrative filtering** technique, to give recommendations. "
   ]
  },
  {
   "cell_type": "code",
   "execution_count": 1,
   "id": "4f1fb826-b77d-4932-82ff-45d967ac6944",
   "metadata": {},
   "outputs": [],
   "source": [
    "from fastai.collab import *\n",
    "from fastai.tabular.all import *\n",
    "set_seed(44, reproducible=True)"
   ]
  },
  {
   "cell_type": "markdown",
   "id": "0f9002c1-7ae3-46d2-b3ff-832d42f04080",
   "metadata": {},
   "source": [
    "## Movielens-100K dataset"
   ]
  },
  {
   "cell_type": "code",
   "execution_count": 2,
   "id": "9d4d1bc7-f656-418a-b707-190a835c1e0c",
   "metadata": {},
   "outputs": [
    {
     "data": {
      "text/plain": [
       "Path('/Users/applewang/.fastai/data/ml-100k')"
      ]
     },
     "execution_count": 2,
     "metadata": {},
     "output_type": "execute_result"
    }
   ],
   "source": [
    "path = untar_data(URLs.ML_100k)\n",
    "path"
   ]
  },
  {
   "cell_type": "code",
   "execution_count": 3,
   "id": "9fa49163-5b22-46be-8724-1c51060ba3d4",
   "metadata": {},
   "outputs": [
    {
     "name": "stdout",
     "output_type": "stream",
     "text": [
      "allbut.pl    u.genre      u.user       u2.test      u4.test      ua.test\n",
      "mku.sh       u.info       u1.base      u3.base      u5.base      ub.base\n",
      "README       u.item       u1.test      u3.test      u5.test      ub.test\n",
      "u.data       u.occupation u2.base      u4.base      ua.base\n"
     ]
    }
   ],
   "source": [
    "!ls /Users/applewang/.fastai/data/ml-100k"
   ]
  },
  {
   "cell_type": "code",
   "execution_count": 4,
   "id": "a481e158-9ff3-452e-9822-0fc12557147d",
   "metadata": {
    "scrolled": true
   },
   "outputs": [
    {
     "name": "stdout",
     "output_type": "stream",
     "text": [
      "SUMMARY & USAGE LICENSE\n",
      "=============================================\n",
      "\n",
      "MovieLens data sets were collected by the GroupLens Research Project\n",
      "at the University of Minnesota.\n",
      " \n",
      "This data set consists of:\n",
      "\t* 100,000 ratings (1-5) from 943 users on 1682 movies. \n",
      "\t* Each user has rated at least 20 movies. \n",
      "        * Simple demographic info for the users (age, gender, occupation, zip)\n",
      "\n",
      "The data was collected through the MovieLens web site\n",
      "(movielens.umn.edu) during the seven-month period from September 19th, \n",
      "1997 through April 22nd, 1998. This data has been cleaned up - users\n",
      "who had less than 20 ratings or did not have complete demographic\n",
      "information were removed from this data set. Detailed descriptions of\n",
      "the data file can be found at the end of this file.\n",
      "\n",
      "Neither the University of Minnesota nor any of the researchers\n",
      "involved can guarantee the correctness of the data, its suitability\n",
      "for any particular purpose, or the validity of results based on the\n",
      "use of the data set.  The data set may be used for any research\n",
      "purposes under the following conditions:\n",
      "\n",
      "     * The user may not state or imply any endorsement from the\n",
      "       University of Minnesota or the GroupLens Research Group.\n",
      "\n",
      "     * The user must acknowledge the use of the data set in\n",
      "       publications resulting from the use of the data set\n",
      "       (see below for citation information).\n",
      "\n",
      "     * The user may not redistribute the data without separate\n",
      "       permission.\n",
      "\n",
      "     * The user may not use this information for any commercial or\n",
      "       revenue-bearing purposes without first obtaining permission\n",
      "       from a faculty member of the GroupLens Research Project at the\n",
      "       University of Minnesota.\n",
      "\n",
      "If you have any further questions or comments, please contact GroupLens\n",
      "<grouplens-info@cs.umn.edu>. \n",
      "\n",
      "CITATION\n",
      "==============================================\n",
      "\n",
      "To acknowledge use of the dataset in publications, please cite the \n",
      "following paper:\n",
      "\n",
      "F. Maxwell Harper and Joseph A. Konstan. 2015. The MovieLens Datasets:\n",
      "History and Context. ACM Transactions on Interactive Intelligent\n",
      "Systems (TiiS) 5, 4, Article 19 (December 2015), 19 pages.\n",
      "DOI=http://dx.doi.org/10.1145/2827872\n",
      "\n",
      "\n",
      "ACKNOWLEDGEMENTS\n",
      "==============================================\n",
      "\n",
      "Thanks to Al Borchers for cleaning up this data and writing the\n",
      "accompanying scripts.\n",
      "\n",
      "PUBLISHED WORK THAT HAS USED THIS DATASET\n",
      "==============================================\n",
      "\n",
      "Herlocker, J., Konstan, J., Borchers, A., Riedl, J.. An Algorithmic\n",
      "Framework for Performing Collaborative Filtering. Proceedings of the\n",
      "1999 Conference on Research and Development in Information\n",
      "Retrieval. Aug. 1999.\n",
      "\n",
      "FURTHER INFORMATION ABOUT THE GROUPLENS RESEARCH PROJECT\n",
      "==============================================\n",
      "\n",
      "The GroupLens Research Project is a research group in the Department\n",
      "of Computer Science and Engineering at the University of Minnesota.\n",
      "Members of the GroupLens Research Project are involved in many\n",
      "research projects related to the fields of information filtering,\n",
      "collaborative filtering, and recommender systems. The project is lead\n",
      "by professors John Riedl and Joseph Konstan. The project began to\n",
      "explore automated collaborative filtering in 1992, but is most well\n",
      "known for its world wide trial of an automated collaborative filtering\n",
      "system for Usenet news in 1996.  The technology developed in the\n",
      "Usenet trial formed the base for the formation of Net Perceptions,\n",
      "Inc., which was founded by members of GroupLens Research. Since then\n",
      "the project has expanded its scope to research overall information\n",
      "filtering solutions, integrating in content-based methods as well as\n",
      "improving current collaborative filtering technology.\n",
      "\n",
      "Further information on the GroupLens Research project, including\n",
      "research publications, can be found at the following web site:\n",
      "        \n",
      "        http://www.grouplens.org/\n",
      "\n",
      "GroupLens Research currently operates a movie recommender based on\n",
      "collaborative filtering:\n",
      "\n",
      "        http://www.movielens.org/\n",
      "\n",
      "DETAILED DESCRIPTIONS OF DATA FILES\n",
      "==============================================\n",
      "\n",
      "Here are brief descriptions of the data.\n",
      "\n",
      "ml-data.tar.gz   -- Compressed tar file.  To rebuild the u data files do this:\n",
      "                gunzip ml-data.tar.gz\n",
      "                tar xvf ml-data.tar\n",
      "                mku.sh\n",
      "\n",
      "u.data     -- The full u data set, 100000 ratings by 943 users on 1682 items.\n",
      "              Each user has rated at least 20 movies.  Users and items are\n",
      "              numbered consecutively from 1.  The data is randomly\n",
      "              ordered. This is a tab separated list of \n",
      "\t         user id | item id | rating | timestamp. \n",
      "              The time stamps are unix seconds since 1/1/1970 UTC   \n",
      "\n",
      "u.info     -- The number of users, items, and ratings in the u data set.\n",
      "\n",
      "u.item     -- Information about the items (movies); this is a tab separated\n",
      "              list of\n",
      "              movie id | movie title | release date | video release date |\n",
      "              IMDb URL | unknown | Action | Adventure | Animation |\n",
      "              Children's | Comedy | Crime | Documentary | Drama | Fantasy |\n",
      "              Film-Noir | Horror | Musical | Mystery | Romance | Sci-Fi |\n",
      "              Thriller | War | Western |\n",
      "              The last 19 fields are the genres, a 1 indicates the movie\n",
      "              is of that genre, a 0 indicates it is not; movies can be in\n",
      "              several genres at once.\n",
      "              The movie ids are the ones used in the u.data data set.\n",
      "\n",
      "u.genre    -- A list of the genres.\n",
      "\n",
      "u.user     -- Demographic information about the users; this is a tab\n",
      "              separated list of\n",
      "              user id | age | gender | occupation | zip code\n",
      "              The user ids are the ones used in the u.data data set.\n",
      "\n",
      "u.occupation -- A list of the occupations.\n",
      "\n",
      "u1.base    -- The data sets u1.base and u1.test through u5.base and u5.test\n",
      "u1.test       are 80%/20% splits of the u data into training and test data.\n",
      "u2.base       Each of u1, ..., u5 have disjoint test sets; this if for\n",
      "u2.test       5 fold cross validation (where you repeat your experiment\n",
      "u3.base       with each training and test set and average the results).\n",
      "u3.test       These data sets can be generated from u.data by mku.sh.\n",
      "u4.base\n",
      "u4.test\n",
      "u5.base\n",
      "u5.test\n",
      "\n",
      "ua.base    -- The data sets ua.base, ua.test, ub.base, and ub.test\n",
      "ua.test       split the u data into a training set and a test set with\n",
      "ub.base       exactly 10 ratings per user in the test set.  The sets\n",
      "ub.test       ua.test and ub.test are disjoint.  These data sets can\n",
      "              be generated from u.data by mku.sh.\n",
      "\n",
      "allbut.pl  -- The script that generates training and test sets where\n",
      "              all but n of a users ratings are in the training data.\n",
      "\n",
      "mku.sh     -- A shell script to generate all the u data sets from u.data.\n"
     ]
    }
   ],
   "source": [
    "!cat /Users/applewang/.fastai/data/ml-100k/README"
   ]
  },
  {
   "cell_type": "code",
   "execution_count": 5,
   "id": "23a46a4e-3712-4a2f-9b13-9ac4ef694db3",
   "metadata": {},
   "outputs": [
    {
     "name": "stdout",
     "output_type": "stream",
     "text": [
      "196\t242\t3\t881250949\n",
      "186\t302\t3\t891717742\n",
      "22\t377\t1\t878887116\n",
      "244\t51\t2\t880606923\n",
      "166\t346\t1\t886397596\n",
      "298\t474\t4\t884182806\n",
      "115\t265\t2\t881171488\n",
      "253\t465\t5\t891628467\n",
      "305\t451\t3\t886324817\n",
      "6\t86\t3\t883603013\n"
     ]
    }
   ],
   "source": [
    "!head /Users/applewang/.fastai/data/ml-100k/u.data"
   ]
  },
  {
   "cell_type": "code",
   "execution_count": 6,
   "id": "bf69dd6c-5f4d-467f-8dc4-f7cadc5ba7af",
   "metadata": {},
   "outputs": [
    {
     "name": "stdout",
     "output_type": "stream",
     "text": [
      "1|Toy Story (1995)|01-Jan-1995||http://us.imdb.com/M/title-exact?Toy%20Story%20(1995)|0|0|0|1|1|1|0|0|0|0|0|0|0|0|0|0|0|0|0\n",
      "2|GoldenEye (1995)|01-Jan-1995||http://us.imdb.com/M/title-exact?GoldenEye%20(1995)|0|1|1|0|0|0|0|0|0|0|0|0|0|0|0|0|1|0|0\n",
      "3|Four Rooms (1995)|01-Jan-1995||http://us.imdb.com/M/title-exact?Four%20Rooms%20(1995)|0|0|0|0|0|0|0|0|0|0|0|0|0|0|0|0|1|0|0\n",
      "4|Get Shorty (1995)|01-Jan-1995||http://us.imdb.com/M/title-exact?Get%20Shorty%20(1995)|0|1|0|0|0|1|0|0|1|0|0|0|0|0|0|0|0|0|0\n",
      "5|Copycat (1995)|01-Jan-1995||http://us.imdb.com/M/title-exact?Copycat%20(1995)|0|0|0|0|0|0|1|0|1|0|0|0|0|0|0|0|1|0|0\n",
      "6|Shanghai Triad (Yao a yao yao dao waipo qiao) (1995)|01-Jan-1995||http://us.imdb.com/Title?Yao+a+yao+yao+dao+waipo+qiao+(1995)|0|0|0|0|0|0|0|0|1|0|0|0|0|0|0|0|0|0|0\n",
      "7|Twelve Monkeys (1995)|01-Jan-1995||http://us.imdb.com/M/title-exact?Twelve%20Monkeys%20(1995)|0|0|0|0|0|0|0|0|1|0|0|0|0|0|0|1|0|0|0\n",
      "8|Babe (1995)|01-Jan-1995||http://us.imdb.com/M/title-exact?Babe%20(1995)|0|0|0|0|1|1|0|0|1|0|0|0|0|0|0|0|0|0|0\n",
      "9|Dead Man Walking (1995)|01-Jan-1995||http://us.imdb.com/M/title-exact?Dead%20Man%20Walking%20(1995)|0|0|0|0|0|0|0|0|1|0|0|0|0|0|0|0|0|0|0\n",
      "10|Richard III (1995)|22-Jan-1996||http://us.imdb.com/M/title-exact?Richard%20III%20(1995)|0|0|0|0|0|0|0|0|1|0|0|0|0|0|0|0|0|1|0\n"
     ]
    }
   ],
   "source": [
    "!head /Users/applewang/.fastai/data/ml-100k/u.item"
   ]
  },
  {
   "cell_type": "markdown",
   "id": "9b5089ae-bf47-4ef4-94ca-802b450f328b",
   "metadata": {},
   "source": [
    "from the `README` to find the clues:\n",
    "- the **rating data** `u.data` and the columns are {user id | item id | rating | timestamp};\n",
    "- the **movie data** `u.item` and its columns are a lot, only {movie id | movie title} are needed."
   ]
  },
  {
   "cell_type": "code",
   "execution_count": 7,
   "id": "d01bac16-041a-4edd-9458-22b22eb1ed03",
   "metadata": {},
   "outputs": [
    {
     "data": {
      "text/html": [
       "<div>\n",
       "<style scoped>\n",
       "    .dataframe tbody tr th:only-of-type {\n",
       "        vertical-align: middle;\n",
       "    }\n",
       "\n",
       "    .dataframe tbody tr th {\n",
       "        vertical-align: top;\n",
       "    }\n",
       "\n",
       "    .dataframe thead th {\n",
       "        text-align: right;\n",
       "    }\n",
       "</style>\n",
       "<table border=\"1\" class=\"dataframe\">\n",
       "  <thead>\n",
       "    <tr style=\"text-align: right;\">\n",
       "      <th></th>\n",
       "      <th>user id</th>\n",
       "      <th>movie id</th>\n",
       "      <th>rating</th>\n",
       "      <th>timestamp</th>\n",
       "    </tr>\n",
       "  </thead>\n",
       "  <tbody>\n",
       "    <tr>\n",
       "      <th>0</th>\n",
       "      <td>196</td>\n",
       "      <td>242</td>\n",
       "      <td>3</td>\n",
       "      <td>881250949</td>\n",
       "    </tr>\n",
       "    <tr>\n",
       "      <th>1</th>\n",
       "      <td>186</td>\n",
       "      <td>302</td>\n",
       "      <td>3</td>\n",
       "      <td>891717742</td>\n",
       "    </tr>\n",
       "    <tr>\n",
       "      <th>2</th>\n",
       "      <td>22</td>\n",
       "      <td>377</td>\n",
       "      <td>1</td>\n",
       "      <td>878887116</td>\n",
       "    </tr>\n",
       "  </tbody>\n",
       "</table>\n",
       "</div>"
      ],
      "text/plain": [
       "   user id  movie id  rating  timestamp\n",
       "0      196       242       3  881250949\n",
       "1      186       302       3  891717742\n",
       "2       22       377       1  878887116"
      ]
     },
     "execution_count": 7,
     "metadata": {},
     "output_type": "execute_result"
    }
   ],
   "source": [
    "ratings = pd.read_csv(path/'u.data', delimiter='\\t', header=None, names=['user id', 'movie id', 'rating', 'timestamp'])\n",
    "ratings.head(3)"
   ]
  },
  {
   "cell_type": "markdown",
   "id": "c30506e2-78dd-4346-90f8-a3f5db52071b",
   "metadata": {},
   "source": [
    "- 当年（90年代末）很多英文、西欧国家的数据文件编码，不是UTF-8，而是Latin-1（又叫 ISO-8859-1）。\n",
    "- latin-1编码：是一种非常早期的单字节编码，主要覆盖英语和西欧语言（德语、法语、西班牙语等字符集）。在当时，是非常普遍的文本编码标准。\n",
    "- 现代默认的UTF-8编码：出现在2000年之后，慢慢成为国际标准。能表示世界上所有语言的字符，兼容性更好。"
   ]
  },
  {
   "cell_type": "code",
   "execution_count": 8,
   "id": "abeb57df-d32b-4043-a645-3c273ef36cbd",
   "metadata": {},
   "outputs": [
    {
     "data": {
      "text/html": [
       "<div>\n",
       "<style scoped>\n",
       "    .dataframe tbody tr th:only-of-type {\n",
       "        vertical-align: middle;\n",
       "    }\n",
       "\n",
       "    .dataframe tbody tr th {\n",
       "        vertical-align: top;\n",
       "    }\n",
       "\n",
       "    .dataframe thead th {\n",
       "        text-align: right;\n",
       "    }\n",
       "</style>\n",
       "<table border=\"1\" class=\"dataframe\">\n",
       "  <thead>\n",
       "    <tr style=\"text-align: right;\">\n",
       "      <th></th>\n",
       "      <th>movie id</th>\n",
       "      <th>title</th>\n",
       "    </tr>\n",
       "  </thead>\n",
       "  <tbody>\n",
       "    <tr>\n",
       "      <th>0</th>\n",
       "      <td>1</td>\n",
       "      <td>Toy Story (1995)</td>\n",
       "    </tr>\n",
       "    <tr>\n",
       "      <th>1</th>\n",
       "      <td>2</td>\n",
       "      <td>GoldenEye (1995)</td>\n",
       "    </tr>\n",
       "    <tr>\n",
       "      <th>2</th>\n",
       "      <td>3</td>\n",
       "      <td>Four Rooms (1995)</td>\n",
       "    </tr>\n",
       "  </tbody>\n",
       "</table>\n",
       "</div>"
      ],
      "text/plain": [
       "   movie id              title\n",
       "0         1   Toy Story (1995)\n",
       "1         2   GoldenEye (1995)\n",
       "2         3  Four Rooms (1995)"
      ]
     },
     "execution_count": 8,
     "metadata": {},
     "output_type": "execute_result"
    }
   ],
   "source": [
    "movies = pd.read_csv(path/'u.item', delimiter='|', header=None, usecols=(0, 1),names=('movie id', 'title'), encoding='latin-1')\n",
    "movies.head(3)"
   ]
  },
  {
   "cell_type": "markdown",
   "id": "d21d6e86-143c-403e-a702-ca50c8ba7438",
   "metadata": {},
   "source": [
    "合并ratings&movies"
   ]
  },
  {
   "cell_type": "code",
   "execution_count": 9,
   "id": "eac94936-6e25-49aa-9e93-06901dec2018",
   "metadata": {},
   "outputs": [
    {
     "data": {
      "text/html": [
       "<div>\n",
       "<style scoped>\n",
       "    .dataframe tbody tr th:only-of-type {\n",
       "        vertical-align: middle;\n",
       "    }\n",
       "\n",
       "    .dataframe tbody tr th {\n",
       "        vertical-align: top;\n",
       "    }\n",
       "\n",
       "    .dataframe thead th {\n",
       "        text-align: right;\n",
       "    }\n",
       "</style>\n",
       "<table border=\"1\" class=\"dataframe\">\n",
       "  <thead>\n",
       "    <tr style=\"text-align: right;\">\n",
       "      <th></th>\n",
       "      <th>user id</th>\n",
       "      <th>movie id</th>\n",
       "      <th>rating</th>\n",
       "      <th>timestamp</th>\n",
       "      <th>title</th>\n",
       "    </tr>\n",
       "  </thead>\n",
       "  <tbody>\n",
       "    <tr>\n",
       "      <th>0</th>\n",
       "      <td>196</td>\n",
       "      <td>242</td>\n",
       "      <td>3</td>\n",
       "      <td>881250949</td>\n",
       "      <td>Kolya (1996)</td>\n",
       "    </tr>\n",
       "    <tr>\n",
       "      <th>1</th>\n",
       "      <td>186</td>\n",
       "      <td>302</td>\n",
       "      <td>3</td>\n",
       "      <td>891717742</td>\n",
       "      <td>L.A. Confidential (1997)</td>\n",
       "    </tr>\n",
       "    <tr>\n",
       "      <th>2</th>\n",
       "      <td>22</td>\n",
       "      <td>377</td>\n",
       "      <td>1</td>\n",
       "      <td>878887116</td>\n",
       "      <td>Heavyweights (1994)</td>\n",
       "    </tr>\n",
       "  </tbody>\n",
       "</table>\n",
       "</div>"
      ],
      "text/plain": [
       "   user id  movie id  rating  timestamp                     title\n",
       "0      196       242       3  881250949              Kolya (1996)\n",
       "1      186       302       3  891717742  L.A. Confidential (1997)\n",
       "2       22       377       1  878887116       Heavyweights (1994)"
      ]
     },
     "execution_count": 9,
     "metadata": {},
     "output_type": "execute_result"
    }
   ],
   "source": [
    "ratings = ratings.merge(movies)\n",
    "ratings.head(3)"
   ]
  },
  {
   "cell_type": "markdown",
   "id": "5bb85cd3-02ce-4212-9041-04e698e985f3",
   "metadata": {},
   "source": [
    "### Dataloader"
   ]
  },
  {
   "cell_type": "code",
   "execution_count": 10,
   "id": "fefbc5d1-3739-478b-864b-6d3bc722302b",
   "metadata": {},
   "outputs": [],
   "source": [
    "dls = CollabDataLoaders.from_df(ratings, item_name='title', bs=64)"
   ]
  },
  {
   "cell_type": "code",
   "execution_count": 11,
   "id": "2ab218f6-8d09-4007-b04f-07ed7e20b381",
   "metadata": {},
   "outputs": [
    {
     "data": {
      "text/html": [
       "<table border=\"1\" class=\"dataframe\">\n",
       "  <thead>\n",
       "    <tr style=\"text-align: right;\">\n",
       "      <th></th>\n",
       "      <th>user id</th>\n",
       "      <th>title</th>\n",
       "      <th>rating</th>\n",
       "    </tr>\n",
       "  </thead>\n",
       "  <tbody>\n",
       "    <tr>\n",
       "      <th>0</th>\n",
       "      <td>644</td>\n",
       "      <td>Murder at 1600 (1997)</td>\n",
       "      <td>5</td>\n",
       "    </tr>\n",
       "    <tr>\n",
       "      <th>1</th>\n",
       "      <td>894</td>\n",
       "      <td>Remains of the Day, The (1993)</td>\n",
       "      <td>4</td>\n",
       "    </tr>\n",
       "    <tr>\n",
       "      <th>2</th>\n",
       "      <td>862</td>\n",
       "      <td>Groundhog Day (1993)</td>\n",
       "      <td>5</td>\n",
       "    </tr>\n",
       "    <tr>\n",
       "      <th>3</th>\n",
       "      <td>677</td>\n",
       "      <td>Evita (1996)</td>\n",
       "      <td>1</td>\n",
       "    </tr>\n",
       "    <tr>\n",
       "      <th>4</th>\n",
       "      <td>514</td>\n",
       "      <td>Field of Dreams (1989)</td>\n",
       "      <td>4</td>\n",
       "    </tr>\n",
       "    <tr>\n",
       "      <th>5</th>\n",
       "      <td>875</td>\n",
       "      <td>Some Folks Call It a Sling Blade (1993)</td>\n",
       "      <td>4</td>\n",
       "    </tr>\n",
       "    <tr>\n",
       "      <th>6</th>\n",
       "      <td>466</td>\n",
       "      <td>One Flew Over the Cuckoo's Nest (1975)</td>\n",
       "      <td>4</td>\n",
       "    </tr>\n",
       "    <tr>\n",
       "      <th>7</th>\n",
       "      <td>332</td>\n",
       "      <td>Raiders of the Lost Ark (1981)</td>\n",
       "      <td>5</td>\n",
       "    </tr>\n",
       "    <tr>\n",
       "      <th>8</th>\n",
       "      <td>759</td>\n",
       "      <td>Face/Off (1997)</td>\n",
       "      <td>4</td>\n",
       "    </tr>\n",
       "    <tr>\n",
       "      <th>9</th>\n",
       "      <td>485</td>\n",
       "      <td>Full Monty, The (1997)</td>\n",
       "      <td>4</td>\n",
       "    </tr>\n",
       "  </tbody>\n",
       "</table>"
      ],
      "text/plain": [
       "<IPython.core.display.HTML object>"
      ]
     },
     "metadata": {},
     "output_type": "display_data"
    }
   ],
   "source": [
    "dls.show_batch()"
   ]
  },
  {
   "cell_type": "code",
   "execution_count": 12,
   "id": "e357f5cd-8c79-4208-84d0-d8d231144533",
   "metadata": {
    "scrolled": true
   },
   "outputs": [
    {
     "data": {
      "text/plain": [
       "(tensor([[ 568, 1258],\n",
       "         [ 205, 1308],\n",
       "         [   7,  207],\n",
       "         [ 650,   26],\n",
       "         [ 342, 1369],\n",
       "         [ 451,  828],\n",
       "         [ 477,  381],\n",
       "         [ 533, 1038],\n",
       "         [ 458,  461],\n",
       "         [ 128, 1548],\n",
       "         [ 379,    8],\n",
       "         [ 322, 1535],\n",
       "         [  59, 1150],\n",
       "         [ 590,  390],\n",
       "         [ 846, 1658],\n",
       "         [ 805, 1307],\n",
       "         [ 885,  444],\n",
       "         [ 342, 1285],\n",
       "         [ 275,  319],\n",
       "         [ 660,  946],\n",
       "         [ 338,  391],\n",
       "         [ 388,  722],\n",
       "         [ 270, 1392],\n",
       "         [  18, 1343],\n",
       "         [ 234, 1174],\n",
       "         [  43, 1005],\n",
       "         [ 758, 1033],\n",
       "         [ 920,  461],\n",
       "         [ 299,  847],\n",
       "         [ 291, 1136],\n",
       "         [ 292,  988],\n",
       "         [ 618,  920],\n",
       "         [ 405,  740],\n",
       "         [ 655, 1181],\n",
       "         [ 104,  734],\n",
       "         [ 378,  275],\n",
       "         [ 846, 1615],\n",
       "         [ 236, 1247],\n",
       "         [ 776,  174],\n",
       "         [ 151, 1179],\n",
       "         [ 580,  599],\n",
       "         [   5,  821],\n",
       "         [ 251, 1245],\n",
       "         [ 495, 1392],\n",
       "         [ 367,  774],\n",
       "         [ 267,  318],\n",
       "         [ 864,  476],\n",
       "         [ 654,  320],\n",
       "         [ 234,   37],\n",
       "         [ 453,  403],\n",
       "         [ 707, 1323],\n",
       "         [ 771,  714],\n",
       "         [  45, 1524],\n",
       "         [ 506, 1058],\n",
       "         [ 862,  200],\n",
       "         [ 650,  571],\n",
       "         [ 600, 1398],\n",
       "         [ 567, 1503],\n",
       "         [ 308,  565],\n",
       "         [ 613, 1282],\n",
       "         [ 385, 1254],\n",
       "         [  14, 1168],\n",
       "         [ 381, 1028],\n",
       "         [ 466, 1184]]),\n",
       " tensor([[4],\n",
       "         [1],\n",
       "         [5],\n",
       "         [3],\n",
       "         [3],\n",
       "         [2],\n",
       "         [4],\n",
       "         [2],\n",
       "         [4],\n",
       "         [5],\n",
       "         [4],\n",
       "         [4],\n",
       "         [4],\n",
       "         [3],\n",
       "         [5],\n",
       "         [2],\n",
       "         [3],\n",
       "         [5],\n",
       "         [3],\n",
       "         [3],\n",
       "         [2],\n",
       "         [4],\n",
       "         [3],\n",
       "         [5],\n",
       "         [3],\n",
       "         [3],\n",
       "         [5],\n",
       "         [2],\n",
       "         [3],\n",
       "         [5],\n",
       "         [3],\n",
       "         [3],\n",
       "         [3],\n",
       "         [3],\n",
       "         [2],\n",
       "         [4],\n",
       "         [4],\n",
       "         [4],\n",
       "         [2],\n",
       "         [5],\n",
       "         [4],\n",
       "         [1],\n",
       "         [4],\n",
       "         [5],\n",
       "         [4],\n",
       "         [5],\n",
       "         [5],\n",
       "         [4],\n",
       "         [3],\n",
       "         [3],\n",
       "         [2],\n",
       "         [4],\n",
       "         [5],\n",
       "         [2],\n",
       "         [3],\n",
       "         [3],\n",
       "         [3],\n",
       "         [4],\n",
       "         [5],\n",
       "         [5],\n",
       "         [4],\n",
       "         [3],\n",
       "         [4],\n",
       "         [4]], dtype=torch.int8))"
      ]
     },
     "execution_count": 12,
     "metadata": {},
     "output_type": "execute_result"
    }
   ],
   "source": [
    "dls.one_batch()"
   ]
  },
  {
   "cell_type": "markdown",
   "id": "947ae7bc-0dcc-4399-84ac-f7ca6cd55568",
   "metadata": {},
   "source": [
    "## Build a base model with Embedding\n",
    "`Embedding` here is `nn.Embedding()`layer"
   ]
  },
  {
   "cell_type": "code",
   "execution_count": 13,
   "id": "7451bd6f-f82d-41f6-8c74-7213353dcdcd",
   "metadata": {},
   "outputs": [],
   "source": [
    "n_user = len(dls.classes['user id'])\n",
    "n_movie = len(dls.classes['title'])\n",
    "n_factor = 5"
   ]
  },
  {
   "cell_type": "code",
   "execution_count": 14,
   "id": "ce9cdd6b-3cdf-4f76-9760-9ac986641e62",
   "metadata": {},
   "outputs": [
    {
     "data": {
      "text/plain": [
       "\u001b[0;31mInit signature:\u001b[0m \u001b[0mEmbedding\u001b[0m\u001b[0;34m(\u001b[0m\u001b[0mni\u001b[0m\u001b[0;34m,\u001b[0m \u001b[0mnf\u001b[0m\u001b[0;34m,\u001b[0m \u001b[0mstd\u001b[0m\u001b[0;34m=\u001b[0m\u001b[0;36m0.01\u001b[0m\u001b[0;34m)\u001b[0m\u001b[0;34m\u001b[0m\u001b[0;34m\u001b[0m\u001b[0m\n",
       "\u001b[0;31mSource:\u001b[0m        \n",
       "\u001b[0;32mclass\u001b[0m \u001b[0mEmbedding\u001b[0m\u001b[0;34m(\u001b[0m\u001b[0mnn\u001b[0m\u001b[0;34m.\u001b[0m\u001b[0mEmbedding\u001b[0m\u001b[0;34m)\u001b[0m\u001b[0;34m:\u001b[0m\u001b[0;34m\u001b[0m\n",
       "\u001b[0;34m\u001b[0m    \u001b[0;34m\"Embedding layer with truncated normal initialization\"\u001b[0m\u001b[0;34m\u001b[0m\n",
       "\u001b[0;34m\u001b[0m    \u001b[0;32mdef\u001b[0m \u001b[0m__init__\u001b[0m\u001b[0;34m(\u001b[0m\u001b[0mself\u001b[0m\u001b[0;34m,\u001b[0m \u001b[0mni\u001b[0m\u001b[0;34m,\u001b[0m \u001b[0mnf\u001b[0m\u001b[0;34m,\u001b[0m \u001b[0mstd\u001b[0m\u001b[0;34m=\u001b[0m\u001b[0;36m0.01\u001b[0m\u001b[0;34m)\u001b[0m\u001b[0;34m:\u001b[0m\u001b[0;34m\u001b[0m\n",
       "\u001b[0;34m\u001b[0m        \u001b[0msuper\u001b[0m\u001b[0;34m(\u001b[0m\u001b[0;34m)\u001b[0m\u001b[0;34m.\u001b[0m\u001b[0m__init__\u001b[0m\u001b[0;34m(\u001b[0m\u001b[0mni\u001b[0m\u001b[0;34m,\u001b[0m \u001b[0mnf\u001b[0m\u001b[0;34m)\u001b[0m\u001b[0;34m\u001b[0m\n",
       "\u001b[0;34m\u001b[0m        \u001b[0mtrunc_normal_\u001b[0m\u001b[0;34m(\u001b[0m\u001b[0mself\u001b[0m\u001b[0;34m.\u001b[0m\u001b[0mweight\u001b[0m\u001b[0;34m.\u001b[0m\u001b[0mdata\u001b[0m\u001b[0;34m,\u001b[0m \u001b[0mstd\u001b[0m\u001b[0;34m=\u001b[0m\u001b[0mstd\u001b[0m\u001b[0;34m)\u001b[0m\u001b[0;34m\u001b[0m\u001b[0;34m\u001b[0m\u001b[0m\n",
       "\u001b[0;31mFile:\u001b[0m           ~/miniconda3/envs/fastai/lib/python3.11/site-packages/fastai/layers.py\n",
       "\u001b[0;31mType:\u001b[0m           type\n",
       "\u001b[0;31mSubclasses:\u001b[0m     "
      ]
     },
     "metadata": {},
     "output_type": "display_data"
    }
   ],
   "source": [
    "Embedding??"
   ]
  },
  {
   "cell_type": "code",
   "execution_count": 15,
   "id": "d992c58f-f612-40bb-9086-9f584b84593a",
   "metadata": {},
   "outputs": [],
   "source": [
    "class DotProduct(Module):\n",
    "    def __init__(self, n_user, n_movie, n_factor):\n",
    "        self.user_factors = Embedding(n_user, n_factor)\n",
    "        self.movie_factors = Embedding(n_movie, n_factor)\n",
    "        \n",
    "    def forward(self, x):\n",
    "        users = self.user_factors(x[:,0])\n",
    "        movies = self.movie_factors(x[:,1])\n",
    "        return (users*movies).sum(dim=1)"
   ]
  },
  {
   "cell_type": "code",
   "execution_count": 16,
   "id": "7cc92020-45f8-482a-bd75-5f21d1480405",
   "metadata": {},
   "outputs": [],
   "source": [
    "x,y = dls.one_batch()"
   ]
  },
  {
   "cell_type": "code",
   "execution_count": 17,
   "id": "04b9f221-b1bd-4503-b5d6-c9d4d74fc187",
   "metadata": {},
   "outputs": [],
   "source": [
    "m1 = DotProduct(n_user, n_movie, 50)\n",
    "learn1 = Learner(dls, m1, MSELossFlat())"
   ]
  },
  {
   "cell_type": "code",
   "execution_count": 18,
   "id": "4389f4d1-9e31-4249-ad09-bd0c82684125",
   "metadata": {},
   "outputs": [
    {
     "data": {
      "text/html": [
       "\n",
       "<style>\n",
       "    /* Turns off some styling */\n",
       "    progress {\n",
       "        /* gets rid of default border in Firefox and Opera. */\n",
       "        border: none;\n",
       "        /* Needs to be in here for Safari polyfill so background images work as expected. */\n",
       "        background-size: auto;\n",
       "    }\n",
       "    progress:not([value]), progress:not([value])::-webkit-progress-bar {\n",
       "        background: repeating-linear-gradient(45deg, #7e7e7e, #7e7e7e 10px, #5c5c5c 10px, #5c5c5c 20px);\n",
       "    }\n",
       "    .progress-bar-interrupted, .progress-bar-interrupted::-webkit-progress-bar {\n",
       "        background: #F44336;\n",
       "    }\n",
       "</style>\n"
      ],
      "text/plain": [
       "<IPython.core.display.HTML object>"
      ]
     },
     "metadata": {},
     "output_type": "display_data"
    },
    {
     "data": {
      "text/html": [],
      "text/plain": [
       "<IPython.core.display.HTML object>"
      ]
     },
     "metadata": {},
     "output_type": "display_data"
    },
    {
     "data": {
      "text/plain": [
       "SuggestedLRs(steep=5.754399353463668e-06, valley=0.12022644281387329)"
      ]
     },
     "execution_count": 18,
     "metadata": {},
     "output_type": "execute_result"
    },
    {
     "data": {
      "image/png": "[encoded data removed]",
      "text/plain": [
       "<Figure size 640x480 with 1 Axes>"
      ]
     },
     "metadata": {},
     "output_type": "display_data"
    }
   ],
   "source": [
    "learn1.lr_find(suggest_funcs=(steep, valley))"
   ]
  },
  {
   "cell_type": "code",
   "execution_count": 19,
   "id": "378a7cf7-053d-4475-811b-33c88ad6b515",
   "metadata": {},
   "outputs": [
    {
     "data": {
      "text/html": [
       "\n",
       "<style>\n",
       "    /* Turns off some styling */\n",
       "    progress {\n",
       "        /* gets rid of default border in Firefox and Opera. */\n",
       "        border: none;\n",
       "        /* Needs to be in here for Safari polyfill so background images work as expected. */\n",
       "        background-size: auto;\n",
       "    }\n",
       "    progress:not([value]), progress:not([value])::-webkit-progress-bar {\n",
       "        background: repeating-linear-gradient(45deg, #7e7e7e, #7e7e7e 10px, #5c5c5c 10px, #5c5c5c 20px);\n",
       "    }\n",
       "    .progress-bar-interrupted, .progress-bar-interrupted::-webkit-progress-bar {\n",
       "        background: #F44336;\n",
       "    }\n",
       "</style>\n"
      ],
      "text/plain": [
       "<IPython.core.display.HTML object>"
      ]
     },
     "metadata": {},
     "output_type": "display_data"
    },
    {
     "data": {
      "text/html": [
       "<table border=\"1\" class=\"dataframe\">\n",
       "  <thead>\n",
       "    <tr style=\"text-align: left;\">\n",
       "      <th>epoch</th>\n",
       "      <th>train_loss</th>\n",
       "      <th>valid_loss</th>\n",
       "      <th>time</th>\n",
       "    </tr>\n",
       "  </thead>\n",
       "  <tbody>\n",
       "    <tr>\n",
       "      <td>0</td>\n",
       "      <td>1.301631</td>\n",
       "      <td>1.310965</td>\n",
       "      <td>00:03</td>\n",
       "    </tr>\n",
       "    <tr>\n",
       "      <td>1</td>\n",
       "      <td>1.022218</td>\n",
       "      <td>1.097294</td>\n",
       "      <td>00:03</td>\n",
       "    </tr>\n",
       "    <tr>\n",
       "      <td>2</td>\n",
       "      <td>0.898050</td>\n",
       "      <td>1.011744</td>\n",
       "      <td>00:03</td>\n",
       "    </tr>\n",
       "    <tr>\n",
       "      <td>3</td>\n",
       "      <td>0.755462</td>\n",
       "      <td>0.919856</td>\n",
       "      <td>00:03</td>\n",
       "    </tr>\n",
       "    <tr>\n",
       "      <td>4</td>\n",
       "      <td>0.726165</td>\n",
       "      <td>0.895173</td>\n",
       "      <td>00:03</td>\n",
       "    </tr>\n",
       "  </tbody>\n",
       "</table>"
      ],
      "text/plain": [
       "<IPython.core.display.HTML object>"
      ]
     },
     "metadata": {},
     "output_type": "display_data"
    }
   ],
   "source": [
    "learn1.fit_one_cycle(5, 5e-3)"
   ]
  },
  {
   "cell_type": "markdown",
   "id": "535f318c-dfdb-45ee-8e42-8c73448534d7",
   "metadata": {},
   "source": [
    "### model with sigmoid_range()"
   ]
  },
  {
   "cell_type": "code",
   "execution_count": 20,
   "id": "cf44cdf8-b25c-4407-ab0a-8810e431cb6f",
   "metadata": {},
   "outputs": [],
   "source": [
    "class DotProductr(Module):\n",
    "    def __init__(self, n_user, n_movie, n_factor, y_range):\n",
    "        self.user_factors = Embedding(n_user, n_factor)\n",
    "        self.movie_factors = Embedding(n_movie, n_factor)\n",
    "        self.y_range = y_range\n",
    "\n",
    "    def forward(self, x):\n",
    "        users = self.user_factors(x[:,0])\n",
    "        movies = self.movie_factors(x[:,1])\n",
    "        return sigmoid_range((users*movies).sum(dim=1), *self.y_range)"
   ]
  },
  {
   "cell_type": "code",
   "execution_count": 21,
   "id": "f0948917-5f99-42b5-8447-4fde5bec7839",
   "metadata": {},
   "outputs": [],
   "source": [
    "m2 = DotProductr(n_user, n_movie, 50, y_range=(0,5.5))"
   ]
  },
  {
   "cell_type": "code",
   "execution_count": 22,
   "id": "5326c309-c107-4d0c-a086-5a0bac7770a2",
   "metadata": {},
   "outputs": [],
   "source": [
    "learn2 = Learner(dls, m2, MSELossFlat())"
   ]
  },
  {
   "cell_type": "code",
   "execution_count": 23,
   "id": "41f991d9-9ba7-4908-bc13-4d7eca3cfe69",
   "metadata": {},
   "outputs": [
    {
     "data": {
      "text/html": [
       "\n",
       "<style>\n",
       "    /* Turns off some styling */\n",
       "    progress {\n",
       "        /* gets rid of default border in Firefox and Opera. */\n",
       "        border: none;\n",
       "        /* Needs to be in here for Safari polyfill so background images work as expected. */\n",
       "        background-size: auto;\n",
       "    }\n",
       "    progress:not([value]), progress:not([value])::-webkit-progress-bar {\n",
       "        background: repeating-linear-gradient(45deg, #7e7e7e, #7e7e7e 10px, #5c5c5c 10px, #5c5c5c 20px);\n",
       "    }\n",
       "    .progress-bar-interrupted, .progress-bar-interrupted::-webkit-progress-bar {\n",
       "        background: #F44336;\n",
       "    }\n",
       "</style>\n"
      ],
      "text/plain": [
       "<IPython.core.display.HTML object>"
      ]
     },
     "metadata": {},
     "output_type": "display_data"
    },
    {
     "data": {
      "text/html": [],
      "text/plain": [
       "<IPython.core.display.HTML object>"
      ]
     },
     "metadata": {},
     "output_type": "display_data"
    },
    {
     "data": {
      "text/plain": [
       "SuggestedLRs(steep=1.0964781722577754e-06, valley=0.009120108559727669)"
      ]
     },
     "execution_count": 23,
     "metadata": {},
     "output_type": "execute_result"
    },
    {
     "data": {
      "image/png": "[encoded data removed]",
      "text/plain": [
       "<Figure size 640x480 with 1 Axes>"
      ]
     },
     "metadata": {},
     "output_type": "display_data"
    }
   ],
   "source": [
    "learn2.lr_find(suggest_funcs=(steep, valley))"
   ]
  },
  {
   "cell_type": "code",
   "execution_count": 24,
   "id": "3a6f8309-bf31-4930-96e4-3ab7c3918f0f",
   "metadata": {},
   "outputs": [
    {
     "data": {
      "text/html": [
       "\n",
       "<style>\n",
       "    /* Turns off some styling */\n",
       "    progress {\n",
       "        /* gets rid of default border in Firefox and Opera. */\n",
       "        border: none;\n",
       "        /* Needs to be in here for Safari polyfill so background images work as expected. */\n",
       "        background-size: auto;\n",
       "    }\n",
       "    progress:not([value]), progress:not([value])::-webkit-progress-bar {\n",
       "        background: repeating-linear-gradient(45deg, #7e7e7e, #7e7e7e 10px, #5c5c5c 10px, #5c5c5c 20px);\n",
       "    }\n",
       "    .progress-bar-interrupted, .progress-bar-interrupted::-webkit-progress-bar {\n",
       "        background: #F44336;\n",
       "    }\n",
       "</style>\n"
      ],
      "text/plain": [
       "<IPython.core.display.HTML object>"
      ]
     },
     "metadata": {},
     "output_type": "display_data"
    },
    {
     "data": {
      "text/html": [
       "<table border=\"1\" class=\"dataframe\">\n",
       "  <thead>\n",
       "    <tr style=\"text-align: left;\">\n",
       "      <th>epoch</th>\n",
       "      <th>train_loss</th>\n",
       "      <th>valid_loss</th>\n",
       "      <th>time</th>\n",
       "    </tr>\n",
       "  </thead>\n",
       "  <tbody>\n",
       "    <tr>\n",
       "      <td>0</td>\n",
       "      <td>0.937177</td>\n",
       "      <td>0.994447</td>\n",
       "      <td>00:03</td>\n",
       "    </tr>\n",
       "    <tr>\n",
       "      <td>1</td>\n",
       "      <td>0.643326</td>\n",
       "      <td>0.950007</td>\n",
       "      <td>00:03</td>\n",
       "    </tr>\n",
       "    <tr>\n",
       "      <td>2</td>\n",
       "      <td>0.460865</td>\n",
       "      <td>0.955227</td>\n",
       "      <td>00:03</td>\n",
       "    </tr>\n",
       "    <tr>\n",
       "      <td>3</td>\n",
       "      <td>0.354145</td>\n",
       "      <td>0.958508</td>\n",
       "      <td>00:03</td>\n",
       "    </tr>\n",
       "    <tr>\n",
       "      <td>4</td>\n",
       "      <td>0.335086</td>\n",
       "      <td>0.956805</td>\n",
       "      <td>00:03</td>\n",
       "    </tr>\n",
       "  </tbody>\n",
       "</table>"
      ],
      "text/plain": [
       "<IPython.core.display.HTML object>"
      ]
     },
     "metadata": {},
     "output_type": "display_data"
    }
   ],
   "source": [
    "learn2.fit_one_cycle(5, 5e-3)"
   ]
  },
  {
   "cell_type": "markdown",
   "id": "ba172e1b-7cef-43ab-9a73-fed7a0d9ffc5",
   "metadata": {},
   "source": [
    "### Add weight decay"
   ]
  },
  {
   "cell_type": "code",
   "execution_count": 25,
   "id": "28acc8c3-841c-4d95-9e98-a9f3bb233f7c",
   "metadata": {},
   "outputs": [
    {
     "data": {
      "text/html": [
       "\n",
       "<style>\n",
       "    /* Turns off some styling */\n",
       "    progress {\n",
       "        /* gets rid of default border in Firefox and Opera. */\n",
       "        border: none;\n",
       "        /* Needs to be in here for Safari polyfill so background images work as expected. */\n",
       "        background-size: auto;\n",
       "    }\n",
       "    progress:not([value]), progress:not([value])::-webkit-progress-bar {\n",
       "        background: repeating-linear-gradient(45deg, #7e7e7e, #7e7e7e 10px, #5c5c5c 10px, #5c5c5c 20px);\n",
       "    }\n",
       "    .progress-bar-interrupted, .progress-bar-interrupted::-webkit-progress-bar {\n",
       "        background: #F44336;\n",
       "    }\n",
       "</style>\n"
      ],
      "text/plain": [
       "<IPython.core.display.HTML object>"
      ]
     },
     "metadata": {},
     "output_type": "display_data"
    },
    {
     "data": {
      "text/html": [
       "<table border=\"1\" class=\"dataframe\">\n",
       "  <thead>\n",
       "    <tr style=\"text-align: left;\">\n",
       "      <th>epoch</th>\n",
       "      <th>train_loss</th>\n",
       "      <th>valid_loss</th>\n",
       "      <th>time</th>\n",
       "    </tr>\n",
       "  </thead>\n",
       "  <tbody>\n",
       "    <tr>\n",
       "      <td>0</td>\n",
       "      <td>0.374202</td>\n",
       "      <td>0.944885</td>\n",
       "      <td>00:03</td>\n",
       "    </tr>\n",
       "    <tr>\n",
       "      <td>1</td>\n",
       "      <td>0.410524</td>\n",
       "      <td>0.945799</td>\n",
       "      <td>00:04</td>\n",
       "    </tr>\n",
       "    <tr>\n",
       "      <td>2</td>\n",
       "      <td>0.379035</td>\n",
       "      <td>0.925004</td>\n",
       "      <td>00:03</td>\n",
       "    </tr>\n",
       "    <tr>\n",
       "      <td>3</td>\n",
       "      <td>0.338164</td>\n",
       "      <td>0.905625</td>\n",
       "      <td>00:03</td>\n",
       "    </tr>\n",
       "    <tr>\n",
       "      <td>4</td>\n",
       "      <td>0.309734</td>\n",
       "      <td>0.901353</td>\n",
       "      <td>00:03</td>\n",
       "    </tr>\n",
       "  </tbody>\n",
       "</table>"
      ],
      "text/plain": [
       "<IPython.core.display.HTML object>"
      ]
     },
     "metadata": {},
     "output_type": "display_data"
    }
   ],
   "source": [
    "learn2.fit_one_cycle(5, 5e-3, wd=0.1)"
   ]
  },
  {
   "cell_type": "markdown",
   "id": "9ca7a71d-48cc-4bdc-a366-c4ba23cad840",
   "metadata": {},
   "source": [
    "### Add bias factors + weight decay"
   ]
  },
  {
   "cell_type": "code",
   "execution_count": 26,
   "id": "b495ec32-ce48-45cd-9b05-e0556162f4e2",
   "metadata": {},
   "outputs": [],
   "source": [
    "#user_bias(n_users,1), movie_bias(n_movie,1)\n",
    "class DotProductwithbias(Module):\n",
    "    def __init__(self, n_user, n_movie, n_factor, y_range=(0,5.5)):\n",
    "        self.user_factors = Embedding(n_user, n_factor)\n",
    "        self.movie_factors = Embedding(n_movie, n_factor)\n",
    "        self.user_bias = Embedding(n_user, 1) \n",
    "        self.movie_bias = Embedding(n_movie, 1)\n",
    "        self.y_range = y_range\n",
    "\n",
    "    def forward(self, x):\n",
    "        users = self.user_factors(x[:,0])\n",
    "        movies = self.movie_factors(x[:,1])\n",
    "        res = (users*movies).sum(dim=1, keepdim=True) #keepdim ensures output shape is (value,1) instead of (value,)\n",
    "        res += self.user_bias(x[:,0]) + self.movie_bias(x[:,1])\n",
    "        return sigmoid_range(res, *self.y_range)"
   ]
  },
  {
   "cell_type": "code",
   "execution_count": 27,
   "id": "8f30ac49-9b1c-47f0-b543-f335b9dba04f",
   "metadata": {},
   "outputs": [],
   "source": [
    "m3 = DotProductwithbias(n_user, n_movie, 50)"
   ]
  },
  {
   "cell_type": "code",
   "execution_count": 28,
   "id": "ed408df2-556d-4a3b-9a38-62b408957751",
   "metadata": {},
   "outputs": [],
   "source": [
    "learn3 = Learner(dls, m3, MSELossFlat())"
   ]
  },
  {
   "cell_type": "code",
   "execution_count": 29,
   "id": "89aea9e5-cf89-43b3-a0cb-b10f4d1e3b1f",
   "metadata": {},
   "outputs": [
    {
     "data": {
      "text/html": [
       "\n",
       "<style>\n",
       "    /* Turns off some styling */\n",
       "    progress {\n",
       "        /* gets rid of default border in Firefox and Opera. */\n",
       "        border: none;\n",
       "        /* Needs to be in here for Safari polyfill so background images work as expected. */\n",
       "        background-size: auto;\n",
       "    }\n",
       "    progress:not([value]), progress:not([value])::-webkit-progress-bar {\n",
       "        background: repeating-linear-gradient(45deg, #7e7e7e, #7e7e7e 10px, #5c5c5c 10px, #5c5c5c 20px);\n",
       "    }\n",
       "    .progress-bar-interrupted, .progress-bar-interrupted::-webkit-progress-bar {\n",
       "        background: #F44336;\n",
       "    }\n",
       "</style>\n"
      ],
      "text/plain": [
       "<IPython.core.display.HTML object>"
      ]
     },
     "metadata": {},
     "output_type": "display_data"
    },
    {
     "data": {
      "text/html": [],
      "text/plain": [
       "<IPython.core.display.HTML object>"
      ]
     },
     "metadata": {},
     "output_type": "display_data"
    },
    {
     "data": {
      "text/plain": [
       "SuggestedLRs(minimum=0.025118863582611083, valley=0.033113110810518265)"
      ]
     },
     "execution_count": 29,
     "metadata": {},
     "output_type": "execute_result"
    },
    {
     "data": {
      "image/png": "[encoded data removed]",
      "text/plain": [
       "<Figure size 640x480 with 1 Axes>"
      ]
     },
     "metadata": {},
     "output_type": "display_data"
    }
   ],
   "source": [
    "learn3.lr_find(suggest_funcs=(minimum, valley))"
   ]
  },
  {
   "cell_type": "code",
   "execution_count": 30,
   "id": "eb12e6bf-dad7-4f5d-96f5-ab107544b4aa",
   "metadata": {},
   "outputs": [
    {
     "data": {
      "text/html": [
       "\n",
       "<style>\n",
       "    /* Turns off some styling */\n",
       "    progress {\n",
       "        /* gets rid of default border in Firefox and Opera. */\n",
       "        border: none;\n",
       "        /* Needs to be in here for Safari polyfill so background images work as expected. */\n",
       "        background-size: auto;\n",
       "    }\n",
       "    progress:not([value]), progress:not([value])::-webkit-progress-bar {\n",
       "        background: repeating-linear-gradient(45deg, #7e7e7e, #7e7e7e 10px, #5c5c5c 10px, #5c5c5c 20px);\n",
       "    }\n",
       "    .progress-bar-interrupted, .progress-bar-interrupted::-webkit-progress-bar {\n",
       "        background: #F44336;\n",
       "    }\n",
       "</style>\n"
      ],
      "text/plain": [
       "<IPython.core.display.HTML object>"
      ]
     },
     "metadata": {},
     "output_type": "display_data"
    },
    {
     "data": {
      "text/html": [
       "<table border=\"1\" class=\"dataframe\">\n",
       "  <thead>\n",
       "    <tr style=\"text-align: left;\">\n",
       "      <th>epoch</th>\n",
       "      <th>train_loss</th>\n",
       "      <th>valid_loss</th>\n",
       "      <th>time</th>\n",
       "    </tr>\n",
       "  </thead>\n",
       "  <tbody>\n",
       "    <tr>\n",
       "      <td>0</td>\n",
       "      <td>0.881795</td>\n",
       "      <td>0.948689</td>\n",
       "      <td>00:04</td>\n",
       "    </tr>\n",
       "    <tr>\n",
       "      <td>1</td>\n",
       "      <td>0.651870</td>\n",
       "      <td>0.897229</td>\n",
       "      <td>00:04</td>\n",
       "    </tr>\n",
       "    <tr>\n",
       "      <td>2</td>\n",
       "      <td>0.532466</td>\n",
       "      <td>0.877675</td>\n",
       "      <td>00:04</td>\n",
       "    </tr>\n",
       "    <tr>\n",
       "      <td>3</td>\n",
       "      <td>0.445856</td>\n",
       "      <td>0.860528</td>\n",
       "      <td>00:04</td>\n",
       "    </tr>\n",
       "    <tr>\n",
       "      <td>4</td>\n",
       "      <td>0.448806</td>\n",
       "      <td>0.856530</td>\n",
       "      <td>00:04</td>\n",
       "    </tr>\n",
       "  </tbody>\n",
       "</table>"
      ],
      "text/plain": [
       "<IPython.core.display.HTML object>"
      ]
     },
     "metadata": {},
     "output_type": "display_data"
    }
   ],
   "source": [
    "learn3.fit_one_cycle(5, 5e-3, wd=0.1)"
   ]
  },
  {
   "cell_type": "markdown",
   "id": "330d70e7-9538-44e9-b22f-2cc138f107b9",
   "metadata": {},
   "source": [
    "## Use nn.Parameter() to replace Embedding"
   ]
  },
  {
   "cell_type": "markdown",
   "id": "f5590a35-8fef-460f-b876-50cef278a99a",
   "metadata": {},
   "source": [
    "(To understand deeper in `Embedding` structure🤓)\n",
    "\n",
    "Manually create a learnable matrix -- define the size with Guassian distribution (mean=0, std=0.01).\n",
    "\n",
    "Careful when lookup, manually : `params[input_id]`\n",
    "\n",
    "100,000 ratings for 943 users (<1000 user_id) has no impact; But if >1 million user_id, use Embedding is better."
   ]
  },
  {
   "cell_type": "code",
   "execution_count": 31,
   "id": "03162cd6-0961-492a-8e6b-123384cc2c71",
   "metadata": {},
   "outputs": [],
   "source": [
    "def create_param(size):\n",
    "    return nn.Parameter(torch.zeros(*size).normal_(0,0.01))"
   ]
  },
  {
   "cell_type": "code",
   "execution_count": 32,
   "id": "c6710554-0360-4947-b55b-dbf91b9344d2",
   "metadata": {},
   "outputs": [],
   "source": [
    "class DotProductwithparam(Module):\n",
    "    def __init__(self, n_user, n_movie, n_factor, y_range=(0,5.5)):\n",
    "        self.user_factors = create_param([n_user, n_factor])\n",
    "        self.user_bias = create_param([n_user, 1])\n",
    "        self.movie_factors = create_param([n_movie, n_factor])\n",
    "        self.movie_bias = create_param([n_movie, 1])\n",
    "        self.y_range = y_range\n",
    "\n",
    "    def forward(self, x):\n",
    "        users = self.user_factors[x[:,0]]\n",
    "        movies = self.movie_factors[x[:,1]]\n",
    "        res = (users*movies).sum(dim=1, keepdim=True)\n",
    "        res += self.user_bias[x[:,0]]+ self.movie_bias[x[:,1]]\n",
    "        return sigmoid_range(res, *self.y_range)"
   ]
  },
  {
   "cell_type": "code",
   "execution_count": 33,
   "id": "44d32374-2e0d-4112-96ac-41fbdc3a6544",
   "metadata": {},
   "outputs": [],
   "source": [
    "m4 = DotProductwithparam(n_user, n_movie, 50)"
   ]
  },
  {
   "cell_type": "code",
   "execution_count": 34,
   "id": "1e0b43b7-00be-42b7-8cca-9be21a7c19a2",
   "metadata": {},
   "outputs": [],
   "source": [
    "learn4 = Learner(dls, m4, MSELossFlat())"
   ]
  },
  {
   "cell_type": "code",
   "execution_count": 35,
   "id": "14a32335-f61a-4737-a787-0aad027dcd7e",
   "metadata": {},
   "outputs": [
    {
     "data": {
      "text/html": [
       "\n",
       "<style>\n",
       "    /* Turns off some styling */\n",
       "    progress {\n",
       "        /* gets rid of default border in Firefox and Opera. */\n",
       "        border: none;\n",
       "        /* Needs to be in here for Safari polyfill so background images work as expected. */\n",
       "        background-size: auto;\n",
       "    }\n",
       "    progress:not([value]), progress:not([value])::-webkit-progress-bar {\n",
       "        background: repeating-linear-gradient(45deg, #7e7e7e, #7e7e7e 10px, #5c5c5c 10px, #5c5c5c 20px);\n",
       "    }\n",
       "    .progress-bar-interrupted, .progress-bar-interrupted::-webkit-progress-bar {\n",
       "        background: #F44336;\n",
       "    }\n",
       "</style>\n"
      ],
      "text/plain": [
       "<IPython.core.display.HTML object>"
      ]
     },
     "metadata": {},
     "output_type": "display_data"
    },
    {
     "data": {
      "text/html": [
       "<table border=\"1\" class=\"dataframe\">\n",
       "  <thead>\n",
       "    <tr style=\"text-align: left;\">\n",
       "      <th>epoch</th>\n",
       "      <th>train_loss</th>\n",
       "      <th>valid_loss</th>\n",
       "      <th>time</th>\n",
       "    </tr>\n",
       "  </thead>\n",
       "  <tbody>\n",
       "    <tr>\n",
       "      <td>0</td>\n",
       "      <td>0.882108</td>\n",
       "      <td>0.954270</td>\n",
       "      <td>00:04</td>\n",
       "    </tr>\n",
       "    <tr>\n",
       "      <td>1</td>\n",
       "      <td>0.666175</td>\n",
       "      <td>0.904384</td>\n",
       "      <td>00:04</td>\n",
       "    </tr>\n",
       "    <tr>\n",
       "      <td>2</td>\n",
       "      <td>0.519925</td>\n",
       "      <td>0.884010</td>\n",
       "      <td>00:04</td>\n",
       "    </tr>\n",
       "    <tr>\n",
       "      <td>3</td>\n",
       "      <td>0.457408</td>\n",
       "      <td>0.865383</td>\n",
       "      <td>00:04</td>\n",
       "    </tr>\n",
       "    <tr>\n",
       "      <td>4</td>\n",
       "      <td>0.441064</td>\n",
       "      <td>0.862121</td>\n",
       "      <td>00:04</td>\n",
       "    </tr>\n",
       "  </tbody>\n",
       "</table>"
      ],
      "text/plain": [
       "<IPython.core.display.HTML object>"
      ]
     },
     "metadata": {},
     "output_type": "display_data"
    }
   ],
   "source": [
    "learn4.fit_one_cycle(5, 5e-3, wd=0.1)"
   ]
  },
  {
   "cell_type": "markdown",
   "id": "7f60bc86-8f90-4269-a137-0f901e5ba872",
   "metadata": {},
   "source": [
    "## Interpretation\n",
    "### movie bias"
   ]
  },
  {
   "cell_type": "code",
   "execution_count": 36,
   "id": "b44e2841-e97b-454f-8438-9e29b7494d1a",
   "metadata": {},
   "outputs": [],
   "source": [
    "low_5_idx = learn4.model.movie_bias.squeeze().argsort()[:5]\n",
    "high_5_idx = learn4.model.movie_bias.squeeze().argsort(descending=True)[:5]"
   ]
  },
  {
   "cell_type": "code",
   "execution_count": 37,
   "id": "37c50cfa-9f97-437e-af7d-a6c86e48732a",
   "metadata": {},
   "outputs": [
    {
     "data": {
      "text/plain": [
       "['Children of the Corn: The Gathering (1996)',\n",
       " 'Body Parts (1991)',\n",
       " 'Lawnmower Man 2: Beyond Cyberspace (1996)',\n",
       " 'Robocop 3 (1993)',\n",
       " 'Free Willy 3: The Rescue (1997)']"
      ]
     },
     "execution_count": 37,
     "metadata": {},
     "output_type": "execute_result"
    }
   ],
   "source": [
    "[dls.classes['title'][o] for o in low_5_idx] #5 movies with lowest movie_bias"
   ]
  },
  {
   "cell_type": "code",
   "execution_count": 38,
   "id": "296634d8-fde3-4c7e-bdfa-d4ee6538541e",
   "metadata": {},
   "outputs": [
    {
     "data": {
      "text/plain": [
       "['Titanic (1997)',\n",
       " \"Schindler's List (1993)\",\n",
       " 'Shawshank Redemption, The (1994)',\n",
       " 'As Good As It Gets (1997)',\n",
       " 'L.A. Confidential (1997)']"
      ]
     },
     "execution_count": 38,
     "metadata": {},
     "output_type": "execute_result"
    }
   ],
   "source": [
    "[dls.classes['title'][o] for o in high_5_idx] #5 movies with highest movie_bias"
   ]
  },
  {
   "cell_type": "markdown",
   "id": "86976b27-3bb3-4a8e-b40f-ffcdf81d36f1",
   "metadata": {},
   "source": [
    "### Embedding visualization\n",
    "Select top 50 movies embeddings"
   ]
  },
  {
   "cell_type": "code",
   "execution_count": 39,
   "id": "88372b60-a4f0-4c04-a201-6064cca2e21c",
   "metadata": {},
   "outputs": [
    {
     "data": {
      "image/png": "[encoded data removed]",
      "text/plain": [
       "<Figure size 1000x1000 with 1 Axes>"
      ]
     },
     "metadata": {},
     "output_type": "display_data"
    }
   ],
   "source": [
    "g = ratings.groupby('title')['rating'].count() #count nums of ratings every movie -> popular movies\n",
    "top_movies = g.sort_values(ascending=False).index.values[:1000] #select most popular 1000 of total 1664 movies\n",
    "top_idx = tensor([learn4.dls.classes['title'].o2i[i] for i in top_movies]) #given title, find its idx, to find the embeddings (by idx)\n",
    "movie_weights = learn4.model.movie_factors[top_idx].cpu().detach()\n",
    "movie_pca = movie_weights.pca(3) #shape=(w,3)learn4 embedding has 50 factors (dims) -> pca to 3 dims \n",
    "f1, f2, f3 = movie_pca.t() #(3,w)\n",
    "#select top 50\n",
    "idx = list(range(50))\n",
    "X = f1[idx]\n",
    "Y = f2[idx]\n",
    "plt.figure(figsize=(10,10))\n",
    "plt.scatter(X,Y)\n",
    "for i, x, y in zip(top_movies[idx], X, Y):\n",
    "    plt.text(x, y, i, color=np.random.rand(3)*0.7, fontsize=9)\n",
    "plt.show()"
   ]
  },
  {
   "cell_type": "markdown",
   "id": "98058a50-c5fe-41b1-8efc-18152b0776d1",
   "metadata": {},
   "source": [
    "## fastai - collab_learner()"
   ]
  },
  {
   "cell_type": "code",
   "execution_count": 40,
   "id": "a2ae28c6-7982-459c-9016-1d6b570d1381",
   "metadata": {},
   "outputs": [
    {
     "data": {
      "text/plain": [
       "EmbeddingDotBias(\n",
       "  (u_weight): Embedding(944, 50)\n",
       "  (i_weight): Embedding(1665, 50)\n",
       "  (u_bias): Embedding(944, 1)\n",
       "  (i_bias): Embedding(1665, 1)\n",
       ")"
      ]
     },
     "execution_count": 40,
     "metadata": {},
     "output_type": "execute_result"
    }
   ],
   "source": [
    "learn5 = collab_learner(dls, 50, y_range=(0, 5.5), loss_func=MSELossFlat())\n",
    "set_seed(44, reproducible=True)\n",
    "learn5.model"
   ]
  },
  {
   "cell_type": "code",
   "execution_count": 41,
   "id": "82968be2-067b-4049-8700-1b556e075a22",
   "metadata": {},
   "outputs": [
    {
     "data": {
      "text/html": [
       "\n",
       "<style>\n",
       "    /* Turns off some styling */\n",
       "    progress {\n",
       "        /* gets rid of default border in Firefox and Opera. */\n",
       "        border: none;\n",
       "        /* Needs to be in here for Safari polyfill so background images work as expected. */\n",
       "        background-size: auto;\n",
       "    }\n",
       "    progress:not([value]), progress:not([value])::-webkit-progress-bar {\n",
       "        background: repeating-linear-gradient(45deg, #7e7e7e, #7e7e7e 10px, #5c5c5c 10px, #5c5c5c 20px);\n",
       "    }\n",
       "    .progress-bar-interrupted, .progress-bar-interrupted::-webkit-progress-bar {\n",
       "        background: #F44336;\n",
       "    }\n",
       "</style>\n"
      ],
      "text/plain": [
       "<IPython.core.display.HTML object>"
      ]
     },
     "metadata": {},
     "output_type": "display_data"
    },
    {
     "data": {
      "text/html": [
       "<table border=\"1\" class=\"dataframe\">\n",
       "  <thead>\n",
       "    <tr style=\"text-align: left;\">\n",
       "      <th>epoch</th>\n",
       "      <th>train_loss</th>\n",
       "      <th>valid_loss</th>\n",
       "      <th>time</th>\n",
       "    </tr>\n",
       "  </thead>\n",
       "  <tbody>\n",
       "    <tr>\n",
       "      <td>0</td>\n",
       "      <td>0.894730</td>\n",
       "      <td>0.946643</td>\n",
       "      <td>00:04</td>\n",
       "    </tr>\n",
       "    <tr>\n",
       "      <td>1</td>\n",
       "      <td>0.659328</td>\n",
       "      <td>0.902291</td>\n",
       "      <td>00:04</td>\n",
       "    </tr>\n",
       "    <tr>\n",
       "      <td>2</td>\n",
       "      <td>0.530802</td>\n",
       "      <td>0.874278</td>\n",
       "      <td>00:04</td>\n",
       "    </tr>\n",
       "    <tr>\n",
       "      <td>3</td>\n",
       "      <td>0.459777</td>\n",
       "      <td>0.861276</td>\n",
       "      <td>00:04</td>\n",
       "    </tr>\n",
       "    <tr>\n",
       "      <td>4</td>\n",
       "      <td>0.428101</td>\n",
       "      <td>0.857935</td>\n",
       "      <td>00:04</td>\n",
       "    </tr>\n",
       "  </tbody>\n",
       "</table>"
      ],
      "text/plain": [
       "<IPython.core.display.HTML object>"
      ]
     },
     "metadata": {},
     "output_type": "display_data"
    }
   ],
   "source": [
    "learn5.fit_one_cycle(5, 5e-3, wd=0.1)"
   ]
  },
  {
   "cell_type": "code",
   "execution_count": 42,
   "id": "9c1caf0b-d406-4280-8a70-652fe0f1e2dd",
   "metadata": {},
   "outputs": [
    {
     "data": {
      "text/plain": [
       "['Titanic (1997)',\n",
       " \"Schindler's List (1993)\",\n",
       " 'Star Wars (1977)',\n",
       " 'Apt Pupil (1998)',\n",
       " 'Close Shave, A (1995)']"
      ]
     },
     "execution_count": 42,
     "metadata": {},
     "output_type": "execute_result"
    }
   ],
   "source": [
    "idx_5 = learn5.model.i_bias.weight.squeeze().argsort(descending=True)[:5]\n",
    "[learn5.dls.classes['title'][o] for o in idx_5] #5 movies with highest movie_bias"
   ]
  },
  {
   "cell_type": "markdown",
   "id": "f0400caa-2a25-4fb3-8e5e-21f7fe20d9d4",
   "metadata": {},
   "source": [
    "## Deep learning model\n",
    "Build a neural network for this dataset.\n",
    "The NN structure is from paper's base model: Neural Collaborative Filtering [https://arxiv.org/abs/1708.05031]\n",
    "\n",
    "### Base NN model\n",
    "- hidden 1 layer : n_act=100"
   ]
  },
  {
   "cell_type": "code",
   "execution_count": 43,
   "id": "c47a56d8-e962-4dba-94e5-227397eed186",
   "metadata": {},
   "outputs": [
    {
     "data": {
      "text/plain": [
       "[(944, 74), (1665, 102)]"
      ]
     },
     "execution_count": 43,
     "metadata": {},
     "output_type": "execute_result"
    }
   ],
   "source": [
    "embs = get_emb_sz(dls) #automatically give embedding size\n",
    "embs"
   ]
  },
  {
   "cell_type": "code",
   "execution_count": 44,
   "id": "f6e99cb7-4416-4a35-aeba-8918d43f1b90",
   "metadata": {},
   "outputs": [],
   "source": [
    "class CollabNN(Module):\n",
    "    def __init__(self, user_sz, movie_sz, y_range=(0, 5.5), n_act=100):\n",
    "        self.user_factors=Embedding(*user_sz)\n",
    "        self.movie_factors=Embedding(*movie_sz)\n",
    "        self.y_range = y_range\n",
    "        self.layers = nn.Sequential(\n",
    "            nn.Linear(user_sz[1]+movie_sz[1], n_act),\n",
    "            nn.ReLU(),\n",
    "            nn.Linear(n_act, 1)\n",
    "        )\n",
    "    def forward(self, x):\n",
    "        embs = self.user_factors(x[:,0]), self.movie_factors(x[:,1])\n",
    "        x = self.layers(torch.cat(embs, dim=1))\n",
    "        return sigmoid_range(x, *self.y_range)"
   ]
  },
  {
   "cell_type": "code",
   "execution_count": 45,
   "id": "23cd6980-5c2e-440a-955e-c0f3cf139cba",
   "metadata": {},
   "outputs": [],
   "source": [
    "m6 = CollabNN(*embs)"
   ]
  },
  {
   "cell_type": "code",
   "execution_count": 46,
   "id": "59f57bb4-d07a-47d6-bb6f-8aa8592812a9",
   "metadata": {},
   "outputs": [],
   "source": [
    "learn6 = Learner(dls, m6, MSELossFlat())"
   ]
  },
  {
   "cell_type": "code",
   "execution_count": 47,
   "id": "c6e34490-94bc-4e5f-bb2e-fd0f9e92972b",
   "metadata": {},
   "outputs": [
    {
     "data": {
      "text/html": [
       "\n",
       "<style>\n",
       "    /* Turns off some styling */\n",
       "    progress {\n",
       "        /* gets rid of default border in Firefox and Opera. */\n",
       "        border: none;\n",
       "        /* Needs to be in here for Safari polyfill so background images work as expected. */\n",
       "        background-size: auto;\n",
       "    }\n",
       "    progress:not([value]), progress:not([value])::-webkit-progress-bar {\n",
       "        background: repeating-linear-gradient(45deg, #7e7e7e, #7e7e7e 10px, #5c5c5c 10px, #5c5c5c 20px);\n",
       "    }\n",
       "    .progress-bar-interrupted, .progress-bar-interrupted::-webkit-progress-bar {\n",
       "        background: #F44336;\n",
       "    }\n",
       "</style>\n"
      ],
      "text/plain": [
       "<IPython.core.display.HTML object>"
      ]
     },
     "metadata": {},
     "output_type": "display_data"
    },
    {
     "data": {
      "text/html": [],
      "text/plain": [
       "<IPython.core.display.HTML object>"
      ]
     },
     "metadata": {},
     "output_type": "display_data"
    },
    {
     "data": {
      "text/plain": [
       "SuggestedLRs(minimum=0.00831763744354248, valley=0.0014454397605732083)"
      ]
     },
     "execution_count": 47,
     "metadata": {},
     "output_type": "execute_result"
    },
    {
     "data": {
      "image/png": "[encoded data removed]",
      "text/plain": [
       "<Figure size 640x480 with 1 Axes>"
      ]
     },
     "metadata": {},
     "output_type": "display_data"
    }
   ],
   "source": [
    "learn6.lr_find(suggest_funcs=(minimum, valley))"
   ]
  },
  {
   "cell_type": "code",
   "execution_count": 48,
   "id": "93523324-a251-4ad3-82d3-1549296ddd71",
   "metadata": {},
   "outputs": [
    {
     "data": {
      "text/html": [
       "\n",
       "<style>\n",
       "    /* Turns off some styling */\n",
       "    progress {\n",
       "        /* gets rid of default border in Firefox and Opera. */\n",
       "        border: none;\n",
       "        /* Needs to be in here for Safari polyfill so background images work as expected. */\n",
       "        background-size: auto;\n",
       "    }\n",
       "    progress:not([value]), progress:not([value])::-webkit-progress-bar {\n",
       "        background: repeating-linear-gradient(45deg, #7e7e7e, #7e7e7e 10px, #5c5c5c 10px, #5c5c5c 20px);\n",
       "    }\n",
       "    .progress-bar-interrupted, .progress-bar-interrupted::-webkit-progress-bar {\n",
       "        background: #F44336;\n",
       "    }\n",
       "</style>\n"
      ],
      "text/plain": [
       "<IPython.core.display.HTML object>"
      ]
     },
     "metadata": {},
     "output_type": "display_data"
    },
    {
     "data": {
      "text/html": [
       "<table border=\"1\" class=\"dataframe\">\n",
       "  <thead>\n",
       "    <tr style=\"text-align: left;\">\n",
       "      <th>epoch</th>\n",
       "      <th>train_loss</th>\n",
       "      <th>valid_loss</th>\n",
       "      <th>time</th>\n",
       "    </tr>\n",
       "  </thead>\n",
       "  <tbody>\n",
       "    <tr>\n",
       "      <td>0</td>\n",
       "      <td>0.929227</td>\n",
       "      <td>0.984164</td>\n",
       "      <td>00:04</td>\n",
       "    </tr>\n",
       "    <tr>\n",
       "      <td>1</td>\n",
       "      <td>0.887141</td>\n",
       "      <td>0.925043</td>\n",
       "      <td>00:04</td>\n",
       "    </tr>\n",
       "    <tr>\n",
       "      <td>2</td>\n",
       "      <td>0.818727</td>\n",
       "      <td>0.921359</td>\n",
       "      <td>00:04</td>\n",
       "    </tr>\n",
       "    <tr>\n",
       "      <td>3</td>\n",
       "      <td>0.761186</td>\n",
       "      <td>0.883243</td>\n",
       "      <td>00:04</td>\n",
       "    </tr>\n",
       "    <tr>\n",
       "      <td>4</td>\n",
       "      <td>0.805905</td>\n",
       "      <td>0.874813</td>\n",
       "      <td>00:04</td>\n",
       "    </tr>\n",
       "  </tbody>\n",
       "</table>"
      ],
      "text/plain": [
       "<IPython.core.display.HTML object>"
      ]
     },
     "metadata": {},
     "output_type": "display_data"
    }
   ],
   "source": [
    "learn6.fit_one_cycle(5, 5e-3, wd=0.1)"
   ]
  },
  {
   "cell_type": "markdown",
   "id": "e8644c3b-68c6-41fc-a0e1-99b003944ca6",
   "metadata": {},
   "source": [
    "### fastai - collab_learner can also receive NN model\n",
    "- hidden 2 layers: [100, 50]"
   ]
  },
  {
   "cell_type": "code",
   "execution_count": 49,
   "id": "b0c5f4eb-07b1-492e-a8ea-88c977dbf42a",
   "metadata": {},
   "outputs": [
    {
     "data": {
      "text/html": [
       "\n",
       "<style>\n",
       "    /* Turns off some styling */\n",
       "    progress {\n",
       "        /* gets rid of default border in Firefox and Opera. */\n",
       "        border: none;\n",
       "        /* Needs to be in here for Safari polyfill so background images work as expected. */\n",
       "        background-size: auto;\n",
       "    }\n",
       "    progress:not([value]), progress:not([value])::-webkit-progress-bar {\n",
       "        background: repeating-linear-gradient(45deg, #7e7e7e, #7e7e7e 10px, #5c5c5c 10px, #5c5c5c 20px);\n",
       "    }\n",
       "    .progress-bar-interrupted, .progress-bar-interrupted::-webkit-progress-bar {\n",
       "        background: #F44336;\n",
       "    }\n",
       "</style>\n"
      ],
      "text/plain": [
       "<IPython.core.display.HTML object>"
      ]
     },
     "metadata": {},
     "output_type": "display_data"
    },
    {
     "data": {
      "text/html": [],
      "text/plain": [
       "<IPython.core.display.HTML object>"
      ]
     },
     "metadata": {},
     "output_type": "display_data"
    },
    {
     "data": {
      "text/plain": [
       "SuggestedLRs(valley=0.00363078061491251)"
      ]
     },
     "execution_count": 49,
     "metadata": {},
     "output_type": "execute_result"
    },
    {
     "data": {
      "image/png": "[encoded data removed]",
      "text/plain": [
       "<Figure size 640x480 with 1 Axes>"
      ]
     },
     "metadata": {},
     "output_type": "display_data"
    }
   ],
   "source": [
    "learn6_1 = collab_learner(dls, m6, use_nn=True, layers=[100,50], y_range=(0,5.5))\n",
    "learn6_1.lr_find()"
   ]
  },
  {
   "cell_type": "code",
   "execution_count": 50,
   "id": "28bd9265-e905-4e90-a345-8197fb548848",
   "metadata": {},
   "outputs": [
    {
     "data": {
      "text/html": [
       "\n",
       "<style>\n",
       "    /* Turns off some styling */\n",
       "    progress {\n",
       "        /* gets rid of default border in Firefox and Opera. */\n",
       "        border: none;\n",
       "        /* Needs to be in here for Safari polyfill so background images work as expected. */\n",
       "        background-size: auto;\n",
       "    }\n",
       "    progress:not([value]), progress:not([value])::-webkit-progress-bar {\n",
       "        background: repeating-linear-gradient(45deg, #7e7e7e, #7e7e7e 10px, #5c5c5c 10px, #5c5c5c 20px);\n",
       "    }\n",
       "    .progress-bar-interrupted, .progress-bar-interrupted::-webkit-progress-bar {\n",
       "        background: #F44336;\n",
       "    }\n",
       "</style>\n"
      ],
      "text/plain": [
       "<IPython.core.display.HTML object>"
      ]
     },
     "metadata": {},
     "output_type": "display_data"
    },
    {
     "data": {
      "text/html": [
       "<table border=\"1\" class=\"dataframe\">\n",
       "  <thead>\n",
       "    <tr style=\"text-align: left;\">\n",
       "      <th>epoch</th>\n",
       "      <th>train_loss</th>\n",
       "      <th>valid_loss</th>\n",
       "      <th>time</th>\n",
       "    </tr>\n",
       "  </thead>\n",
       "  <tbody>\n",
       "    <tr>\n",
       "      <td>0</td>\n",
       "      <td>0.948409</td>\n",
       "      <td>1.003966</td>\n",
       "      <td>00:06</td>\n",
       "    </tr>\n",
       "    <tr>\n",
       "      <td>1</td>\n",
       "      <td>0.894804</td>\n",
       "      <td>0.925864</td>\n",
       "      <td>00:06</td>\n",
       "    </tr>\n",
       "    <tr>\n",
       "      <td>2</td>\n",
       "      <td>0.826107</td>\n",
       "      <td>0.897853</td>\n",
       "      <td>00:06</td>\n",
       "    </tr>\n",
       "    <tr>\n",
       "      <td>3</td>\n",
       "      <td>0.764514</td>\n",
       "      <td>0.880038</td>\n",
       "      <td>00:06</td>\n",
       "    </tr>\n",
       "    <tr>\n",
       "      <td>4</td>\n",
       "      <td>0.723839</td>\n",
       "      <td>0.882010</td>\n",
       "      <td>00:06</td>\n",
       "    </tr>\n",
       "  </tbody>\n",
       "</table>"
      ],
      "text/plain": [
       "<IPython.core.display.HTML object>"
      ]
     },
     "metadata": {},
     "output_type": "display_data"
    }
   ],
   "source": [
    "learn6_1.fit_one_cycle(5, 5e-3, wd=0.1)"
   ]
  },
  {
   "cell_type": "markdown",
   "id": "2c448b57-88c4-4ed0-bec0-35d167724ffa",
   "metadata": {},
   "source": [
    "### CollabNN + bias + dropout + weight decay "
   ]
  },
  {
   "cell_type": "code",
   "execution_count": 51,
   "id": "f83b3c65-ef27-4662-a054-9a136f5d8f69",
   "metadata": {},
   "outputs": [],
   "source": [
    "class CollabNNpro(Module):\n",
    "    def __init__(self, user_sz, movie_sz, y_range=(0, 5.5), n_act=100, dropout_p=0.4):\n",
    "        self.user_factors=Embedding(*user_sz)\n",
    "        self.movie_factors=Embedding(*movie_sz)\n",
    "        self.user_bias = Embedding(user_sz[0],1)\n",
    "        self.movie_bias = Embedding(movie_sz[0],1)\n",
    "        self.y_range = y_range\n",
    "        self.layers = nn.Sequential(\n",
    "            nn.Linear(user_sz[1]+movie_sz[1], n_act),\n",
    "            nn.ReLU(),\n",
    "            nn.Dropout(dropout_p),\n",
    "            nn.Linear(n_act, n_act//2),\n",
    "            nn.ReLU(),\n",
    "            nn.Dropout(dropout_p/2),\n",
    "            nn.Linear(n_act//2, 1)\n",
    "        )\n",
    "    def forward(self, x):\n",
    "        users = self.user_factors(x[:,0])\n",
    "        movies = self.movie_factors(x[:,1])\n",
    "        users_bias = self.user_bias(x[:,0]).squeeze()\n",
    "        movie_bias = self.movie_bias(x[:,1]).squeeze()\n",
    "        out = self.layers(torch.cat([users, movies], dim=1)).squeeze()\n",
    "        res = out + users_bias + movie_bias\n",
    "        return sigmoid_range(res, *self.y_range)"
   ]
  },
  {
   "cell_type": "code",
   "execution_count": 52,
   "id": "f8b8b1c0-1ce9-4166-9fbe-52f7a2a0b8a4",
   "metadata": {},
   "outputs": [],
   "source": [
    "m6_2 = CollabNNpro(*embs)"
   ]
  },
  {
   "cell_type": "code",
   "execution_count": 53,
   "id": "5a1a8898-fdfb-4aad-a2c0-75b2152eee22",
   "metadata": {},
   "outputs": [
    {
     "data": {
      "text/html": [
       "\n",
       "<style>\n",
       "    /* Turns off some styling */\n",
       "    progress {\n",
       "        /* gets rid of default border in Firefox and Opera. */\n",
       "        border: none;\n",
       "        /* Needs to be in here for Safari polyfill so background images work as expected. */\n",
       "        background-size: auto;\n",
       "    }\n",
       "    progress:not([value]), progress:not([value])::-webkit-progress-bar {\n",
       "        background: repeating-linear-gradient(45deg, #7e7e7e, #7e7e7e 10px, #5c5c5c 10px, #5c5c5c 20px);\n",
       "    }\n",
       "    .progress-bar-interrupted, .progress-bar-interrupted::-webkit-progress-bar {\n",
       "        background: #F44336;\n",
       "    }\n",
       "</style>\n"
      ],
      "text/plain": [
       "<IPython.core.display.HTML object>"
      ]
     },
     "metadata": {},
     "output_type": "display_data"
    },
    {
     "data": {
      "text/html": [],
      "text/plain": [
       "<IPython.core.display.HTML object>"
      ]
     },
     "metadata": {},
     "output_type": "display_data"
    },
    {
     "data": {
      "text/plain": [
       "SuggestedLRs(valley=0.0030199517495930195)"
      ]
     },
     "execution_count": 53,
     "metadata": {},
     "output_type": "execute_result"
    },
    {
     "data": {
      "image/png": "[encoded data removed]",
      "text/plain": [
       "<Figure size 640x480 with 1 Axes>"
      ]
     },
     "metadata": {},
     "output_type": "display_data"
    }
   ],
   "source": [
    "learn6_2 = Learner(dls, m6_2, MSELossFlat())\n",
    "learn6_2.lr_find()"
   ]
  },
  {
   "cell_type": "code",
   "execution_count": 54,
   "id": "8b596b44-88f1-4478-b82c-ebcd97f54af2",
   "metadata": {},
   "outputs": [
    {
     "data": {
      "text/html": [
       "\n",
       "<style>\n",
       "    /* Turns off some styling */\n",
       "    progress {\n",
       "        /* gets rid of default border in Firefox and Opera. */\n",
       "        border: none;\n",
       "        /* Needs to be in here for Safari polyfill so background images work as expected. */\n",
       "        background-size: auto;\n",
       "    }\n",
       "    progress:not([value]), progress:not([value])::-webkit-progress-bar {\n",
       "        background: repeating-linear-gradient(45deg, #7e7e7e, #7e7e7e 10px, #5c5c5c 10px, #5c5c5c 20px);\n",
       "    }\n",
       "    .progress-bar-interrupted, .progress-bar-interrupted::-webkit-progress-bar {\n",
       "        background: #F44336;\n",
       "    }\n",
       "</style>\n"
      ],
      "text/plain": [
       "<IPython.core.display.HTML object>"
      ]
     },
     "metadata": {},
     "output_type": "display_data"
    },
    {
     "data": {
      "text/html": [
       "<table border=\"1\" class=\"dataframe\">\n",
       "  <thead>\n",
       "    <tr style=\"text-align: left;\">\n",
       "      <th>epoch</th>\n",
       "      <th>train_loss</th>\n",
       "      <th>valid_loss</th>\n",
       "      <th>time</th>\n",
       "    </tr>\n",
       "  </thead>\n",
       "  <tbody>\n",
       "    <tr>\n",
       "      <td>0</td>\n",
       "      <td>0.956582</td>\n",
       "      <td>1.004055</td>\n",
       "      <td>00:06</td>\n",
       "    </tr>\n",
       "    <tr>\n",
       "      <td>1</td>\n",
       "      <td>0.865183</td>\n",
       "      <td>0.915047</td>\n",
       "      <td>00:06</td>\n",
       "    </tr>\n",
       "    <tr>\n",
       "      <td>2</td>\n",
       "      <td>0.833166</td>\n",
       "      <td>0.894081</td>\n",
       "      <td>00:06</td>\n",
       "    </tr>\n",
       "    <tr>\n",
       "      <td>3</td>\n",
       "      <td>0.806568</td>\n",
       "      <td>0.883118</td>\n",
       "      <td>00:06</td>\n",
       "    </tr>\n",
       "    <tr>\n",
       "      <td>4</td>\n",
       "      <td>0.776061</td>\n",
       "      <td>0.876206</td>\n",
       "      <td>00:06</td>\n",
       "    </tr>\n",
       "  </tbody>\n",
       "</table>"
      ],
      "text/plain": [
       "<IPython.core.display.HTML object>"
      ]
     },
     "metadata": {},
     "output_type": "display_data"
    }
   ],
   "source": [
    "learn6_2.fit_one_cycle(5, 5e-3, wd=0.1)"
   ]
  },
  {
   "cell_type": "markdown",
   "id": "08d2b963-9f9c-44ce-903f-efb39620fdee",
   "metadata": {},
   "source": [
    "Adding bias、dropout、deep layers perform more loss? In fact, these are regularization methods, which will sacrifices model perfomance a bit...But will perform better in test/validset.\n"
   ]
  },
  {
   "cell_type": "markdown",
   "id": "c59e3919-4708-42b2-858a-7e3aae18ab8c",
   "metadata": {},
   "source": [
    "## Model evaluation summary"
   ]
  },
  {
   "cell_type": "code",
   "execution_count": 55,
   "id": "7afed517-ec01-4ac4-ac7e-7b03173e2246",
   "metadata": {},
   "outputs": [],
   "source": [
    "def model_performance_table(learners, names=None):\n",
    "    results = []\n",
    "\n",
    "    for i, learner in enumerate(learners):\n",
    "        name = names[i] if names else f'Model_{i+1}'\n",
    "        \n",
    "        p, t = learner.get_preds(dl=learner.dls.valid)\n",
    "        p = p.squeeze()\n",
    "\n",
    "        rmse_val = rmse(t, p)\n",
    "        mae_val = mae(t, p)\n",
    "\n",
    "        results.append({\n",
    "            'Model': name,\n",
    "            'RMSE': round(rmse_val.item(), 4),\n",
    "            'MAE': round(mae_val.item(), 4)\n",
    "        })\n",
    "\n",
    "    df = pd.DataFrame(results)\n",
    "    return df"
   ]
  },
  {
   "cell_type": "code",
   "execution_count": 56,
   "id": "59cf5f82-0d03-437c-ade8-41711729762a",
   "metadata": {},
   "outputs": [
    {
     "data": {
      "text/html": [
       "\n",
       "<style>\n",
       "    /* Turns off some styling */\n",
       "    progress {\n",
       "        /* gets rid of default border in Firefox and Opera. */\n",
       "        border: none;\n",
       "        /* Needs to be in here for Safari polyfill so background images work as expected. */\n",
       "        background-size: auto;\n",
       "    }\n",
       "    progress:not([value]), progress:not([value])::-webkit-progress-bar {\n",
       "        background: repeating-linear-gradient(45deg, #7e7e7e, #7e7e7e 10px, #5c5c5c 10px, #5c5c5c 20px);\n",
       "    }\n",
       "    .progress-bar-interrupted, .progress-bar-interrupted::-webkit-progress-bar {\n",
       "        background: #F44336;\n",
       "    }\n",
       "</style>\n"
      ],
      "text/plain": [
       "<IPython.core.display.HTML object>"
      ]
     },
     "metadata": {},
     "output_type": "display_data"
    },
    {
     "data": {
      "text/html": [],
      "text/plain": [
       "<IPython.core.display.HTML object>"
      ]
     },
     "metadata": {},
     "output_type": "display_data"
    },
    {
     "data": {
      "text/html": [
       "\n",
       "<style>\n",
       "    /* Turns off some styling */\n",
       "    progress {\n",
       "        /* gets rid of default border in Firefox and Opera. */\n",
       "        border: none;\n",
       "        /* Needs to be in here for Safari polyfill so background images work as expected. */\n",
       "        background-size: auto;\n",
       "    }\n",
       "    progress:not([value]), progress:not([value])::-webkit-progress-bar {\n",
       "        background: repeating-linear-gradient(45deg, #7e7e7e, #7e7e7e 10px, #5c5c5c 10px, #5c5c5c 20px);\n",
       "    }\n",
       "    .progress-bar-interrupted, .progress-bar-interrupted::-webkit-progress-bar {\n",
       "        background: #F44336;\n",
       "    }\n",
       "</style>\n"
      ],
      "text/plain": [
       "<IPython.core.display.HTML object>"
      ]
     },
     "metadata": {},
     "output_type": "display_data"
    },
    {
     "data": {
      "text/html": [],
      "text/plain": [
       "<IPython.core.display.HTML object>"
      ]
     },
     "metadata": {},
     "output_type": "display_data"
    },
    {
     "data": {
      "text/html": [
       "\n",
       "<style>\n",
       "    /* Turns off some styling */\n",
       "    progress {\n",
       "        /* gets rid of default border in Firefox and Opera. */\n",
       "        border: none;\n",
       "        /* Needs to be in here for Safari polyfill so background images work as expected. */\n",
       "        background-size: auto;\n",
       "    }\n",
       "    progress:not([value]), progress:not([value])::-webkit-progress-bar {\n",
       "        background: repeating-linear-gradient(45deg, #7e7e7e, #7e7e7e 10px, #5c5c5c 10px, #5c5c5c 20px);\n",
       "    }\n",
       "    .progress-bar-interrupted, .progress-bar-interrupted::-webkit-progress-bar {\n",
       "        background: #F44336;\n",
       "    }\n",
       "</style>\n"
      ],
      "text/plain": [
       "<IPython.core.display.HTML object>"
      ]
     },
     "metadata": {},
     "output_type": "display_data"
    },
    {
     "data": {
      "text/html": [],
      "text/plain": [
       "<IPython.core.display.HTML object>"
      ]
     },
     "metadata": {},
     "output_type": "display_data"
    },
    {
     "data": {
      "text/html": [
       "\n",
       "<style>\n",
       "    /* Turns off some styling */\n",
       "    progress {\n",
       "        /* gets rid of default border in Firefox and Opera. */\n",
       "        border: none;\n",
       "        /* Needs to be in here for Safari polyfill so background images work as expected. */\n",
       "        background-size: auto;\n",
       "    }\n",
       "    progress:not([value]), progress:not([value])::-webkit-progress-bar {\n",
       "        background: repeating-linear-gradient(45deg, #7e7e7e, #7e7e7e 10px, #5c5c5c 10px, #5c5c5c 20px);\n",
       "    }\n",
       "    .progress-bar-interrupted, .progress-bar-interrupted::-webkit-progress-bar {\n",
       "        background: #F44336;\n",
       "    }\n",
       "</style>\n"
      ],
      "text/plain": [
       "<IPython.core.display.HTML object>"
      ]
     },
     "metadata": {},
     "output_type": "display_data"
    },
    {
     "data": {
      "text/html": [],
      "text/plain": [
       "<IPython.core.display.HTML object>"
      ]
     },
     "metadata": {},
     "output_type": "display_data"
    },
    {
     "data": {
      "text/html": [
       "\n",
       "<style>\n",
       "    /* Turns off some styling */\n",
       "    progress {\n",
       "        /* gets rid of default border in Firefox and Opera. */\n",
       "        border: none;\n",
       "        /* Needs to be in here for Safari polyfill so background images work as expected. */\n",
       "        background-size: auto;\n",
       "    }\n",
       "    progress:not([value]), progress:not([value])::-webkit-progress-bar {\n",
       "        background: repeating-linear-gradient(45deg, #7e7e7e, #7e7e7e 10px, #5c5c5c 10px, #5c5c5c 20px);\n",
       "    }\n",
       "    .progress-bar-interrupted, .progress-bar-interrupted::-webkit-progress-bar {\n",
       "        background: #F44336;\n",
       "    }\n",
       "</style>\n"
      ],
      "text/plain": [
       "<IPython.core.display.HTML object>"
      ]
     },
     "metadata": {},
     "output_type": "display_data"
    },
    {
     "data": {
      "text/html": [],
      "text/plain": [
       "<IPython.core.display.HTML object>"
      ]
     },
     "metadata": {},
     "output_type": "display_data"
    },
    {
     "data": {
      "text/html": [
       "\n",
       "<style>\n",
       "    /* Turns off some styling */\n",
       "    progress {\n",
       "        /* gets rid of default border in Firefox and Opera. */\n",
       "        border: none;\n",
       "        /* Needs to be in here for Safari polyfill so background images work as expected. */\n",
       "        background-size: auto;\n",
       "    }\n",
       "    progress:not([value]), progress:not([value])::-webkit-progress-bar {\n",
       "        background: repeating-linear-gradient(45deg, #7e7e7e, #7e7e7e 10px, #5c5c5c 10px, #5c5c5c 20px);\n",
       "    }\n",
       "    .progress-bar-interrupted, .progress-bar-interrupted::-webkit-progress-bar {\n",
       "        background: #F44336;\n",
       "    }\n",
       "</style>\n"
      ],
      "text/plain": [
       "<IPython.core.display.HTML object>"
      ]
     },
     "metadata": {},
     "output_type": "display_data"
    },
    {
     "data": {
      "text/html": [],
      "text/plain": [
       "<IPython.core.display.HTML object>"
      ]
     },
     "metadata": {},
     "output_type": "display_data"
    },
    {
     "data": {
      "text/html": [
       "\n",
       "<style>\n",
       "    /* Turns off some styling */\n",
       "    progress {\n",
       "        /* gets rid of default border in Firefox and Opera. */\n",
       "        border: none;\n",
       "        /* Needs to be in here for Safari polyfill so background images work as expected. */\n",
       "        background-size: auto;\n",
       "    }\n",
       "    progress:not([value]), progress:not([value])::-webkit-progress-bar {\n",
       "        background: repeating-linear-gradient(45deg, #7e7e7e, #7e7e7e 10px, #5c5c5c 10px, #5c5c5c 20px);\n",
       "    }\n",
       "    .progress-bar-interrupted, .progress-bar-interrupted::-webkit-progress-bar {\n",
       "        background: #F44336;\n",
       "    }\n",
       "</style>\n"
      ],
      "text/plain": [
       "<IPython.core.display.HTML object>"
      ]
     },
     "metadata": {},
     "output_type": "display_data"
    },
    {
     "data": {
      "text/html": [],
      "text/plain": [
       "<IPython.core.display.HTML object>"
      ]
     },
     "metadata": {},
     "output_type": "display_data"
    },
    {
     "data": {
      "text/html": [
       "\n",
       "<style>\n",
       "    /* Turns off some styling */\n",
       "    progress {\n",
       "        /* gets rid of default border in Firefox and Opera. */\n",
       "        border: none;\n",
       "        /* Needs to be in here for Safari polyfill so background images work as expected. */\n",
       "        background-size: auto;\n",
       "    }\n",
       "    progress:not([value]), progress:not([value])::-webkit-progress-bar {\n",
       "        background: repeating-linear-gradient(45deg, #7e7e7e, #7e7e7e 10px, #5c5c5c 10px, #5c5c5c 20px);\n",
       "    }\n",
       "    .progress-bar-interrupted, .progress-bar-interrupted::-webkit-progress-bar {\n",
       "        background: #F44336;\n",
       "    }\n",
       "</style>\n"
      ],
      "text/plain": [
       "<IPython.core.display.HTML object>"
      ]
     },
     "metadata": {},
     "output_type": "display_data"
    },
    {
     "data": {
      "text/html": [],
      "text/plain": [
       "<IPython.core.display.HTML object>"
      ]
     },
     "metadata": {},
     "output_type": "display_data"
    },
    {
     "data": {
      "text/html": [
       "<div>\n",
       "<style scoped>\n",
       "    .dataframe tbody tr th:only-of-type {\n",
       "        vertical-align: middle;\n",
       "    }\n",
       "\n",
       "    .dataframe tbody tr th {\n",
       "        vertical-align: top;\n",
       "    }\n",
       "\n",
       "    .dataframe thead th {\n",
       "        text-align: right;\n",
       "    }\n",
       "</style>\n",
       "<table border=\"1\" class=\"dataframe\">\n",
       "  <thead>\n",
       "    <tr style=\"text-align: right;\">\n",
       "      <th></th>\n",
       "      <th>Model</th>\n",
       "      <th>RMSE</th>\n",
       "      <th>MAE</th>\n",
       "    </tr>\n",
       "  </thead>\n",
       "  <tbody>\n",
       "    <tr>\n",
       "      <th>0</th>\n",
       "      <td>DotProduct_Base</td>\n",
       "      <td>0.9461</td>\n",
       "      <td>0.7360</td>\n",
       "    </tr>\n",
       "    <tr>\n",
       "      <th>1</th>\n",
       "      <td>DotProduct_y_range</td>\n",
       "      <td>0.9494</td>\n",
       "      <td>0.7503</td>\n",
       "    </tr>\n",
       "    <tr>\n",
       "      <th>2</th>\n",
       "      <td>DotProduct_bias</td>\n",
       "      <td>0.9255</td>\n",
       "      <td>0.7308</td>\n",
       "    </tr>\n",
       "    <tr>\n",
       "      <th>3</th>\n",
       "      <td>nn_param</td>\n",
       "      <td>0.9285</td>\n",
       "      <td>0.7329</td>\n",
       "    </tr>\n",
       "    <tr>\n",
       "      <th>4</th>\n",
       "      <td>Collab_learner</td>\n",
       "      <td>0.9262</td>\n",
       "      <td>0.7314</td>\n",
       "    </tr>\n",
       "    <tr>\n",
       "      <th>5</th>\n",
       "      <td>Deep_1h</td>\n",
       "      <td>0.9353</td>\n",
       "      <td>0.7328</td>\n",
       "    </tr>\n",
       "    <tr>\n",
       "      <th>6</th>\n",
       "      <td>Deep_2h</td>\n",
       "      <td>0.9392</td>\n",
       "      <td>0.7369</td>\n",
       "    </tr>\n",
       "    <tr>\n",
       "      <th>7</th>\n",
       "      <td>Deep_2h_bias_dropout</td>\n",
       "      <td>0.9361</td>\n",
       "      <td>0.7317</td>\n",
       "    </tr>\n",
       "  </tbody>\n",
       "</table>\n",
       "</div>"
      ],
      "text/plain": [
       "                  Model    RMSE     MAE\n",
       "0       DotProduct_Base  0.9461  0.7360\n",
       "1    DotProduct_y_range  0.9494  0.7503\n",
       "2       DotProduct_bias  0.9255  0.7308\n",
       "3              nn_param  0.9285  0.7329\n",
       "4        Collab_learner  0.9262  0.7314\n",
       "5               Deep_1h  0.9353  0.7328\n",
       "6               Deep_2h  0.9392  0.7369\n",
       "7  Deep_2h_bias_dropout  0.9361  0.7317"
      ]
     },
     "execution_count": 56,
     "metadata": {},
     "output_type": "execute_result"
    }
   ],
   "source": [
    "learners = [learn1, learn2, learn3, learn4, learn5, learn6, learn6_1, learn6_2]\n",
    "names = ['DotProduct_Base', 'DotProduct_y_range', 'DotProduct_bias', 'nn_param', 'Collab_learner', 'Deep_1h', 'Deep_2h', 'Deep_2h_bias_dropout']\n",
    "\n",
    "model_performance_table(learners, names)"
   ]
  },
  {
   "cell_type": "markdown",
   "id": "e0a88694-8397-449b-9c9e-bd74db1ac12a",
   "metadata": {},
   "source": [
    "- I experimented with various collaborative filtering architectures on the MovieLens 100K dataset. The basic DotProduct model served as the baseline, yielding an RMSE 0.94. After introducing rating range constraints (y_range) and bias terms, the model’s performance improved significantly.\n",
    "\n",
    "- I then implemented a CollabNN model using a multi-layer perceptron (MLP) architecture, which further enhanced generalization ability. This model currently achieves an RMSE of 0.926 and is my best-performing version so far.\n",
    "\n",
    "- In deeper architectures (with additional hidden layers and dropout), I observed a slight degradation in performance on this small-to-medium-sized dataset. This led me to carefully consider the trade-off between model complexity and dataset scale when designing architectures."
   ]
  },
  {
   "cell_type": "markdown",
   "id": "ebfb2dbd-ac99-4213-a02e-4b95e0c20e60",
   "metadata": {},
   "source": [
    "## Recommendations\n",
    "- embedding distance (cosine_similarity)\n",
    "- use the best model (`learn5` - Collab_learner) to give recommendations following:\n",
    "\n",
    "### Recommend the most similar movie by given a movie title:"
   ]
  },
  {
   "cell_type": "code",
   "execution_count": 57,
   "id": "bf0e2f05-a73a-4f02-83be-464047d99990",
   "metadata": {},
   "outputs": [],
   "source": [
    "def Rec_similar_movie(model, title):\n",
    "    movie_factors = model.model.i_weight.weight #movie weights\n",
    "    movie_idx = dls.classes['title'].o2i[title] #find the target movie's idx\n",
    "    distances = nn.CosineSimilarity(dim=1)(movie_factors, movie_factors[movie_idx][None])\n",
    "    target_idx = distances.argsort(descending=True)[1] #most similar one\n",
    "    return dls.classes['title'][target_idx]"
   ]
  },
  {
   "cell_type": "code",
   "execution_count": 58,
   "id": "03260206-5917-4c00-96dc-48119185caad",
   "metadata": {},
   "outputs": [
    {
     "data": {
      "text/plain": [
       "'Braveheart (1995)'"
      ]
     },
     "execution_count": 58,
     "metadata": {},
     "output_type": "execute_result"
    }
   ],
   "source": [
    "Rec_similar_movie(learn5, 'Titanic (1997)')"
   ]
  },
  {
   "cell_type": "markdown",
   "id": "e7aa7936-a594-43b9-a262-fcbca1e39974",
   "metadata": {},
   "source": [
    "### Recommend a user's movie rating prediction by given user_id and movie title"
   ]
  },
  {
   "cell_type": "code",
   "execution_count": 59,
   "id": "e57a87e6-9588-4891-b314-5d97f4424a80",
   "metadata": {},
   "outputs": [],
   "source": [
    "def Predict_rating(learn6, user_id, title):\n",
    "    movie_id = ratings.loc[ratings['title']==title, 'movie id'].values[0]\n",
    "    device = learn6.model.i_weight.weight.device\n",
    "    x = tensor([[user_id, movie_id]]).to(device)\n",
    "    return learn6.model(x).item()"
   ]
  },
  {
   "cell_type": "code",
   "execution_count": 60,
   "id": "1999bac7-8af3-4150-b5f3-a2166f29b22a",
   "metadata": {},
   "outputs": [
    {
     "data": {
      "text/plain": [
       "4.29523229598999"
      ]
     },
     "execution_count": 60,
     "metadata": {},
     "output_type": "execute_result"
    }
   ],
   "source": [
    "Predict_rating(learn5, user_id=12, title='Titanic (1997)')"
   ]
  },
  {
   "cell_type": "markdown",
   "id": "14bc32b4-5408-44e1-b4d0-71349af8c752",
   "metadata": {},
   "source": [
    "### Recommand a user the top-N unseen movies"
   ]
  },
  {
   "cell_type": "code",
   "execution_count": 76,
   "id": "9e63a4d2-6a4f-4168-8b45-623ba0bc3a05",
   "metadata": {},
   "outputs": [],
   "source": [
    "def Rec_top_n(user_id, n=5):\n",
    "\n",
    "    user_map = learn5.dls.classes['user id']\n",
    "    item_map = learn5.dls.classes['title']\n",
    "\n",
    "    \n",
    "    seen_titles = ratings[ratings['user id'] == user_id]['title'].values\n",
    "    all_titles = ratings['title'].unique()\n",
    "    unseen_titles = [t for t in all_titles if t not in seen_titles and t in item_map.o2i]\n",
    "\n",
    "    user_idx = user_map.o2i[user_id]\n",
    "    item_idxs = [item_map.o2i[t] for t in unseen_titles]\n",
    "\n",
    "    device = learn5.model.i_weight.weight.device\n",
    "    x = tensor([[user_idx, i] for i in item_idxs]).to(device)\n",
    "    preds = learn5.model(x).squeeze()\n",
    "\n",
    "    top_idxs = preds.argsort(descending=True)[:n]\n",
    "    top_titles = [unseen_titles[i] for i in top_idxs]\n",
    "\n",
    "    return top_titles"
   ]
  },
  {
   "cell_type": "code",
   "execution_count": 77,
   "id": "e5b33f15-3e67-4cd0-a3a6-69a1f7a6157e",
   "metadata": {},
   "outputs": [
    {
     "data": {
      "text/plain": [
       "['Braveheart (1995)',\n",
       " 'Shawshank Redemption, The (1994)',\n",
       " 'Titanic (1997)',\n",
       " \"It's a Wonderful Life (1946)\",\n",
       " 'Good Will Hunting (1997)']"
      ]
     },
     "execution_count": 77,
     "metadata": {},
     "output_type": "execute_result"
    }
   ],
   "source": [
    "Rec_top_n(12)"
   ]
  },
  {
   "cell_type": "markdown",
   "id": "04abf6b5-a4f6-481c-9514-7566e148e5ca",
   "metadata": {},
   "source": [
    "## Apply the model in Gradio demo"
   ]
  },
  {
   "cell_type": "code",
   "execution_count": 63,
   "id": "754b2efb-8103-4bdb-8b28-45d362bf19bc",
   "metadata": {},
   "outputs": [],
   "source": [
    "#learn5 is training on mps (my device), need move to cpu (gradio only cpu-running)\n",
    "learn5.model.cpu()\n",
    "learn5.export('export.pkl')\n",
    "ratings.to_csv('ratings.csv', index=False)"
   ]
  },
  {
   "cell_type": "markdown",
   "id": "33ead191-981f-465e-b668-ea78deedf76c",
   "metadata": {},
   "source": [
    "app.py"
   ]
  },
  {
   "cell_type": "code",
   "execution_count": 80,
   "id": "051da7e0-2fe1-46e0-b4db-7611d8320ade",
   "metadata": {},
   "outputs": [
    {
     "name": "stdout",
     "output_type": "stream",
     "text": [
      "* Running on local URL:  http://127.0.0.1:7865\n",
      "* Running on public URL: https://f87657a0ffeb624026.gradio.live\n",
      "\n",
      "This share link expires in 1 week. For free permanent hosting and GPU upgrades, run `gradio deploy` from the terminal in the working directory to deploy to Hugging Face Spaces (https://huggingface.co/spaces)\n"
     ]
    },
    {
     "data": {
      "text/html": [
       "<div><iframe src=\"https://f87657a0ffeb624026.gradio.live\" width=\"100%\" height=\"500\" allow=\"autoplay; camera; microphone; clipboard-read; clipboard-write;\" frameborder=\"0\" allowfullscreen></iframe></div>"
      ],
      "text/plain": [
       "<IPython.core.display.HTML object>"
      ]
     },
     "metadata": {},
     "output_type": "display_data"
    },
    {
     "data": {
      "text/plain": []
     },
     "execution_count": 80,
     "metadata": {},
     "output_type": "execute_result"
    }
   ],
   "source": [
    "import gradio as gr\n",
    "import pandas as pd\n",
    "import torch\n",
    "from fastai.collab import load_learner\n",
    "from fastai.torch_core import tensor\n",
    "\n",
    "# ✅ Load model & data\n",
    "learn5 = load_learner('export.pkl')\n",
    "ratings = pd.read_csv('ratings.csv')\n",
    "\n",
    "# 👇 封闭环境，使用外部变量\n",
    "def Rec_top_n(user_id, n=5):\n",
    "    # user 和 item 的映射表\n",
    "    user_map = learn.dls.classes['user id']\n",
    "    item_map = learn.dls.classes['title']\n",
    "\n",
    "    if user_id not in user_map.o2i:\n",
    "        return f\"❌ User ID {user_id} not found in training data.\"\n",
    "\n",
    "    # 获取用户已看和未看电影（按 title）\n",
    "    seen_titles = ratings[ratings['user id'] == user_id]['title'].values\n",
    "    all_titles = ratings['title'].unique()\n",
    "    unseen_titles = [t for t in all_titles if t not in seen_titles and t in item_map.o2i]\n",
    "\n",
    "    if len(unseen_titles) == 0:\n",
    "        return f\"⚠️ No unseen movies for user {user_id}\"\n",
    "\n",
    "    user_idx = user_map.o2i[user_id]\n",
    "    item_idxs = [item_map.o2i[t] for t in unseen_titles]\n",
    "\n",
    "    device = learn.model.i_weight.weight.device\n",
    "    x = tensor([[user_idx, i] for i in item_idxs]).to(device)\n",
    "    preds = learn.model(x).squeeze()\n",
    "\n",
    "    top_idxs = preds.argsort(descending=True)[:n]\n",
    "    top_titles = [unseen_titles[i] for i in top_idxs]\n",
    "\n",
    "    return \"\\n\".join([f\"{i+1}. {title}\" for i, title in enumerate(top_titles)])\n",
    "\n",
    "demo = gr.Interface(\n",
    "    fn=Rec_top_n,\n",
    "    inputs=gr.Number(label=\"User ID (Hint: 1~943)\"),\n",
    "    outputs=gr.Textbox(label=\"Top Movie Recommendations\"),\n",
    "    title=\"🎬 Movie Recommender (MovieLens 100K)\",\n",
    "    description=\"Enter a User ID to get top-N movie recommendations based on collaborative filtering.\"\n",
    ")\n",
    "\n",
    "demo.launch(share=True)"
   ]
  },
  {
   "cell_type": "markdown",
   "id": "3e226ef5-6649-42ed-abf5-97a3e5e0aee8",
   "metadata": {},
   "source": [
    "### Upload files to build in Huggingface Space:\n",
    "- files: `app.py`, `requirements.txt`, `export.pkl`, `ratings.csv`\n",
    "- check the link: https://huggingface.co/spaces/apple9855/movie-recommend "
   ]
  },
  {
   "cell_type": "code",
   "execution_count": null,
   "id": "c56c097f-d17d-4b87-98dd-f33c33dd5cd1",
   "metadata": {},
   "outputs": [],
   "source": []
  },
  {
   "cell_type": "code",
   "execution_count": null,
   "id": "f19fb0aa-edba-4535-a1e4-0e83ad3b3eca",
   "metadata": {},
   "outputs": [],
   "source": []
  }
 ],
 "metadata": {
  "kernelspec": {
   "display_name": "fastai",
   "language": "python",
   "name": "fastai"
  },
  "language_info": {
   "codemirror_mode": {
    "name": "ipython",
    "version": 3
   },
   "file_extension": ".py",
   "mimetype": "text/x-python",
   "name": "python",
   "nbconvert_exporter": "python",
   "pygments_lexer": "ipython3",
   "version": "3.11.10"
  }
 },
 "nbformat": 4,
 "nbformat_minor": 5
}
